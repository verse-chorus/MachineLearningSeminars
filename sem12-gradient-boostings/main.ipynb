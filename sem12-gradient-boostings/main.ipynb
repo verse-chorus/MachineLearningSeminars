{
 "cells": [
  {
   "cell_type": "markdown",
   "metadata": {
    "id": "vzOavFVJteMB",
    "slideshow": {
     "slide_type": "slide"
    }
   },
   "source": [
    "# Композиции классификаторов (градиентный бустинг)"
   ]
  },
  {
   "cell_type": "code",
   "execution_count": null,
   "metadata": {
    "id": "UCn8xDPhteMB",
    "slideshow": {
     "slide_type": "skip"
    }
   },
   "outputs": [],
   "source": [
    "import warnings\n",
    "warnings.filterwarnings(\"ignore\")\n",
    "\n",
    "!pip install catboost\n",
    "!pip install lightgbm"
   ]
  },
  {
   "cell_type": "markdown",
   "metadata": {
    "id": "s3qWY0M5LA6r",
    "slideshow": {
     "slide_type": "slide"
    }
   },
   "source": [
    "## Библиотеки"
   ]
  },
  {
   "cell_type": "code",
   "execution_count": 2,
   "metadata": {
    "id": "K2_VhyWeteMB",
    "slideshow": {
     "slide_type": "subslide"
    }
   },
   "outputs": [],
   "source": [
    "import matplotlib.pyplot as plt\n",
    "from matplotlib.image import imread\n",
    "from mpl_toolkits import mplot3d\n",
    "from copy import deepcopy\n",
    "from mlxtend.plotting import plot_decision_regions\n",
    "import seaborn as sns\n",
    "import pandas as pd\n",
    "from tqdm.notebook import tqdm\n",
    "from scipy.spatial.distance import cdist\n",
    "import numpy as np\n",
    "from sklearn import tree, base\n",
    "import itertools\n",
    "from sklearn.tree import DecisionTreeClassifier, DecisionTreeRegressor\n",
    "from sklearn.ensemble import (RandomForestClassifier, AdaBoostClassifier, \n",
    "                              GradientBoostingClassifier, BaggingClassifier)\n",
    "from sklearn.svm import SVC, SVR\n",
    "from sklearn.linear_model import LogisticRegression, LinearRegression\n",
    "from sklearn.metrics import classification_report, roc_auc_score, roc_curve\n",
    "from sklearn.model_selection import KFold, ParameterGrid\n",
    "from sklearn.model_selection import cross_val_score, RepeatedStratifiedKFold, RepeatedKFold\n",
    "from sklearn.datasets import make_classification, make_regression, load_wine, load_boston\n",
    "from sklearn.model_selection import train_test_split\n",
    "from sklearn.decomposition import PCA\n",
    "from torchvision import datasets, transforms\n",
    "import torch\n",
    "\n",
    "import xgboost as xgb\n",
    "from catboost import CatBoostClassifier\n",
    "import lightgbm as lgb"
   ]
  },
  {
   "cell_type": "markdown",
   "metadata": {
    "id": "vqhbF2bhteMB",
    "slideshow": {
     "slide_type": "slide"
    }
   },
   "source": [
    "## ComBoost"
   ]
  },
  {
   "cell_type": "markdown",
   "metadata": {
    "id": "gd9uoXmriG-D",
    "slideshow": {
     "slide_type": "subslide"
    }
   },
   "source": [
    "Рассмотрим следующее ансамблирование ответов:\n",
    "$$\n",
    "b(x) = \\frac{1}{T}\\sum_{t=1}^{T} b_t(x)\n",
    "$$\n",
    "\n",
    "Рассмотрим отступ объектов:\n",
    "$$\n",
    "M(x) = \\Gamma_y\\bigr(x\\bigr) - \\max_{y} \\Gamma_y\\bigr(x\\bigr)\n",
    "$$\n",
    "\n",
    "Идея в том, что каждый $b_t$ компенсирует ошибки ансамбля, состоящего из всех предыдущих моделей:\n",
    "$$\n",
    "Q\\bigr(b_t, U_t\\bigr) = \\sum_{x \\in U_t}\\left[M(x) < 0\\right] \\to \\min_{b_t},\n",
    "$$\n",
    "$$\n",
    "U_t = \\left\\{x| M_l < M_{t-1}(x) < M_g\\right\\}.\n",
    "$$\n"
   ]
  },
  {
   "cell_type": "code",
   "execution_count": 3,
   "metadata": {
    "id": "beirFGPXteMB",
    "slideshow": {
     "slide_type": "skip"
    }
   },
   "outputs": [],
   "source": [
    "class ComBoost(object):\n",
    "    def __init__(self, base_estimator=None, n_estimators=10):\n",
    "        self.n_estimators = n_estimators\n",
    "        self.base_estimator = DecisionTreeClassifier(max_depth=1)\n",
    "        if base_estimator:\n",
    "            self.base_estimator = base_estimator\n",
    "        self.b = [base.clone(self.base_estimator) for _ in range(self.n_estimators)]\n",
    "        \n",
    "    def get_params(self, deep=True):\n",
    "        return {'n_estimators': self.n_estimators, \n",
    "                'base_estimator': self.base_estimator}\n",
    "\n",
    "    @staticmethod\n",
    "    def fix_predict_proba(pred, b, b0):\n",
    "        new_pred = np.zeros((len(pred), len(b0.classes_)))\n",
    "        for i, cl in enumerate(b.classes_):\n",
    "            new_pred[:, cl] = pred[:, i]\n",
    "        return new_pred\n",
    "        \n",
    "    def fit(self, X, Y, l0=0, l1=100, l2=None, dl=100):\n",
    "        def margin(pr, y):\n",
    "            cop = pr.copy()\n",
    "            cop[y] = -1\n",
    "            return pr[y] - cop.max()\n",
    "        \n",
    "        if l2 is None:\n",
    "            l2 = len(X)\n",
    "        \n",
    "        for t, b in enumerate(self.b):\n",
    "            if t == 0:\n",
    "                b.fit(X, Y)\n",
    "                pred = b.predict_proba(X)\n",
    "                M = np.array([margin(pred[i], Y[i]) for i in range(len(Y))])\n",
    "            else:\n",
    "                indexes = sorted(np.arange(0, len(X)), key = lambda i: M[i])\n",
    "                X_new = X[indexes]\n",
    "                Y_new = Y[indexes]\n",
    "                dict_of_param = []\n",
    "                for k in range(l1, l2, dl):\n",
    "                    new_item = {'l0': l0, \n",
    "                                'k': k}\n",
    "                    \n",
    "                    local_b = base.clone(self.base_estimator)\n",
    "                    local_b.fit(X_new[l0:k], Y_new[l0:k])\n",
    "                    \n",
    "                    pred = self.fix_predict_proba(local_b.predict_proba(X), local_b, self.b[0])\n",
    "                    M_new = np.array([margin(pred[i], Y[i]) for i in range(len(Y))])\n",
    "                    \n",
    "                    new_item['Q'] = (M+M_new < 0).sum()\n",
    "                    dict_of_param.append(new_item)\n",
    "                    \n",
    "                element = sorted(dict_of_param, key=lambda x: x['Q'])[0]\n",
    "                b.fit(X_new[element['l0']:element['k']], \n",
    "                      Y_new[element['l0']:element['k']])\n",
    "                \n",
    "                pred = self.fix_predict_proba(b.predict_proba(X), local_b, self.b[0])\n",
    "                M = M + np.array([margin(pred[i], Y[i]) for i in range(len(Y))])\n",
    "                \n",
    "                    \n",
    "    def predict(self, X):\n",
    "        probas = self.predict_proba(X)\n",
    "        return np.argmax(probas, axis=1)\n",
    "    \n",
    "    def predict_proba(self, X):\n",
    "        return np.mean([self.fix_predict_proba(elem.predict_proba(X), elem, self.b[0]) for elem in self.b], axis=0)"
   ]
  },
  {
   "cell_type": "markdown",
   "metadata": {
    "id": "zTd5BOnViG-D",
    "slideshow": {
     "slide_type": "subslide"
    }
   },
   "source": [
    "### Пример использования\n",
    "\n",
    "Данный метод позволяет строить ансамли для произвольных базовых функций. Далее приводится пример:\n",
    "- Решающего дерева\n",
    "- SVM\n",
    "- Логистической регресии"
   ]
  },
  {
   "cell_type": "code",
   "execution_count": 4,
   "metadata": {
    "colab": {
     "base_uri": "https://localhost:8080/"
    },
    "id": "NmrGEYhliG-D",
    "outputId": "b5423bef-0498-4109-e12b-6ef52f44219a",
    "slideshow": {
     "slide_type": "subslide"
    }
   },
   "outputs": [
    {
     "name": "stdout",
     "output_type": "stream",
     "text": [
      "SCORE: 0.704 (0.049)\n"
     ]
    }
   ],
   "source": [
    "X, y = make_classification(n_samples=1000, n_features=20, n_informative=15, n_redundant=5, random_state=6)\n",
    "model = DecisionTreeClassifier(max_depth=2)\n",
    "\n",
    "cv = RepeatedStratifiedKFold(n_splits=10, n_repeats=3, random_state=1)\n",
    "n_scores = cross_val_score(model, X, y, scoring='accuracy', cv=cv, n_jobs=-1, error_score='raise')\n",
    "print('SCORE: %.3f (%.3f)' % (np.mean(n_scores), np.std(n_scores)))"
   ]
  },
  {
   "cell_type": "code",
   "execution_count": 5,
   "metadata": {
    "colab": {
     "base_uri": "https://localhost:8080/"
    },
    "id": "cT-L6N5OteMC",
    "outputId": "982a1f16-bf59-495a-b24b-d42020bcba18",
    "slideshow": {
     "slide_type": "subslide"
    }
   },
   "outputs": [
    {
     "name": "stdout",
     "output_type": "stream",
     "text": [
      "SCORE: 0.81 (0.03)\n"
     ]
    }
   ],
   "source": [
    "X, y = make_classification(n_samples=1000, n_features=20, n_informative=15, n_redundant=5, random_state=6)\n",
    "model = ComBoost(DecisionTreeClassifier(max_depth=2))\n",
    "\n",
    "cv = RepeatedStratifiedKFold(n_splits=10, n_repeats=3, random_state=1)\n",
    "n_scores = cross_val_score(model, X, y, scoring='accuracy', cv=cv, n_jobs=-1, error_score='raise')\n",
    "print('SCORE: %.2f (%.2f)' % (np.mean(n_scores), np.std(n_scores)))"
   ]
  },
  {
   "cell_type": "code",
   "execution_count": 6,
   "metadata": {
    "colab": {
     "base_uri": "https://localhost:8080/"
    },
    "id": "FwA_NVz5iG-D",
    "outputId": "f084ccb3-f6c2-494b-e287-223291c02482",
    "slideshow": {
     "slide_type": "subslide"
    }
   },
   "outputs": [
    {
     "name": "stdout",
     "output_type": "stream",
     "text": [
      "SCORE: 0.94 (0.02)\n"
     ]
    }
   ],
   "source": [
    "X, y = make_classification(n_samples=1000, n_features=20, n_informative=15, n_redundant=5, random_state=6)\n",
    "model = SVC(probability=True)\n",
    "\n",
    "cv = RepeatedStratifiedKFold(n_splits=10, n_repeats=3, random_state=1)\n",
    "n_scores = cross_val_score(model, X, y, scoring='accuracy', cv=cv, n_jobs=-1, error_score='raise')\n",
    "print('SCORE: %.2f (%.2f)' % (np.mean(n_scores), np.std(n_scores)))"
   ]
  },
  {
   "cell_type": "code",
   "execution_count": 7,
   "metadata": {
    "colab": {
     "base_uri": "https://localhost:8080/"
    },
    "id": "lLmBqjS9teMC",
    "outputId": "6e9cdc48-5de0-4cf6-b061-79401a1cc402",
    "slideshow": {
     "slide_type": "subslide"
    }
   },
   "outputs": [
    {
     "name": "stdout",
     "output_type": "stream",
     "text": [
      "SCORE: 0.95 (0.02)\n"
     ]
    }
   ],
   "source": [
    "X, y = make_classification(n_samples=1000, n_features=20, n_informative=15, n_redundant=5, random_state=6)\n",
    "model = ComBoost(SVC(probability=True))\n",
    "\n",
    "cv = RepeatedStratifiedKFold(n_splits=10, n_repeats=3, random_state=1)\n",
    "n_scores = cross_val_score(model, X, y, scoring='accuracy', cv=cv, n_jobs=-1, error_score='raise')\n",
    "print('SCORE: %.2f (%.2f)' % (np.mean(n_scores), np.std(n_scores)))"
   ]
  },
  {
   "cell_type": "code",
   "execution_count": 8,
   "metadata": {
    "colab": {
     "base_uri": "https://localhost:8080/"
    },
    "id": "7HV18A4kiG-E",
    "outputId": "77dcb2e0-9eea-4471-a608-d732acc9a39a",
    "slideshow": {
     "slide_type": "subslide"
    }
   },
   "outputs": [
    {
     "name": "stdout",
     "output_type": "stream",
     "text": [
      "SCORE: 0.80 (0.03)\n"
     ]
    }
   ],
   "source": [
    "X, y = make_classification(n_samples=1000, n_features=20, n_informative=15, n_redundant=5, random_state=6)\n",
    "model = LogisticRegression()\n",
    "\n",
    "cv = RepeatedStratifiedKFold(n_splits=10, n_repeats=3, random_state=1)\n",
    "n_scores = cross_val_score(model, X, y, scoring='accuracy', cv=cv, n_jobs=-1, error_score='raise')\n",
    "print('SCORE: %.2f (%.2f)' % (np.mean(n_scores), np.std(n_scores)))"
   ]
  },
  {
   "cell_type": "code",
   "execution_count": 9,
   "metadata": {
    "colab": {
     "base_uri": "https://localhost:8080/"
    },
    "id": "cjZQNVGIteMC",
    "outputId": "c4f754e1-5704-464f-f58f-dd1fcbcc56e3",
    "slideshow": {
     "slide_type": "subslide"
    }
   },
   "outputs": [
    {
     "name": "stdout",
     "output_type": "stream",
     "text": [
      "SCORE: 0.80 (0.03)\n"
     ]
    }
   ],
   "source": [
    "X, y = make_classification(n_samples=1000, n_features=20, n_informative=15, n_redundant=5, random_state=6)\n",
    "model = ComBoost(LogisticRegression())\n",
    "\n",
    "cv = RepeatedStratifiedKFold(n_splits=10, n_repeats=3, random_state=1)\n",
    "n_scores = cross_val_score(model, X, y, scoring='accuracy', cv=cv, n_jobs=-1, error_score='raise')\n",
    "print('SCORE: %.2f (%.2f)' % (np.mean(n_scores), np.std(n_scores)))"
   ]
  },
  {
   "cell_type": "markdown",
   "metadata": {
    "id": "Q9U6IpKqiG-E",
    "slideshow": {
     "slide_type": "subslide"
    }
   },
   "source": [
    "### Выводы\n",
    "Получаем, что ансамблирование не ухудшает качества на кроссвалидации. В случае простых моделей (дерево с ограниченной глубиной), качество улучшается значительно, а в случае сложны моделей (SVM) качество улучшается не значительно."
   ]
  },
  {
   "cell_type": "markdown",
   "metadata": {
    "id": "MmhySFdjteMC",
    "slideshow": {
     "slide_type": "slide"
    }
   },
   "source": [
    "## Gradient Boosting"
   ]
  },
  {
   "cell_type": "markdown",
   "metadata": {
    "id": "tunQC0X_iG-E",
    "slideshow": {
     "slide_type": "subslide"
    }
   },
   "source": [
    "Рассмотрим следующее ансамблирование ответов:\n",
    "$$\n",
    "b(x) = \\sum_{t=1}^{T} b_t(x)\n",
    "$$\n",
    "\n",
    "Рассмотрим среднеквадратичекое отклонение:\n",
    "$$\n",
    "L = \\sum_{i=1}^{l}\\left(b(x_i) - y_i\\right)^2\n",
    "$$\n",
    "\n",
    "Идея состоит в том, что каждая новая модель пытается аппроксимировать остатки которые оставили прошлые модели:\n",
    "$$\n",
    "L_t = \\sum_{i=1}^{l}\\left(b_t(x_i) - (y_i - \\sum_{j=1}^{t}b_j(x_i))\\right)^2 \\min_{b_t}\n",
    "$$"
   ]
  },
  {
   "cell_type": "code",
   "execution_count": 10,
   "metadata": {
    "id": "hLC8MVOuteMC",
    "slideshow": {
     "slide_type": "subslide"
    }
   },
   "outputs": [],
   "source": [
    "class GradientBoostingRegression(object):\n",
    "    def __init__(self, base_estimator=None, n_estimators=10):\n",
    "        self.n_estimators = n_estimators\n",
    "        self.base_estimator = DecisionTreeRegressor(max_depth=1)\n",
    "        if base_estimator:\n",
    "            self.base_estimator = base_estimator\n",
    "            \n",
    "        self.b = [base.clone(self.base_estimator) for _ in range(self.n_estimators)]\n",
    "        \n",
    "    def get_params(self, deep=True):\n",
    "        return {'n_estimators': self.n_estimators, \n",
    "                'base_estimator': self.base_estimator}\n",
    "        \n",
    "    def score(self, X, Y):\n",
    "        return ((self.predict(X) - Y)**2).mean()\n",
    "        \n",
    "    def fit(self, X, Y):\n",
    "        residual = Y.copy()\n",
    "        for t, b in enumerate(self.b):\n",
    "            b.fit(X, residual)\n",
    "            residual = residual - b.predict(X)\n",
    "            \n",
    "    def predict(self, X):\n",
    "        return np.sum([elem.predict(X) for elem in self.b], axis=0)\n",
    "    "
   ]
  },
  {
   "cell_type": "markdown",
   "metadata": {
    "id": "Ov9tj-V0iG-E",
    "slideshow": {
     "slide_type": "subslide"
    }
   },
   "source": [
    "### Пример использования\n",
    "\n",
    "Данный метод позволяет строить ансамли для произвольных базовых функций. Далее приводится пример:\n",
    "- Решающего дерева\n",
    "- SVM\n",
    "- Линейная регресии"
   ]
  },
  {
   "cell_type": "code",
   "execution_count": 11,
   "metadata": {
    "colab": {
     "base_uri": "https://localhost:8080/"
    },
    "id": "dbmQUjEQiG-E",
    "outputId": "d20bd54e-dbdc-43a2-fd47-552f3ac0fedf",
    "slideshow": {
     "slide_type": "subslide"
    }
   },
   "outputs": [
    {
     "name": "stdout",
     "output_type": "stream",
     "text": [
      "SCORE: 0.37 (0.08)\n"
     ]
    }
   ],
   "source": [
    "X, y = make_regression(n_samples=1000, n_features=20, random_state=6)\n",
    "model = DecisionTreeRegressor(max_depth=2)\n",
    "\n",
    "cv = RepeatedKFold(n_splits=10, n_repeats=3, random_state=1)\n",
    "n_scores = cross_val_score(model, X, y, cv=cv, n_jobs=-1)\n",
    "print('SCORE: %.2f (%.2f)' % (np.mean(n_scores), np.std(n_scores)))"
   ]
  },
  {
   "cell_type": "code",
   "execution_count": 12,
   "metadata": {
    "colab": {
     "base_uri": "https://localhost:8080/"
    },
    "id": "GqEYhEkNteMC",
    "outputId": "6d47739a-99db-4829-cdb2-81404065899a",
    "slideshow": {
     "slide_type": "subslide"
    }
   },
   "outputs": [
    {
     "name": "stdout",
     "output_type": "stream",
     "text": [
      "SCORE: 5392.99 (837.37)\n"
     ]
    }
   ],
   "source": [
    "X, y = make_regression(n_samples=1000, n_features=20, random_state=6)\n",
    "model = GradientBoostingRegression(DecisionTreeRegressor(max_depth=2))\n",
    "\n",
    "cv = RepeatedKFold(n_splits=10, n_repeats=3, random_state=1)\n",
    "n_scores = cross_val_score(model, X, y, cv=cv, n_jobs=-1)\n",
    "print('SCORE: %.2f (%.2f)' % (np.mean(n_scores), np.std(n_scores)))"
   ]
  },
  {
   "cell_type": "code",
   "execution_count": 13,
   "metadata": {
    "colab": {
     "base_uri": "https://localhost:8080/"
    },
    "id": "79A8FivWiG-E",
    "outputId": "575615a2-e4be-4774-b182-96db930e47ce",
    "slideshow": {
     "slide_type": "subslide"
    }
   },
   "outputs": [
    {
     "name": "stdout",
     "output_type": "stream",
     "text": [
      "SCORE: 0.11 (0.01)\n"
     ]
    }
   ],
   "source": [
    "X, y = make_regression(n_samples=1000, n_features=20, random_state=6)\n",
    "model = SVR()\n",
    "\n",
    "cv = RepeatedKFold(n_splits=10, n_repeats=3, random_state=1)\n",
    "n_scores = cross_val_score(model, X, y, cv=cv, n_jobs=-1)\n",
    "print('SCORE: %.2f (%.2f)' % (np.mean(n_scores), np.std(n_scores)))"
   ]
  },
  {
   "cell_type": "code",
   "execution_count": 14,
   "metadata": {
    "colab": {
     "base_uri": "https://localhost:8080/"
    },
    "id": "93SBWXASteMD",
    "outputId": "2230f693-24a3-4f1c-9813-2b98168f9a22",
    "slideshow": {
     "slide_type": "subslide"
    }
   },
   "outputs": [
    {
     "name": "stdout",
     "output_type": "stream",
     "text": [
      "SCORE: 5340.38 (1169.58)\n"
     ]
    }
   ],
   "source": [
    "X, y = make_regression(n_samples=1000, n_features=20, random_state=6)\n",
    "model = GradientBoostingRegression(SVR())\n",
    "\n",
    "cv = RepeatedKFold(n_splits=10, n_repeats=3, random_state=1)\n",
    "n_scores = cross_val_score(model, X, y, cv=cv, n_jobs=-1)\n",
    "print('SCORE: %.2f (%.2f)' % (np.mean(n_scores), np.std(n_scores)))"
   ]
  },
  {
   "cell_type": "code",
   "execution_count": 15,
   "metadata": {
    "colab": {
     "base_uri": "https://localhost:8080/"
    },
    "id": "lEV6CIwfiG-E",
    "outputId": "348934ed-9e2c-4d39-a861-2f25b629d980",
    "slideshow": {
     "slide_type": "subslide"
    }
   },
   "outputs": [
    {
     "name": "stdout",
     "output_type": "stream",
     "text": [
      "SCORE: 1.00 (0.00)\n"
     ]
    }
   ],
   "source": [
    "X, y = make_regression(n_samples=1000, n_features=20, random_state=6)\n",
    "model = SVR(kernel='linear')\n",
    "\n",
    "cv = RepeatedKFold(n_splits=10, n_repeats=3, random_state=1)\n",
    "n_scores = cross_val_score(model, X, y, cv=cv, n_jobs=-1)\n",
    "print('SCORE: %.2f (%.2f)' % (np.mean(n_scores), np.std(n_scores)))"
   ]
  },
  {
   "cell_type": "code",
   "execution_count": 16,
   "metadata": {
    "colab": {
     "base_uri": "https://localhost:8080/"
    },
    "id": "0PnBbGcxteMD",
    "outputId": "3e10a70d-ecd9-4388-d9ed-f0d603c13895",
    "slideshow": {
     "slide_type": "subslide"
    }
   },
   "outputs": [
    {
     "name": "stdout",
     "output_type": "stream",
     "text": [
      "SCORE: 0.00 (0.00)\n"
     ]
    }
   ],
   "source": [
    "X, y = make_regression(n_samples=1000, n_features=20, random_state=6)\n",
    "model = GradientBoostingRegression(SVR(kernel='linear'))\n",
    "\n",
    "cv = RepeatedKFold(n_splits=10, n_repeats=3, random_state=1)\n",
    "n_scores = cross_val_score(model, X, y, cv=cv, n_jobs=-1)\n",
    "print('SCORE: %.2f (%.2f)' % (np.mean(n_scores), np.std(n_scores)))"
   ]
  },
  {
   "cell_type": "code",
   "execution_count": 17,
   "metadata": {
    "colab": {
     "base_uri": "https://localhost:8080/"
    },
    "id": "6lF4uqhxiG-E",
    "outputId": "279ac90f-a622-4787-9dc9-1948e3c79bc8",
    "slideshow": {
     "slide_type": "subslide"
    }
   },
   "outputs": [
    {
     "name": "stdout",
     "output_type": "stream",
     "text": [
      "SCORE: 1.00 (0.00)\n"
     ]
    }
   ],
   "source": [
    "X, y = make_regression(n_samples=1000, n_features=20, random_state=6)\n",
    "model = LinearRegression()\n",
    "\n",
    "cv = RepeatedKFold(n_splits=10, n_repeats=3, random_state=1)\n",
    "n_scores = cross_val_score(model, X, y, cv=cv, n_jobs=-1)\n",
    "print('SCORE: %.2f (%.2f)' % (np.mean(n_scores), np.std(n_scores)))"
   ]
  },
  {
   "cell_type": "code",
   "execution_count": 18,
   "metadata": {
    "colab": {
     "base_uri": "https://localhost:8080/"
    },
    "id": "UhYy17TTteMD",
    "outputId": "04dd6a4e-7dcf-48fa-d1c3-b8751955d03b",
    "slideshow": {
     "slide_type": "subslide"
    }
   },
   "outputs": [
    {
     "name": "stdout",
     "output_type": "stream",
     "text": [
      "SCORE: 0.00 (0.00)\n"
     ]
    }
   ],
   "source": [
    "X, y = make_regression(n_samples=1000, n_features=20, random_state=6)\n",
    "model = GradientBoostingRegression(LinearRegression())\n",
    "\n",
    "cv = RepeatedKFold(n_splits=10, n_repeats=3, random_state=1)\n",
    "n_scores = cross_val_score(model, X, y, cv=cv, n_jobs=-1)\n",
    "print('SCORE: %.2f (%.2f)' % (np.mean(n_scores), np.std(n_scores)))"
   ]
  },
  {
   "cell_type": "markdown",
   "metadata": {
    "id": "uubgZ13WiG-E",
    "slideshow": {
     "slide_type": "subslide"
    }
   },
   "source": [
    "### Вывод\n",
    "\n",
    "Качество очень сильно зависит от выбранной базовой функции"
   ]
  },
  {
   "cell_type": "markdown",
   "metadata": {
    "id": "nrFZTB31teMD",
    "slideshow": {
     "slide_type": "slide"
    }
   },
   "source": [
    "## XGBoost"
   ]
  },
  {
   "cell_type": "markdown",
   "metadata": {
    "id": "wCCwpr6xiG-E",
    "slideshow": {
     "slide_type": "subslide"
    }
   },
   "source": [
    "Пакет `xgboost` является один из библиотек для построения деревьев на основе градиентного бустинга. В основном все такие библиотеки работают только с решающими деревьями (ансамбли принято строить над деревьями), подробное описания модификации описано в [статье](https://www.kdd.org/kdd2016/papers/files/rfp0697-chenAemb.pdf).\n",
    "\n",
    "- Ускорение заключается в более оптимальном подборе порогов в каждой вершине дерева.\n",
    "- Модифицировали алгоритм для паралельного обучения деревьев (напомним, что классический бустинг не позволяет выполнять паралельную обработку).\n",
    "- Специальные инженерные трюки для сбалансированого использования кеша.\n",
    "\n",
    "Данный framework имеет следующие плюсы:\n",
    "- Хорошая документация.\n",
    "- Позволяет легко паралелить вычисления.\n",
    "- Легко использовать с `sklearn` и `numpy` (но с потерей производительности)\n",
    "\n",
    "Недостатки:\n",
    "- Нету поддержки GPU."
   ]
  },
  {
   "cell_type": "code",
   "execution_count": 19,
   "metadata": {
    "colab": {
     "base_uri": "https://localhost:8080/"
    },
    "id": "r4PnCcUkteMD",
    "outputId": "807a89c0-f477-448f-ac57-a5afe2074ba3",
    "slideshow": {
     "slide_type": "subslide"
    }
   },
   "outputs": [
    {
     "name": "stdout",
     "output_type": "stream",
     "text": [
      "SCORE: 0.88 (0.03)\n"
     ]
    }
   ],
   "source": [
    "X, y = make_classification(n_samples=1000, n_features=20, n_informative=15, n_redundant=5, random_state=6)\n",
    "model = xgb.XGBClassifier(objective='binary:logistic', random_state=6)\n",
    "\n",
    "cv = RepeatedStratifiedKFold(n_splits=10, n_repeats=3, random_state=1)\n",
    "n_scores = cross_val_score(model, X, y, cv=cv, n_jobs=-1)\n",
    "print('SCORE: %.2f (%.2f)' % (np.mean(n_scores), np.std(n_scores)))"
   ]
  },
  {
   "cell_type": "code",
   "execution_count": 20,
   "metadata": {
    "colab": {
     "base_uri": "https://localhost:8080/"
    },
    "id": "vFLWA6VBteMD",
    "outputId": "634777ee-000b-44e1-fc88-207c710f00ef",
    "slideshow": {
     "slide_type": "subslide"
    }
   },
   "outputs": [
    {
     "name": "stdout",
     "output_type": "stream",
     "text": [
      "SCORE: 0.93 (0.01)\n"
     ]
    }
   ],
   "source": [
    "X, y = make_regression(n_samples=1000, n_features=20, random_state=6)\n",
    "model = xgb.XGBRegressor(objective='reg:squarederror', random_state=6)\n",
    "\n",
    "cv = RepeatedKFold(n_splits=10, n_repeats=3, random_state=1)\n",
    "n_scores = cross_val_score(model, X, y, cv=cv, n_jobs=-1)\n",
    "print('SCORE: %.2f (%.2f)' % (np.mean(n_scores), np.std(n_scores)))"
   ]
  },
  {
   "cell_type": "markdown",
   "metadata": {
    "id": "DH9UarKliG-F",
    "slideshow": {
     "slide_type": "slide"
    }
   },
   "source": [
    "## LightGBM"
   ]
  },
  {
   "cell_type": "markdown",
   "metadata": {
    "id": "tjHhQjheiG-F",
    "slideshow": {
     "slide_type": "subslide"
    }
   },
   "source": [
    "Пакет `lightgbm` представлен Microsoft как реализация градиентного бустинга над деревьями. Работа с подробным описаниям введений описана [тут](https://papers.nips.cc/paper/2017/file/6449f44a102fde848669bdd9eb6b76fa-Paper.pdf).\n",
    "\n",
    "Сам метод модифицирует метод XGboost с дополнительной процедурой ресемплинга объектов для ускорения построения деревьев.\n",
    "\n",
    "\n",
    "Данный фраймворк имеет следующие положительные моменты:\n",
    "- Хорошая документация.\n",
    "- Имеется поддержка GPU.\n",
    "- Имеет поддержку категориальных признаков на основе метода Фишера, который описан [тут](https://lightgbm.readthedocs.io/en/latest/Features.html#optimal-split-for-categorical-features).\n",
    "\n",
    "Недостатки:\n",
    "- Сложно использовать с `numpy` и `sklearn` так как требует специфичного формата данных."
   ]
  },
  {
   "cell_type": "code",
   "execution_count": 21,
   "metadata": {
    "colab": {
     "base_uri": "https://localhost:8080/"
    },
    "id": "xrcLqutziG-F",
    "outputId": "47518693-311f-418c-c954-1e0817430fac",
    "slideshow": {
     "slide_type": "subslide"
    }
   },
   "outputs": [
    {
     "data": {
      "text/plain": [
       "0.946"
      ]
     },
     "execution_count": 21,
     "metadata": {
      "tags": []
     },
     "output_type": "execute_result"
    }
   ],
   "source": [
    "X, y = make_classification(n_samples=1000, n_features=20, n_informative=15, n_redundant=5, random_state=6)\n",
    "\n",
    "train_data = lgb.Dataset(X, label=y)\n",
    "param = {'num_leaves': 31, \n",
    "         'objective': 'multiclass', \n",
    "         'num_class': 2, \n",
    "         'metric': ['multi_logloss']}\n",
    "\n",
    "num_round = 10\n",
    "bst = lgb.train(param, train_data, num_boost_round=10)\n",
    "\n",
    "(bst.predict(X).argmax(axis=-1) == y).mean()"
   ]
  },
  {
   "cell_type": "markdown",
   "metadata": {
    "id": "2QK6_SiPteMD",
    "slideshow": {
     "slide_type": "slide"
    }
   },
   "source": [
    "## CatBoost"
   ]
  },
  {
   "cell_type": "markdown",
   "metadata": {
    "id": "4bqSCFb-iG-F",
    "slideshow": {
     "slide_type": "subslide"
    }
   },
   "source": [
    "Пакет `catboost` представлен Яндексом для построения ансамблей моделей на базе решающих деревьев. Подробное описание доступно в [работе](https://papers.nips.cc/paper/2018/file/14491b756b3a51daac41c24863285549-Paper.pdf).\n",
    "\n",
    "- Основной идеей и посылом для создания CatBoost была разработка метода работы с категориальными признаками (отсюда и названия).\n",
    "- В классическом машинном обучении принято категориальные признаки кодировать One-Hot векторами. В работе предлагался метод, который выделяет кластеры внутри категориального признака на основе предлагаемых в работе статистик.\n",
    "\n",
    "Данный framework имеет следующие плюсы:\n",
    "- Хорошая документация.\n",
    "- Позволяет легко паралелить вычисления на GPU.\n",
    "- Легко использовать с `sklearn` и `numpy` (но с потерей производительности).\n",
    "- Поддержка категориальных признаков (причем продвинутая, в отличии от простых методов Фишера).\n",
    "\n",
    "Недостатки:\n",
    "- Во многих задачах показывает себя хуже чем XGboost и LightGBM.\n",
    "- В статье показано, что данный метод работает лучше чем XGboost и LightGBM, но в реальных кейсах это не так..."
   ]
  },
  {
   "cell_type": "code",
   "execution_count": 22,
   "metadata": {
    "colab": {
     "base_uri": "https://localhost:8080/"
    },
    "id": "8H7GxrtHteMD",
    "outputId": "54dc17f9-18dc-425b-f215-dc63f9e92f03",
    "slideshow": {
     "slide_type": "subslide"
    }
   },
   "outputs": [
    {
     "name": "stdout",
     "output_type": "stream",
     "text": [
      "SCORE: 0.75 (0.03)\n"
     ]
    }
   ],
   "source": [
    "X, y = make_classification(n_samples=1000, n_features=20, n_informative=15, n_redundant=5, random_state=6)\n",
    "\n",
    "model = CatBoostClassifier(iterations=2,\n",
    "                           depth=2,\n",
    "                           learning_rate=1,\n",
    "                           loss_function='Logloss',\n",
    "                           verbose=True, task_type='CPU')\n",
    "\n",
    "cv = RepeatedStratifiedKFold(n_splits=10, n_repeats=3, random_state=1)\n",
    "n_scores = cross_val_score(model, X, y, cv=cv, n_jobs=-1)\n",
    "print('SCORE: %.2f (%.2f)' % (np.mean(n_scores), np.std(n_scores)))"
   ]
  },
  {
   "cell_type": "code",
   "execution_count": 24,
   "metadata": {
    "colab": {
     "base_uri": "https://localhost:8080/"
    },
    "id": "HcYKogs2tgxE",
    "outputId": "18a17456-9fa3-4480-de76-28348bbb356f",
    "slideshow": {
     "slide_type": "subslide"
    }
   },
   "outputs": [
    {
     "name": "stdout",
     "output_type": "stream",
     "text": [
      "SCORE: 0.73 (0.04)\n"
     ]
    }
   ],
   "source": [
    "X, y = make_classification(n_samples=1000, n_features=20, n_informative=15, n_redundant=5, random_state=6)\n",
    "\n",
    "model = CatBoostClassifier(iterations=2,\n",
    "                           depth=2,\n",
    "                           learning_rate=1,\n",
    "                           loss_function='Logloss',\n",
    "                           verbose=True, task_type='GPU')\n",
    "\n",
    "cv = RepeatedStratifiedKFold(n_splits=10, n_repeats=3, random_state=1)\n",
    "n_scores = cross_val_score(model, X, y, cv=cv, n_jobs=-1)\n",
    "print('SCORE: %.2f (%.2f)' % (np.mean(n_scores), np.std(n_scores)))"
   ]
  }
 ],
 "metadata": {
  "accelerator": "GPU",
  "celltoolbar": "Slideshow",
  "colab": {
   "name": "main.ipynb",
   "provenance": []
  },
  "kernelspec": {
   "display_name": "Python 3 (ipykernel)",
   "language": "python",
   "name": "python3"
  },
  "language_info": {
   "codemirror_mode": {
    "name": "ipython",
    "version": 3
   },
   "file_extension": ".py",
   "mimetype": "text/x-python",
   "name": "python",
   "nbconvert_exporter": "python",
   "pygments_lexer": "ipython3",
   "version": "3.10.9"
  }
 },
 "nbformat": 4,
 "nbformat_minor": 1
}
