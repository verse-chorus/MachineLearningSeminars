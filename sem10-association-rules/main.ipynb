{
 "cells": [
  {
   "cell_type": "markdown",
   "metadata": {
    "slideshow": {
     "slide_type": "slide"
    }
   },
   "source": [
    "# Поиск ассоциативных правил"
   ]
  },
  {
   "cell_type": "code",
   "execution_count": 1,
   "metadata": {
    "slideshow": {
     "slide_type": "skip"
    }
   },
   "outputs": [],
   "source": [
    "import warnings\n",
    "warnings.filterwarnings(\"ignore\")"
   ]
  },
  {
   "cell_type": "markdown",
   "metadata": {
    "id": "s3qWY0M5LA6r",
    "slideshow": {
     "slide_type": "slide"
    }
   },
   "source": [
    "## Библиотеки"
   ]
  },
  {
   "cell_type": "code",
   "execution_count": 2,
   "metadata": {
    "slideshow": {
     "slide_type": "subslide"
    }
   },
   "outputs": [],
   "source": [
    "import matplotlib.pyplot as plt\n",
    "from matplotlib.image import imread\n",
    "from mpl_toolkits import mplot3d\n",
    "from matplotlib import gridspec\n",
    "from copy import deepcopy\n",
    "from mlxtend.plotting import plot_decision_regions\n",
    "import seaborn as sns\n",
    "import pandas as pd\n",
    "from tqdm.notebook import tqdm\n",
    "from scipy.special import softmax\n",
    "from scipy.spatial.distance import cdist\n",
    "import numpy as np\n",
    "from sklearn import tree\n",
    "import itertools\n",
    "from sklearn.tree import DecisionTreeClassifier, DecisionTreeRegressor\n",
    "from sklearn.ensemble import RandomForestClassifier\n",
    "from sklearn.preprocessing import StandardScaler\n",
    "from sklearn.svm import SVC, SVR\n",
    "from sklearn.linear_model import LogisticRegression\n",
    "from sklearn.metrics import classification_report, roc_auc_score, roc_curve\n",
    "from sklearn.metrics import auc\n",
    "from sklearn.model_selection import KFold, ParameterGrid\n",
    "from sklearn.datasets import make_classification, load_wine, load_boston\n",
    "from sklearn.model_selection import train_test_split\n",
    "from sklearn.decomposition import PCA\n",
    "from torchvision import datasets\n",
    "import pyfpgrowth\n",
    "from torchvision import transforms"
   ]
  },
  {
   "cell_type": "markdown",
   "metadata": {
    "slideshow": {
     "slide_type": "slide"
    }
   },
   "source": [
    "## Ассоциативные правила"
   ]
  },
  {
   "cell_type": "markdown",
   "metadata": {
    "slideshow": {
     "slide_type": "subslide"
    }
   },
   "source": [
    "Рассмотрим выборку:\n",
    "$$\n",
    "\\mathbf{X} \\in \\left\\{0, 1\\right\\}^{l \\times n}\n",
    "$$\n",
    "\n",
    "Рассмотрим множество всех конъюнктивных предикатов над множеством признаков:\n",
    "$$\n",
    "\\Phi = \\left\\{\\varphi| \\varphi\\bigr(\\mathbf{x}_i\\bigr) = \\wedge_{j \\in \\mathcal{J}}x_i^j \\quad \\mathcal{J} \\subset \\{1 \\cdots n\\}\\right\\} \\qquad |\\Phi| = 2^{n}\n",
    "$$\n",
    "\n",
    "Частота встречаемости набора:\n",
    "$$\n",
    "\\nu\\bigr(\\varphi\\bigr) = \\frac{1}{l}\\sum_{i=1}^{l}\\varphi\\bigr(\\mathbf{x}_i\\bigr)\n",
    "$$\n",
    "\n",
    "Минимальная поддержка $\\delta$:\n",
    "$$\n",
    "    \\nu\\bigr(\\varphi\\bigr) \\geq \\delta\n",
    "$$"
   ]
  },
  {
   "cell_type": "markdown",
   "metadata": {
    "slideshow": {
     "slide_type": "subslide"
    }
   },
   "source": [
    "Наборы $\\varphi, \\psi \\in \\Phi: \\psi\\cap\\varphi=\\emptyset$ совместно часто встречаемы, если:\n",
    "$$\n",
    "\\nu\\bigr(\\varphi \\cup \\psi \\bigr) \\geq \\delta\n",
    "$$\n",
    "\n",
    "Условная совстречаемость наборов на уровне значимости $\\varkappa$:\n",
    "$$\n",
    "\\nu\\bigr(\\psi | \\varphi \\bigr) = \\frac{\\nu\\bigr(\\varphi \\cup \\psi \\bigr)}{\\nu\\bigr(\\varphi\\bigr)} \\geq \\varkappa\n",
    "$$"
   ]
  },
  {
   "cell_type": "markdown",
   "metadata": {
    "slideshow": {
     "slide_type": "slide"
    }
   },
   "source": [
    "## Простой пример"
   ]
  },
  {
   "cell_type": "markdown",
   "metadata": {
    "slideshow": {
     "slide_type": "subslide"
    }
   },
   "source": [
    "###### синтетический датасет"
   ]
  },
  {
   "cell_type": "code",
   "execution_count": 3,
   "metadata": {
    "slideshow": {
     "slide_type": "subslide"
    }
   },
   "outputs": [],
   "source": [
    "np.random.seed(0)\n",
    "l = 200\n",
    "X = np.vstack([np.random.choice([0, 1], size=l, p=[0.5,0.5]), \n",
    "               np.random.choice([0, 1], size=l, p=[0.5,0.5])]).T\n",
    "\n",
    "X = np.hstack([X, \n",
    "               X*np.random.choice([0, 1], size=[l, 2], p=[0.2,0.8])])"
   ]
  },
  {
   "cell_type": "markdown",
   "metadata": {
    "slideshow": {
     "slide_type": "subslide"
    }
   },
   "source": [
    "###### генерим все возможные наборы"
   ]
  },
  {
   "cell_type": "code",
   "execution_count": 4,
   "metadata": {
    "slideshow": {
     "slide_type": "subslide"
    }
   },
   "outputs": [],
   "source": [
    "Phi = list(itertools.product([0,1], repeat=4))\n",
    "kappa = delta = 0.35\n",
    "\n",
    "result = []\n",
    "deltas = []\n",
    "for phi in Phi:\n",
    "    res = np.sum(\n",
    "        ((X*phi).sum(axis=-1) == np.sum(phi, axis=-1))\\\n",
    "        *np.array(np.sum(phi, axis=-1), dtype=np.bool))/l\n",
    "    \n",
    "    result.append(int(res >= delta))\n",
    "    deltas.append(res)"
   ]
  },
  {
   "cell_type": "markdown",
   "metadata": {
    "slideshow": {
     "slide_type": "subslide"
    }
   },
   "source": [
    "###### получаем список частых наборов"
   ]
  },
  {
   "cell_type": "code",
   "execution_count": 5,
   "metadata": {
    "slideshow": {
     "slide_type": "subslide"
    }
   },
   "outputs": [
    {
     "data": {
      "text/plain": [
       "[((0, 0, 0, 0), 0, 0.0),\n",
       " ((0, 0, 0, 1), 1, 0.37),\n",
       " ((0, 0, 1, 0), 1, 0.445),\n",
       " ((0, 0, 1, 1), 0, 0.14),\n",
       " ((0, 1, 0, 0), 1, 0.475),\n",
       " ((0, 1, 0, 1), 1, 0.37),\n",
       " ((0, 1, 1, 0), 0, 0.175),\n",
       " ((0, 1, 1, 1), 0, 0.14),\n",
       " ((1, 0, 0, 0), 1, 0.53),\n",
       " ((1, 0, 0, 1), 0, 0.175),\n",
       " ((1, 0, 1, 0), 1, 0.445),\n",
       " ((1, 0, 1, 1), 0, 0.14),\n",
       " ((1, 1, 0, 0), 0, 0.225),\n",
       " ((1, 1, 0, 1), 0, 0.175),\n",
       " ((1, 1, 1, 0), 0, 0.175),\n",
       " ((1, 1, 1, 1), 0, 0.14)]"
      ]
     },
     "execution_count": 5,
     "metadata": {},
     "output_type": "execute_result"
    }
   ],
   "source": [
    "list(zip(Phi, result, deltas))"
   ]
  },
  {
   "cell_type": "markdown",
   "metadata": {
    "slideshow": {
     "slide_type": "subslide"
    }
   },
   "source": [
    "###### какие из частых наборов являются совместно частыми"
   ]
  },
  {
   "cell_type": "code",
   "execution_count": 6,
   "metadata": {
    "slideshow": {
     "slide_type": "subslide"
    }
   },
   "outputs": [
    {
     "data": {
      "text/plain": [
       "[((0, 0, 0, 0), 0, 0.0),\n",
       " ((0, 0, 0, 1), 1, 0.37),\n",
       " ((0, 0, 1, 0), 1, 0.445),\n",
       " ((0, 0, 1, 1), 0, 0.14),\n",
       " ((0, 1, 0, 0), 1, 0.475),\n",
       " ((0, 1, 0, 1), 1, 0.37),\n",
       " ((0, 1, 1, 0), 0, 0.175),\n",
       " ((0, 1, 1, 1), 0, 0.14),\n",
       " ((1, 0, 0, 0), 1, 0.53),\n",
       " ((1, 0, 0, 1), 0, 0.175),\n",
       " ((1, 0, 1, 0), 1, 0.445),\n",
       " ((1, 0, 1, 1), 0, 0.14),\n",
       " ((1, 1, 0, 0), 0, 0.225),\n",
       " ((1, 1, 0, 1), 0, 0.175),\n",
       " ((1, 1, 1, 0), 0, 0.175),\n",
       " ((1, 1, 1, 1), 0, 0.14)]"
      ]
     },
     "execution_count": 6,
     "metadata": {},
     "output_type": "execute_result"
    }
   ],
   "source": [
    "list(zip(Phi, result, deltas))"
   ]
  },
  {
   "cell_type": "markdown",
   "metadata": {
    "slideshow": {
     "slide_type": "subslide"
    }
   },
   "source": [
    "###### какие из частых наборов являются условно частыми"
   ]
  },
  {
   "cell_type": "code",
   "execution_count": 7,
   "metadata": {
    "slideshow": {
     "slide_type": "subslide"
    }
   },
   "outputs": [
    {
     "data": {
      "text/plain": [
       "[((0, 0, 0, 0), 0, 0.0),\n",
       " ((0, 0, 0, 1), 1, 0.37),\n",
       " ((0, 0, 1, 0), 1, 0.445),\n",
       " ((0, 0, 1, 1), 0, 0.14),\n",
       " ((0, 1, 0, 0), 1, 0.475),\n",
       " ((0, 1, 0, 1), 1, 0.37),\n",
       " ((0, 1, 1, 0), 0, 0.175),\n",
       " ((0, 1, 1, 1), 0, 0.14),\n",
       " ((1, 0, 0, 0), 1, 0.53),\n",
       " ((1, 0, 0, 1), 0, 0.175),\n",
       " ((1, 0, 1, 0), 1, 0.445),\n",
       " ((1, 0, 1, 1), 0, 0.14),\n",
       " ((1, 1, 0, 0), 0, 0.225),\n",
       " ((1, 1, 0, 1), 0, 0.175),\n",
       " ((1, 1, 1, 0), 0, 0.175),\n",
       " ((1, 1, 1, 1), 0, 0.14)]"
      ]
     },
     "execution_count": 7,
     "metadata": {},
     "output_type": "execute_result"
    }
   ],
   "source": [
    "list(zip(Phi, result, deltas))"
   ]
  },
  {
   "cell_type": "markdown",
   "metadata": {
    "slideshow": {
     "slide_type": "slide"
    }
   },
   "source": [
    "## Свойство антимонотонности"
   ]
  },
  {
   "cell_type": "markdown",
   "metadata": {
    "slideshow": {
     "slide_type": "subslide"
    }
   },
   "source": [
    "В приведенном выше примере легко заметить свойство антиминотонности.\n",
    "\n",
    "$$\n",
    "    \\forall \\varphi, \\psi \\in \\Phi: \\varphi \\subset \\psi \\Rightarrow \\nu\\bigr(\\varphi\\bigr) \\geq \\nu\\bigr(\\psi\\bigr)\n",
    "$$\n",
    "\n",
    "Получаем следствия, которые также легко наблюдаемы в приведенном выше примере:\n",
    "1. $\\varphi$ частый, тогда $\\forall \\psi \\subset \\varphi$ следует, что $\\psi$ частый.\n",
    "2. $\\psi$ не частый, тогда $\\forall \\psi \\subset \\varphi$ следует, что $\\varphi$ не частый.\n",
    "3. $\\nu\\bigr(\\varphi\\cup \\psi\\bigr) \\leq \\nu\\bigr(\\varphi\\bigr)$\n"
   ]
  },
  {
   "cell_type": "markdown",
   "metadata": {
    "slideshow": {
     "slide_type": "slide"
    }
   },
   "source": [
    "## Алгоритм APriory\n",
    "Реализация взята с [сайта](https://adataanalyst.com/machine-learning/apriori-algorithm-python-3-0/)."
   ]
  },
  {
   "cell_type": "code",
   "execution_count": 8,
   "metadata": {
    "slideshow": {
     "slide_type": "subslide"
    }
   },
   "outputs": [],
   "source": [
    "dataSet = [np.where(x == 1)[0].tolist() for x in X]"
   ]
  },
  {
   "cell_type": "code",
   "execution_count": 9,
   "metadata": {
    "slideshow": {
     "slide_type": "subslide"
    }
   },
   "outputs": [],
   "source": [
    "def createC1(dataSet):\n",
    "    C1 = []\n",
    "    for transaction in dataSet:\n",
    "        for item in transaction:\n",
    "            if not [item] in C1:\n",
    "                C1.append([item])\n",
    "                \n",
    "    C1.sort()\n",
    "    return list(map(frozenset, C1))"
   ]
  },
  {
   "cell_type": "code",
   "execution_count": 10,
   "metadata": {
    "slideshow": {
     "slide_type": "subslide"
    }
   },
   "outputs": [],
   "source": [
    "def scanD(D, Ck, minSupport):\n",
    "    ssCnt = {}\n",
    "    for tid in D:\n",
    "        for can in Ck:\n",
    "            if can.issubset(tid):\n",
    "                if not can in ssCnt: ssCnt[can]=1\n",
    "                else: ssCnt[can] += 1\n",
    "    numItems = float(len(D))\n",
    "    retList = []\n",
    "    supportData = {}\n",
    "    for key in ssCnt:\n",
    "        support = ssCnt[key]/numItems\n",
    "        if support >= minSupport:\n",
    "            retList.insert(0,key)\n",
    "        supportData[key] = support\n",
    "    return retList, supportData"
   ]
  },
  {
   "cell_type": "code",
   "execution_count": 11,
   "metadata": {
    "slideshow": {
     "slide_type": "subslide"
    }
   },
   "outputs": [],
   "source": [
    "def aprioriGen(Lk, k):\n",
    "    retList = []\n",
    "    lenLk = len(Lk)\n",
    "    for i in range(lenLk):\n",
    "        for j in range(i+1, lenLk): \n",
    "            L1 = list(Lk[i])[:k-2]; L2 = list(Lk[j])[:k-2]\n",
    "            L1.sort(); L2.sort()\n",
    "            if L1==L2:\n",
    "                retList.append(Lk[i] | Lk[j])\n",
    "    return retList"
   ]
  },
  {
   "cell_type": "code",
   "execution_count": 12,
   "metadata": {
    "slideshow": {
     "slide_type": "subslide"
    }
   },
   "outputs": [],
   "source": [
    "def apriori(dataSet, minSupport):\n",
    "    C1 = createC1(dataSet)\n",
    "    D = list(map(set, dataSet))\n",
    "    L1, supportData = scanD(D, C1, minSupport)\n",
    "    L = [L1]\n",
    "    k = 2\n",
    "    while (len(L[k-2]) > 0):\n",
    "        Ck = aprioriGen(L[k-2], k)\n",
    "        Lk, supK = scanD(D, Ck, minSupport)\n",
    "        supportData.update(supK)\n",
    "        L.append(Lk)\n",
    "        k += 1\n",
    "    return L, supportData"
   ]
  },
  {
   "cell_type": "code",
   "execution_count": 13,
   "metadata": {
    "slideshow": {
     "slide_type": "subslide"
    }
   },
   "outputs": [],
   "source": [
    "L, suppData = apriori(dataSet, delta)"
   ]
  },
  {
   "cell_type": "code",
   "execution_count": 14,
   "metadata": {
    "slideshow": {
     "slide_type": "subslide"
    }
   },
   "outputs": [
    {
     "data": {
      "text/plain": [
       "[[frozenset({3}), frozenset({1}), frozenset({2}), frozenset({0})],\n",
       " [frozenset({1, 3}), frozenset({0, 2})],\n",
       " []]"
      ]
     },
     "execution_count": 14,
     "metadata": {},
     "output_type": "execute_result"
    }
   ],
   "source": [
    "L"
   ]
  },
  {
   "cell_type": "code",
   "execution_count": 15,
   "metadata": {
    "slideshow": {
     "slide_type": "subslide"
    }
   },
   "outputs": [],
   "source": [
    "def generateRules(L, supportData, minConf=0.7):\n",
    "    bigRuleList = []\n",
    "    for i in range(1, len(L)):\n",
    "        for freqSet in L[i]:\n",
    "            H1 = [frozenset([item]) for item in freqSet]\n",
    "            if (i > 1):\n",
    "                rulesFromConseq(freqSet, H1, supportData, bigRuleList, minConf)\n",
    "            else:\n",
    "                calcConf(freqSet, H1, supportData, bigRuleList, minConf)\n",
    "    return bigRuleList         "
   ]
  },
  {
   "cell_type": "code",
   "execution_count": 16,
   "metadata": {
    "slideshow": {
     "slide_type": "subslide"
    }
   },
   "outputs": [],
   "source": [
    "def rulesFromConseq(freqSet, H, supportData, brl, minConf=0.7):\n",
    "    m = len(H[0])\n",
    "    if (len(freqSet) > (m + 1)):\n",
    "        Hmp1 = aprioriGen(H, m+1)\n",
    "        Hmp1 = calcConf(freqSet, Hmp1, supportData, brl, minConf)\n",
    "        if (len(Hmp1) > 1):\n",
    "            rulesFromConseq(freqSet, Hmp1, supportData, brl, minConf)"
   ]
  },
  {
   "cell_type": "code",
   "execution_count": 17,
   "metadata": {
    "slideshow": {
     "slide_type": "subslide"
    }
   },
   "outputs": [],
   "source": [
    "def calcConf(freqSet, H, supportData, brl, minConf=0.7):\n",
    "    prunedH = []\n",
    "    for conseq in H:\n",
    "        conf = supportData[freqSet]/supportData[freqSet-conseq] #calc confidence\n",
    "        if conf >= minConf: \n",
    "            print (freqSet-conseq,'-->',conseq,'conf:',conf)\n",
    "            brl.append((freqSet-conseq, conseq, conf))\n",
    "            prunedH.append(conseq)\n",
    "    return prunedH"
   ]
  },
  {
   "cell_type": "code",
   "execution_count": 18,
   "metadata": {
    "slideshow": {
     "slide_type": "subslide"
    }
   },
   "outputs": [
    {
     "name": "stdout",
     "output_type": "stream",
     "text": [
      "frozenset({3}) --> frozenset({1}) conf: 1.0\n",
      "frozenset({1}) --> frozenset({3}) conf: 0.7789473684210526\n",
      "frozenset({2}) --> frozenset({0}) conf: 1.0\n",
      "frozenset({0}) --> frozenset({2}) conf: 0.8396226415094339\n"
     ]
    }
   ],
   "source": [
    "rules = generateRules(L, suppData, minConf=0.7)"
   ]
  },
  {
   "cell_type": "markdown",
   "metadata": {
    "slideshow": {
     "slide_type": "slide"
    }
   },
   "source": [
    "## Псевдореальные данные "
   ]
  },
  {
   "cell_type": "markdown",
   "metadata": {
    "slideshow": {
     "slide_type": "subslide"
    }
   },
   "source": [
    "Как говорилось ранее, постановка задачи поиска асоциативных правил берет начало из задачи поиска закономерстей в чеках покупателей. Постановка задачи простая: нужно понять какие продукты покупатели покупают вместе.\n",
    "\n",
    "Данные чеков покупок взята с одного из конкурсов [kaggle](https://www.kaggle.com/shwetabh123/basketballoptimisation).\n"
   ]
  },
  {
   "cell_type": "code",
   "execution_count": 19,
   "metadata": {
    "slideshow": {
     "slide_type": "subslide"
    }
   },
   "outputs": [
    {
     "data": {
      "text/html": [
       "<div>\n",
       "<style scoped>\n",
       "    .dataframe tbody tr th:only-of-type {\n",
       "        vertical-align: middle;\n",
       "    }\n",
       "\n",
       "    .dataframe tbody tr th {\n",
       "        vertical-align: top;\n",
       "    }\n",
       "\n",
       "    .dataframe thead th {\n",
       "        text-align: right;\n",
       "    }\n",
       "</style>\n",
       "<table border=\"1\" class=\"dataframe\">\n",
       "  <thead>\n",
       "    <tr style=\"text-align: right;\">\n",
       "      <th></th>\n",
       "      <th>0</th>\n",
       "      <th>1</th>\n",
       "      <th>2</th>\n",
       "      <th>3</th>\n",
       "      <th>4</th>\n",
       "      <th>5</th>\n",
       "      <th>6</th>\n",
       "      <th>7</th>\n",
       "      <th>8</th>\n",
       "      <th>9</th>\n",
       "      <th>10</th>\n",
       "      <th>11</th>\n",
       "      <th>12</th>\n",
       "      <th>13</th>\n",
       "      <th>14</th>\n",
       "      <th>15</th>\n",
       "      <th>16</th>\n",
       "      <th>17</th>\n",
       "      <th>18</th>\n",
       "      <th>19</th>\n",
       "    </tr>\n",
       "  </thead>\n",
       "  <tbody>\n",
       "    <tr>\n",
       "      <th>0</th>\n",
       "      <td>shrimp</td>\n",
       "      <td>almonds</td>\n",
       "      <td>avocado</td>\n",
       "      <td>vegetables mix</td>\n",
       "      <td>green grapes</td>\n",
       "      <td>whole weat flour</td>\n",
       "      <td>yams</td>\n",
       "      <td>cottage cheese</td>\n",
       "      <td>energy drink</td>\n",
       "      <td>tomato juice</td>\n",
       "      <td>low fat yogurt</td>\n",
       "      <td>green tea</td>\n",
       "      <td>honey</td>\n",
       "      <td>salad</td>\n",
       "      <td>mineral water</td>\n",
       "      <td>salmon</td>\n",
       "      <td>antioxydant juice</td>\n",
       "      <td>frozen smoothie</td>\n",
       "      <td>spinach</td>\n",
       "      <td>olive oil</td>\n",
       "    </tr>\n",
       "    <tr>\n",
       "      <th>1</th>\n",
       "      <td>burgers</td>\n",
       "      <td>meatballs</td>\n",
       "      <td>eggs</td>\n",
       "      <td>NaN</td>\n",
       "      <td>NaN</td>\n",
       "      <td>NaN</td>\n",
       "      <td>NaN</td>\n",
       "      <td>NaN</td>\n",
       "      <td>NaN</td>\n",
       "      <td>NaN</td>\n",
       "      <td>NaN</td>\n",
       "      <td>NaN</td>\n",
       "      <td>NaN</td>\n",
       "      <td>NaN</td>\n",
       "      <td>NaN</td>\n",
       "      <td>NaN</td>\n",
       "      <td>NaN</td>\n",
       "      <td>NaN</td>\n",
       "      <td>NaN</td>\n",
       "      <td>NaN</td>\n",
       "    </tr>\n",
       "    <tr>\n",
       "      <th>2</th>\n",
       "      <td>chutney</td>\n",
       "      <td>NaN</td>\n",
       "      <td>NaN</td>\n",
       "      <td>NaN</td>\n",
       "      <td>NaN</td>\n",
       "      <td>NaN</td>\n",
       "      <td>NaN</td>\n",
       "      <td>NaN</td>\n",
       "      <td>NaN</td>\n",
       "      <td>NaN</td>\n",
       "      <td>NaN</td>\n",
       "      <td>NaN</td>\n",
       "      <td>NaN</td>\n",
       "      <td>NaN</td>\n",
       "      <td>NaN</td>\n",
       "      <td>NaN</td>\n",
       "      <td>NaN</td>\n",
       "      <td>NaN</td>\n",
       "      <td>NaN</td>\n",
       "      <td>NaN</td>\n",
       "    </tr>\n",
       "    <tr>\n",
       "      <th>3</th>\n",
       "      <td>turkey</td>\n",
       "      <td>avocado</td>\n",
       "      <td>NaN</td>\n",
       "      <td>NaN</td>\n",
       "      <td>NaN</td>\n",
       "      <td>NaN</td>\n",
       "      <td>NaN</td>\n",
       "      <td>NaN</td>\n",
       "      <td>NaN</td>\n",
       "      <td>NaN</td>\n",
       "      <td>NaN</td>\n",
       "      <td>NaN</td>\n",
       "      <td>NaN</td>\n",
       "      <td>NaN</td>\n",
       "      <td>NaN</td>\n",
       "      <td>NaN</td>\n",
       "      <td>NaN</td>\n",
       "      <td>NaN</td>\n",
       "      <td>NaN</td>\n",
       "      <td>NaN</td>\n",
       "    </tr>\n",
       "    <tr>\n",
       "      <th>4</th>\n",
       "      <td>mineral water</td>\n",
       "      <td>milk</td>\n",
       "      <td>energy bar</td>\n",
       "      <td>whole wheat rice</td>\n",
       "      <td>green tea</td>\n",
       "      <td>NaN</td>\n",
       "      <td>NaN</td>\n",
       "      <td>NaN</td>\n",
       "      <td>NaN</td>\n",
       "      <td>NaN</td>\n",
       "      <td>NaN</td>\n",
       "      <td>NaN</td>\n",
       "      <td>NaN</td>\n",
       "      <td>NaN</td>\n",
       "      <td>NaN</td>\n",
       "      <td>NaN</td>\n",
       "      <td>NaN</td>\n",
       "      <td>NaN</td>\n",
       "      <td>NaN</td>\n",
       "      <td>NaN</td>\n",
       "    </tr>\n",
       "  </tbody>\n",
       "</table>\n",
       "</div>"
      ],
      "text/plain": [
       "              0          1           2                 3             4   \\\n",
       "0         shrimp    almonds     avocado    vegetables mix  green grapes   \n",
       "1        burgers  meatballs        eggs               NaN           NaN   \n",
       "2        chutney        NaN         NaN               NaN           NaN   \n",
       "3         turkey    avocado         NaN               NaN           NaN   \n",
       "4  mineral water       milk  energy bar  whole wheat rice     green tea   \n",
       "\n",
       "                 5     6               7             8             9   \\\n",
       "0  whole weat flour  yams  cottage cheese  energy drink  tomato juice   \n",
       "1               NaN   NaN             NaN           NaN           NaN   \n",
       "2               NaN   NaN             NaN           NaN           NaN   \n",
       "3               NaN   NaN             NaN           NaN           NaN   \n",
       "4               NaN   NaN             NaN           NaN           NaN   \n",
       "\n",
       "               10         11     12     13             14      15  \\\n",
       "0  low fat yogurt  green tea  honey  salad  mineral water  salmon   \n",
       "1             NaN        NaN    NaN    NaN            NaN     NaN   \n",
       "2             NaN        NaN    NaN    NaN            NaN     NaN   \n",
       "3             NaN        NaN    NaN    NaN            NaN     NaN   \n",
       "4             NaN        NaN    NaN    NaN            NaN     NaN   \n",
       "\n",
       "                  16               17       18         19  \n",
       "0  antioxydant juice  frozen smoothie  spinach  olive oil  \n",
       "1                NaN              NaN      NaN        NaN  \n",
       "2                NaN              NaN      NaN        NaN  \n",
       "3                NaN              NaN      NaN        NaN  \n",
       "4                NaN              NaN      NaN        NaN  "
      ]
     },
     "execution_count": 19,
     "metadata": {},
     "output_type": "execute_result"
    }
   ],
   "source": [
    "dataset = pd.read_csv('data/data.csv', header = None)\n",
    "\n",
    "dataset.head()"
   ]
  },
  {
   "cell_type": "code",
   "execution_count": 20,
   "metadata": {
    "slideshow": {
     "slide_type": "subslide"
    }
   },
   "outputs": [
    {
     "data": {
      "text/html": [
       "<div>\n",
       "<style scoped>\n",
       "    .dataframe tbody tr th:only-of-type {\n",
       "        vertical-align: middle;\n",
       "    }\n",
       "\n",
       "    .dataframe tbody tr th {\n",
       "        vertical-align: top;\n",
       "    }\n",
       "\n",
       "    .dataframe thead th {\n",
       "        text-align: right;\n",
       "    }\n",
       "</style>\n",
       "<table border=\"1\" class=\"dataframe\">\n",
       "  <thead>\n",
       "    <tr style=\"text-align: right;\">\n",
       "      <th></th>\n",
       "      <th>0</th>\n",
       "      <th>1</th>\n",
       "      <th>2</th>\n",
       "      <th>3</th>\n",
       "      <th>4</th>\n",
       "      <th>5</th>\n",
       "      <th>6</th>\n",
       "      <th>7</th>\n",
       "      <th>8</th>\n",
       "      <th>9</th>\n",
       "      <th>10</th>\n",
       "      <th>11</th>\n",
       "      <th>12</th>\n",
       "      <th>13</th>\n",
       "      <th>14</th>\n",
       "      <th>15</th>\n",
       "      <th>16</th>\n",
       "      <th>17</th>\n",
       "      <th>18</th>\n",
       "      <th>19</th>\n",
       "    </tr>\n",
       "  </thead>\n",
       "  <tbody>\n",
       "    <tr>\n",
       "      <th>0</th>\n",
       "      <td>shrimp</td>\n",
       "      <td>almonds</td>\n",
       "      <td>avocado</td>\n",
       "      <td>vegetables mix</td>\n",
       "      <td>green grapes</td>\n",
       "      <td>whole weat flour</td>\n",
       "      <td>yams</td>\n",
       "      <td>cottage cheese</td>\n",
       "      <td>energy drink</td>\n",
       "      <td>tomato juice</td>\n",
       "      <td>low fat yogurt</td>\n",
       "      <td>green tea</td>\n",
       "      <td>honey</td>\n",
       "      <td>salad</td>\n",
       "      <td>mineral water</td>\n",
       "      <td>salmon</td>\n",
       "      <td>antioxydant juice</td>\n",
       "      <td>frozen smoothie</td>\n",
       "      <td>spinach</td>\n",
       "      <td>olive oil</td>\n",
       "    </tr>\n",
       "    <tr>\n",
       "      <th>1</th>\n",
       "      <td>burgers</td>\n",
       "      <td>meatballs</td>\n",
       "      <td>eggs</td>\n",
       "      <td>eggs</td>\n",
       "      <td>eggs</td>\n",
       "      <td>eggs</td>\n",
       "      <td>eggs</td>\n",
       "      <td>eggs</td>\n",
       "      <td>eggs</td>\n",
       "      <td>eggs</td>\n",
       "      <td>eggs</td>\n",
       "      <td>eggs</td>\n",
       "      <td>eggs</td>\n",
       "      <td>eggs</td>\n",
       "      <td>eggs</td>\n",
       "      <td>eggs</td>\n",
       "      <td>eggs</td>\n",
       "      <td>eggs</td>\n",
       "      <td>eggs</td>\n",
       "      <td>eggs</td>\n",
       "    </tr>\n",
       "    <tr>\n",
       "      <th>2</th>\n",
       "      <td>chutney</td>\n",
       "      <td>chutney</td>\n",
       "      <td>chutney</td>\n",
       "      <td>chutney</td>\n",
       "      <td>chutney</td>\n",
       "      <td>chutney</td>\n",
       "      <td>chutney</td>\n",
       "      <td>chutney</td>\n",
       "      <td>chutney</td>\n",
       "      <td>chutney</td>\n",
       "      <td>chutney</td>\n",
       "      <td>chutney</td>\n",
       "      <td>chutney</td>\n",
       "      <td>chutney</td>\n",
       "      <td>chutney</td>\n",
       "      <td>chutney</td>\n",
       "      <td>chutney</td>\n",
       "      <td>chutney</td>\n",
       "      <td>chutney</td>\n",
       "      <td>chutney</td>\n",
       "    </tr>\n",
       "    <tr>\n",
       "      <th>3</th>\n",
       "      <td>turkey</td>\n",
       "      <td>avocado</td>\n",
       "      <td>avocado</td>\n",
       "      <td>avocado</td>\n",
       "      <td>avocado</td>\n",
       "      <td>avocado</td>\n",
       "      <td>avocado</td>\n",
       "      <td>avocado</td>\n",
       "      <td>avocado</td>\n",
       "      <td>avocado</td>\n",
       "      <td>avocado</td>\n",
       "      <td>avocado</td>\n",
       "      <td>avocado</td>\n",
       "      <td>avocado</td>\n",
       "      <td>avocado</td>\n",
       "      <td>avocado</td>\n",
       "      <td>avocado</td>\n",
       "      <td>avocado</td>\n",
       "      <td>avocado</td>\n",
       "      <td>avocado</td>\n",
       "    </tr>\n",
       "    <tr>\n",
       "      <th>4</th>\n",
       "      <td>mineral water</td>\n",
       "      <td>milk</td>\n",
       "      <td>energy bar</td>\n",
       "      <td>whole wheat rice</td>\n",
       "      <td>green tea</td>\n",
       "      <td>green tea</td>\n",
       "      <td>green tea</td>\n",
       "      <td>green tea</td>\n",
       "      <td>green tea</td>\n",
       "      <td>green tea</td>\n",
       "      <td>green tea</td>\n",
       "      <td>green tea</td>\n",
       "      <td>green tea</td>\n",
       "      <td>green tea</td>\n",
       "      <td>green tea</td>\n",
       "      <td>green tea</td>\n",
       "      <td>green tea</td>\n",
       "      <td>green tea</td>\n",
       "      <td>green tea</td>\n",
       "      <td>green tea</td>\n",
       "    </tr>\n",
       "  </tbody>\n",
       "</table>\n",
       "</div>"
      ],
      "text/plain": [
       "              0          1           2                 3             4   \\\n",
       "0         shrimp    almonds     avocado    vegetables mix  green grapes   \n",
       "1        burgers  meatballs        eggs              eggs          eggs   \n",
       "2        chutney    chutney     chutney           chutney       chutney   \n",
       "3         turkey    avocado     avocado           avocado       avocado   \n",
       "4  mineral water       milk  energy bar  whole wheat rice     green tea   \n",
       "\n",
       "                 5          6               7             8             9   \\\n",
       "0  whole weat flour       yams  cottage cheese  energy drink  tomato juice   \n",
       "1              eggs       eggs            eggs          eggs          eggs   \n",
       "2           chutney    chutney         chutney       chutney       chutney   \n",
       "3           avocado    avocado         avocado       avocado       avocado   \n",
       "4         green tea  green tea       green tea     green tea     green tea   \n",
       "\n",
       "               10         11         12         13             14         15  \\\n",
       "0  low fat yogurt  green tea      honey      salad  mineral water     salmon   \n",
       "1            eggs       eggs       eggs       eggs           eggs       eggs   \n",
       "2         chutney    chutney    chutney    chutney        chutney    chutney   \n",
       "3         avocado    avocado    avocado    avocado        avocado    avocado   \n",
       "4       green tea  green tea  green tea  green tea      green tea  green tea   \n",
       "\n",
       "                  16               17         18         19  \n",
       "0  antioxydant juice  frozen smoothie    spinach  olive oil  \n",
       "1               eggs             eggs       eggs       eggs  \n",
       "2            chutney          chutney    chutney    chutney  \n",
       "3            avocado          avocado    avocado    avocado  \n",
       "4          green tea        green tea  green tea  green tea  "
      ]
     },
     "execution_count": 20,
     "metadata": {},
     "output_type": "execute_result"
    }
   ],
   "source": [
    "dataset.fillna(method = 'ffill', axis = 1, inplace = True)\n",
    "dataset.head()"
   ]
  },
  {
   "cell_type": "code",
   "execution_count": 21,
   "metadata": {
    "slideshow": {
     "slide_type": "subslide"
    }
   },
   "outputs": [],
   "source": [
    "transactions = []\n",
    "for i in range(0, len(dataset)): \n",
    "    transactions.append(\n",
    "        np.unique(\n",
    "            [str(\n",
    "                dataset.values[i,j]) \n",
    "             for j in range(0, len(dataset.columns))]).tolist())\n"
   ]
  },
  {
   "cell_type": "code",
   "execution_count": 22,
   "metadata": {
    "slideshow": {
     "slide_type": "subslide"
    }
   },
   "outputs": [],
   "source": [
    "word_to_ind = dict()\n",
    "ind_to_word = dict()\n",
    "\n",
    "for word in np.unique(list(itertools.chain(*transactions))).tolist():\n",
    "    word = word.strip()\n",
    "    key = word_to_ind.__len__()\n",
    "    word_to_ind[word] = key\n",
    "    ind_to_word[key] = word"
   ]
  },
  {
   "cell_type": "code",
   "execution_count": 23,
   "metadata": {
    "slideshow": {
     "slide_type": "subslide"
    }
   },
   "outputs": [],
   "source": [
    "transactions_ind = []\n",
    "\n",
    "for transaction in transactions:\n",
    "    indexes = []\n",
    "    for word in transaction:\n",
    "        word = word.strip()\n",
    "        indexes.append(word_to_ind[word])\n",
    "        \n",
    "    transactions_ind.append(indexes)"
   ]
  },
  {
   "cell_type": "code",
   "execution_count": 24,
   "metadata": {
    "slideshow": {
     "slide_type": "subslide"
    }
   },
   "outputs": [],
   "source": [
    "delta = 1e-3\n",
    "kappa = 0.47\n",
    "L, suppData = apriori(transactions_ind, delta)"
   ]
  },
  {
   "cell_type": "code",
   "execution_count": 25,
   "metadata": {
    "scrolled": false,
    "slideshow": {
     "slide_type": "subslide"
    }
   },
   "outputs": [
    {
     "name": "stdout",
     "output_type": "stream",
     "text": [
      "frozenset({67}) --> frozenset({71}) conf: 0.4782608695652174\n",
      "frozenset({103}) --> frozenset({99}) conf: 0.4827586206896552\n",
      "frozenset({77}) --> frozenset({71}) conf: 0.4871794871794871\n",
      "frozenset({62}) --> frozenset({71}) conf: 0.4700854700854701\n",
      "frozenset({40}) --> frozenset({71}) conf: 0.47777777777777775\n",
      "frozenset({16, 68}) --> frozenset({70, 71}) conf: 0.5714285714285714\n",
      "frozenset({80, 60}) --> frozenset({99, 71}) conf: 0.4782608695652174\n",
      "frozenset({106, 53}) --> frozenset({99, 54}) conf: 0.5263157894736842\n",
      "frozenset({70, 103}) --> frozenset({99, 71}) conf: 0.47058823529411764\n",
      "frozenset({88, 30}) --> frozenset({99, 71}) conf: 0.47058823529411764\n",
      "frozenset({83, 71}) --> frozenset({96, 36}) conf: 0.625\n",
      "frozenset({83, 36}) --> frozenset({96, 71}) conf: 0.47619047619047616\n",
      "frozenset({109, 7}) --> frozenset({99, 36}) conf: 0.5333333333333332\n",
      "frozenset({96, 48, 54}) --> frozenset({99, 71}) conf: 0.5416666666666666\n",
      "frozenset({48, 58, 99}) --> frozenset({54, 71}) conf: 0.47368421052631576\n",
      "frozenset({96, 48, 80}) --> frozenset({24, 71}) conf: 0.5294117647058824\n",
      "frozenset({80, 24, 107}) --> frozenset({99, 71}) conf: 0.47058823529411764\n",
      "frozenset({48, 98, 80}) --> frozenset({70, 71}) conf: 0.5625\n"
     ]
    }
   ],
   "source": [
    "rules = generateRules(L, suppData, minConf=kappa)"
   ]
  },
  {
   "cell_type": "code",
   "execution_count": 26,
   "metadata": {
    "slideshow": {
     "slide_type": "subslide"
    }
   },
   "outputs": [
    {
     "name": "stdout",
     "output_type": "stream",
     "text": [
      "mayonnaise --> mineral water\n",
      "strong cheese --> spaghetti\n",
      "nonfat milk --> mineral water\n",
      "light cream --> mineral water\n",
      "extra dark chocolate --> mineral water\n",
      "cake;meatballs --> milk;mineral water\n",
      "olive oil;hot dogs --> spaghetti;mineral water\n",
      "tomato sauce;green tea --> spaghetti;ground beef\n",
      "milk;strong cheese --> spaghetti;mineral water\n",
      "red wine;cooking oil --> spaghetti;mineral water\n",
      "pasta;mineral water --> shrimp;eggs\n",
      "pasta;eggs --> shrimp;mineral water\n",
      "turkey;black tea --> spaghetti;eggs\n",
      "shrimp;frozen vegetables;ground beef --> spaghetti;mineral water\n",
      "frozen vegetables;herb & pepper;spaghetti --> ground beef;mineral water\n",
      "shrimp;frozen vegetables;olive oil --> chocolate;mineral water\n",
      "olive oil;chocolate;tomatoes --> spaghetti;mineral water\n",
      "frozen vegetables;soup;olive oil --> milk;mineral water\n"
     ]
    }
   ],
   "source": [
    "for rule in rules:\n",
    "    phi = []\n",
    "    psi = []\n",
    "    for item in rule[0]:\n",
    "        phi.append(ind_to_word[item])\n",
    "        \n",
    "    for item in rule[1]:\n",
    "        psi.append(ind_to_word[item])\n",
    "        \n",
    "    print('{} --> {}'.format(';'.join(phi), ';'.join(psi)))"
   ]
  },
  {
   "cell_type": "markdown",
   "metadata": {
    "slideshow": {
     "slide_type": "slide"
    }
   },
   "source": [
    "## Алгоритм FP-Growth"
   ]
  },
  {
   "cell_type": "code",
   "execution_count": 27,
   "metadata": {
    "slideshow": {
     "slide_type": "subslide"
    }
   },
   "outputs": [],
   "source": [
    "patterns = pyfpgrowth.find_frequent_patterns(transactions_ind, 4)"
   ]
  },
  {
   "cell_type": "code",
   "execution_count": 28,
   "metadata": {
    "slideshow": {
     "slide_type": "subslide"
    }
   },
   "outputs": [],
   "source": [
    "rules = pyfpgrowth.generate_association_rules(patterns, 0.7)"
   ]
  },
  {
   "cell_type": "code",
   "execution_count": 29,
   "metadata": {
    "slideshow": {
     "slide_type": "subslide"
    }
   },
   "outputs": [
    {
     "name": "stdout",
     "output_type": "stream",
     "text": [
      "burgers;milk;tomatoes;whole wheat rice --> spaghetti\n",
      "chocolate;shrimp;spaghetti;tomato sauce --> ground beef\n",
      "burgers;eggs;herb & pepper;milk;mineral water --> ground beef\n",
      "ground beef;pancakes;whole weat flour --> milk;mineral water\n",
      "eggs;french fries;frozen vegetables;ground beef --> spaghetti\n",
      "chocolate;eggs;fresh bread;frozen vegetables --> mineral water\n",
      "cooking oil;eggs;green tea;mineral water --> spaghetti\n",
      "cooking oil;mineral water;soup;spaghetti --> eggs\n",
      "frozen vegetables;milk;mineral water;olive oil;tomatoes --> spaghetti\n",
      "chicken;chocolate;herb & pepper;soup --> ground beef\n",
      "chocolate;eggs;shrimp;turkey --> mineral water\n",
      "cake;eggs;meatballs;milk --> mineral water\n",
      "eggs;frozen vegetables;low fat yogurt;mineral water --> milk\n",
      "carrots;pancakes;soup --> mineral water\n",
      "cake;frozen vegetables;olive oil;shrimp --> mineral water\n"
     ]
    }
   ],
   "source": [
    "for key in np.random.choice(list(rules.keys()), size=15):\n",
    "    phi = []\n",
    "    psi = []\n",
    "    for item in key:\n",
    "        phi.append(ind_to_word[item])\n",
    "        \n",
    "    for item in rules[key][0]:\n",
    "        psi.append(ind_to_word[item])\n",
    "        \n",
    "    print('{} --> {}'.format(';'.join(phi), ';'.join(psi)))"
   ]
  },
  {
   "cell_type": "markdown",
   "metadata": {
    "slideshow": {
     "slide_type": "slide"
    }
   },
   "source": [
    "## Поиск ассоциативных правила для вещественных данных"
   ]
  },
  {
   "cell_type": "markdown",
   "metadata": {
    "slideshow": {
     "slide_type": "subslide"
    }
   },
   "source": [
    "Ранее были рассмотрены методы для поиска ассоциативных правил в случае категориальных признаков. Для обобщения всех выше методов для вещественных признаков легко вводится квантизация данных:\n",
    "\n",
    "1. Например для вещественного признака `стоимость` можно выполнить квантизацию:\n",
    "    - x < 500\n",
    "    - 500 < x < 1000\n",
    "    - 1000 < x < 10000\n",
    "    - 10000 < x\n",
    "    \n",
    "2. Для вещественного признака `количество` квантизация также легко выполняется:\n",
    "    - x < 2\n",
    "    - 2 < x < 10\n",
    "    - 10 < x\n",
    "    \n",
    "Введя квантизацию задача на вещественных данных сведена к задаче на категориальных данных. Заметим, что каждый вещественный признак нужно анализировать отдельно."
   ]
  },
  {
   "cell_type": "markdown",
   "metadata": {
    "slideshow": {
     "slide_type": "slide"
    }
   },
   "source": [
    "## Обобщенные ассоциативные правила"
   ]
  },
  {
   "cell_type": "markdown",
   "metadata": {
    "slideshow": {
     "slide_type": "subslide"
    }
   },
   "source": [
    "Ранее мы рассматривали корзину покупателей. При анализе данной корзины мы предполагали, что все данные однородны (все измеряли в товарах).\n",
    "\n",
    "Иногда полезно анализировать группы товаров. Примерами груп может служить:\n",
    "1. Безалкогольные напитки.\n",
    "2. Молочные продукты.\n",
    "\n",
    "В случае, когда требуется строить ассоциативные правила вида `Молочные продукты -> спагети`, где одна часть является группой товаров, а вторая часть является товаром из другой группы называется построение обобщенных ассоциативных правил."
   ]
  },
  {
   "cell_type": "markdown",
   "metadata": {
    "slideshow": {
     "slide_type": "subslide"
    }
   },
   "source": [
    "Простым подходом для построение обобщенных ассоциативных правил является добавления всех групп продуктов в признаковое описание. Такое решение является плохим, так как:\n",
    "1. В группах минимальная поддержка требуется больше чем в отдельных предметах.\n",
    "2. Добавление всевозможных групп товаров расширяет пространство признаков.\n",
    "3. Очевидно, что при таком подходе и применению простых алгоритмов получим большое количество нерелевантных правил вид: `Молоко -> Молочные продукты`.\n",
    "\n",
    "Построение обобщенных ассоциативных правил требует дополнительного исследования. Много работ для их построения вводят специальные ограничения на вид правил (\"отсеивая\" нерелевантные)."
   ]
  }
 ],
 "metadata": {
  "celltoolbar": "Slideshow",
  "kernelspec": {
   "display_name": "Python 3",
   "language": "python",
   "name": "python3"
  },
  "language_info": {
   "codemirror_mode": {
    "name": "ipython",
    "version": 3
   },
   "file_extension": ".py",
   "mimetype": "text/x-python",
   "name": "python",
   "nbconvert_exporter": "python",
   "pygments_lexer": "ipython3",
   "version": "3.6.2"
  }
 },
 "nbformat": 4,
 "nbformat_minor": 4
}
