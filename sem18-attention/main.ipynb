{
  "nbformat": 4,
  "nbformat_minor": 0,
  "metadata": {
    "kernelspec": {
      "display_name": "Python 3",
      "language": "python",
      "name": "python3"
    },
    "language_info": {
      "codemirror_mode": {
        "name": "ipython",
        "version": 3
      },
      "file_extension": ".py",
      "mimetype": "text/x-python",
      "name": "python",
      "nbconvert_exporter": "python",
      "pygments_lexer": "ipython3",
      "version": "3.7.3"
    },
    "colab": {
      "name": "main.ipynb",
      "provenance": []
    },
    "accelerator": "GPU",
    "widgets": {
      "application/vnd.jupyter.widget-state+json": {
        "ab1befa3fa404373afc824f2824cb1a0": {
          "model_module": "@jupyter-widgets/controls",
          "model_name": "HBoxModel",
          "state": {
            "_view_name": "HBoxView",
            "_dom_classes": [],
            "_model_name": "HBoxModel",
            "_view_module": "@jupyter-widgets/controls",
            "_model_module_version": "1.5.0",
            "_view_count": null,
            "_view_module_version": "1.5.0",
            "box_style": "",
            "layout": "IPY_MODEL_6639bf4ef82a45a2a116cf1e7910dee7",
            "_model_module": "@jupyter-widgets/controls",
            "children": [
              "IPY_MODEL_6ad04290250b4439a3ba36dcce626608",
              "IPY_MODEL_03906703a09c48aba9a06c15f552927c",
              "IPY_MODEL_19bc31c66b8f46928dd91084d8691f2f"
            ]
          },
          "model_module_version": "1.5.0"
        },
        "6639bf4ef82a45a2a116cf1e7910dee7": {
          "model_module": "@jupyter-widgets/base",
          "model_name": "LayoutModel",
          "state": {
            "_view_name": "LayoutView",
            "grid_template_rows": null,
            "right": null,
            "justify_content": null,
            "_view_module": "@jupyter-widgets/base",
            "overflow": null,
            "_model_module_version": "1.2.0",
            "_view_count": null,
            "flex_flow": null,
            "width": null,
            "min_width": null,
            "border": null,
            "align_items": null,
            "bottom": null,
            "_model_module": "@jupyter-widgets/base",
            "top": null,
            "grid_column": null,
            "overflow_y": null,
            "overflow_x": null,
            "grid_auto_flow": null,
            "grid_area": null,
            "grid_template_columns": null,
            "flex": null,
            "_model_name": "LayoutModel",
            "justify_items": null,
            "grid_row": null,
            "max_height": null,
            "align_content": null,
            "visibility": null,
            "align_self": null,
            "height": null,
            "min_height": null,
            "padding": null,
            "grid_auto_rows": null,
            "grid_gap": null,
            "max_width": null,
            "order": null,
            "_view_module_version": "1.2.0",
            "grid_template_areas": null,
            "object_position": null,
            "object_fit": null,
            "grid_auto_columns": null,
            "margin": null,
            "display": null,
            "left": null
          },
          "model_module_version": "1.2.0"
        },
        "6ad04290250b4439a3ba36dcce626608": {
          "model_module": "@jupyter-widgets/controls",
          "model_name": "HTMLModel",
          "state": {
            "_view_name": "HTMLView",
            "style": "IPY_MODEL_9682fcbcb72e44d38c20b4cfac5407f3",
            "_dom_classes": [],
            "description": "",
            "_model_name": "HTMLModel",
            "placeholder": "​",
            "_view_module": "@jupyter-widgets/controls",
            "_model_module_version": "1.5.0",
            "value": "Downloading: 100%",
            "_view_count": null,
            "_view_module_version": "1.5.0",
            "description_tooltip": null,
            "_model_module": "@jupyter-widgets/controls",
            "layout": "IPY_MODEL_a7a9e6f1dcfa4e6a911f6f440c46d890"
          },
          "model_module_version": "1.5.0"
        },
        "03906703a09c48aba9a06c15f552927c": {
          "model_module": "@jupyter-widgets/controls",
          "model_name": "FloatProgressModel",
          "state": {
            "_view_name": "ProgressView",
            "style": "IPY_MODEL_b0772ff6976d402fb3fa61f0778cfd48",
            "_dom_classes": [],
            "description": "",
            "_model_name": "FloatProgressModel",
            "bar_style": "success",
            "max": 1888175414,
            "_view_module": "@jupyter-widgets/controls",
            "_model_module_version": "1.5.0",
            "value": 1888175414,
            "_view_count": null,
            "_view_module_version": "1.5.0",
            "orientation": "horizontal",
            "min": 0,
            "description_tooltip": null,
            "_model_module": "@jupyter-widgets/controls",
            "layout": "IPY_MODEL_c207a78178824e3e808cb65f54f45994"
          },
          "model_module_version": "1.5.0"
        },
        "19bc31c66b8f46928dd91084d8691f2f": {
          "model_module": "@jupyter-widgets/controls",
          "model_name": "HTMLModel",
          "state": {
            "_view_name": "HTMLView",
            "style": "IPY_MODEL_0b2d4f3f73074592aa6a94a33e7973a2",
            "_dom_classes": [],
            "description": "",
            "_model_name": "HTMLModel",
            "placeholder": "​",
            "_view_module": "@jupyter-widgets/controls",
            "_model_module_version": "1.5.0",
            "value": " 1.89G/1.89G [00:32&lt;00:00, 63.4MB/s]",
            "_view_count": null,
            "_view_module_version": "1.5.0",
            "description_tooltip": null,
            "_model_module": "@jupyter-widgets/controls",
            "layout": "IPY_MODEL_401cca8b41f04dfdb83e0decc1b50881"
          },
          "model_module_version": "1.5.0"
        },
        "9682fcbcb72e44d38c20b4cfac5407f3": {
          "model_module": "@jupyter-widgets/controls",
          "model_name": "DescriptionStyleModel",
          "state": {
            "_view_name": "StyleView",
            "_model_name": "DescriptionStyleModel",
            "description_width": "",
            "_view_module": "@jupyter-widgets/base",
            "_model_module_version": "1.5.0",
            "_view_count": null,
            "_view_module_version": "1.2.0",
            "_model_module": "@jupyter-widgets/controls"
          },
          "model_module_version": "1.5.0"
        },
        "a7a9e6f1dcfa4e6a911f6f440c46d890": {
          "model_module": "@jupyter-widgets/base",
          "model_name": "LayoutModel",
          "state": {
            "_view_name": "LayoutView",
            "grid_template_rows": null,
            "right": null,
            "justify_content": null,
            "_view_module": "@jupyter-widgets/base",
            "overflow": null,
            "_model_module_version": "1.2.0",
            "_view_count": null,
            "flex_flow": null,
            "width": null,
            "min_width": null,
            "border": null,
            "align_items": null,
            "bottom": null,
            "_model_module": "@jupyter-widgets/base",
            "top": null,
            "grid_column": null,
            "overflow_y": null,
            "overflow_x": null,
            "grid_auto_flow": null,
            "grid_area": null,
            "grid_template_columns": null,
            "flex": null,
            "_model_name": "LayoutModel",
            "justify_items": null,
            "grid_row": null,
            "max_height": null,
            "align_content": null,
            "visibility": null,
            "align_self": null,
            "height": null,
            "min_height": null,
            "padding": null,
            "grid_auto_rows": null,
            "grid_gap": null,
            "max_width": null,
            "order": null,
            "_view_module_version": "1.2.0",
            "grid_template_areas": null,
            "object_position": null,
            "object_fit": null,
            "grid_auto_columns": null,
            "margin": null,
            "display": null,
            "left": null
          },
          "model_module_version": "1.2.0"
        },
        "b0772ff6976d402fb3fa61f0778cfd48": {
          "model_module": "@jupyter-widgets/controls",
          "model_name": "ProgressStyleModel",
          "state": {
            "_view_name": "StyleView",
            "_model_name": "ProgressStyleModel",
            "description_width": "",
            "_view_module": "@jupyter-widgets/base",
            "_model_module_version": "1.5.0",
            "_view_count": null,
            "_view_module_version": "1.2.0",
            "bar_color": null,
            "_model_module": "@jupyter-widgets/controls"
          },
          "model_module_version": "1.5.0"
        },
        "c207a78178824e3e808cb65f54f45994": {
          "model_module": "@jupyter-widgets/base",
          "model_name": "LayoutModel",
          "state": {
            "_view_name": "LayoutView",
            "grid_template_rows": null,
            "right": null,
            "justify_content": null,
            "_view_module": "@jupyter-widgets/base",
            "overflow": null,
            "_model_module_version": "1.2.0",
            "_view_count": null,
            "flex_flow": null,
            "width": null,
            "min_width": null,
            "border": null,
            "align_items": null,
            "bottom": null,
            "_model_module": "@jupyter-widgets/base",
            "top": null,
            "grid_column": null,
            "overflow_y": null,
            "overflow_x": null,
            "grid_auto_flow": null,
            "grid_area": null,
            "grid_template_columns": null,
            "flex": null,
            "_model_name": "LayoutModel",
            "justify_items": null,
            "grid_row": null,
            "max_height": null,
            "align_content": null,
            "visibility": null,
            "align_self": null,
            "height": null,
            "min_height": null,
            "padding": null,
            "grid_auto_rows": null,
            "grid_gap": null,
            "max_width": null,
            "order": null,
            "_view_module_version": "1.2.0",
            "grid_template_areas": null,
            "object_position": null,
            "object_fit": null,
            "grid_auto_columns": null,
            "margin": null,
            "display": null,
            "left": null
          },
          "model_module_version": "1.2.0"
        },
        "0b2d4f3f73074592aa6a94a33e7973a2": {
          "model_module": "@jupyter-widgets/controls",
          "model_name": "DescriptionStyleModel",
          "state": {
            "_view_name": "StyleView",
            "_model_name": "DescriptionStyleModel",
            "description_width": "",
            "_view_module": "@jupyter-widgets/base",
            "_model_module_version": "1.5.0",
            "_view_count": null,
            "_view_module_version": "1.2.0",
            "_model_module": "@jupyter-widgets/controls"
          },
          "model_module_version": "1.5.0"
        },
        "401cca8b41f04dfdb83e0decc1b50881": {
          "model_module": "@jupyter-widgets/base",
          "model_name": "LayoutModel",
          "state": {
            "_view_name": "LayoutView",
            "grid_template_rows": null,
            "right": null,
            "justify_content": null,
            "_view_module": "@jupyter-widgets/base",
            "overflow": null,
            "_model_module_version": "1.2.0",
            "_view_count": null,
            "flex_flow": null,
            "width": null,
            "min_width": null,
            "border": null,
            "align_items": null,
            "bottom": null,
            "_model_module": "@jupyter-widgets/base",
            "top": null,
            "grid_column": null,
            "overflow_y": null,
            "overflow_x": null,
            "grid_auto_flow": null,
            "grid_area": null,
            "grid_template_columns": null,
            "flex": null,
            "_model_name": "LayoutModel",
            "justify_items": null,
            "grid_row": null,
            "max_height": null,
            "align_content": null,
            "visibility": null,
            "align_self": null,
            "height": null,
            "min_height": null,
            "padding": null,
            "grid_auto_rows": null,
            "grid_gap": null,
            "max_width": null,
            "order": null,
            "_view_module_version": "1.2.0",
            "grid_template_areas": null,
            "object_position": null,
            "object_fit": null,
            "grid_auto_columns": null,
            "margin": null,
            "display": null,
            "left": null
          },
          "model_module_version": "1.2.0"
        }
      }
    }
  },
  "cells": [
    {
      "cell_type": "markdown",
      "metadata": {
        "id": "gFDEdM3AeCzx"
      },
      "source": [
        "# Attention is all you need. Трансформеры."
      ]
    },
    {
      "cell_type": "markdown",
      "metadata": {
        "id": "ncRUyPBReCzz"
      },
      "source": [
        "## Библиотеки"
      ]
    },
    {
      "cell_type": "code",
      "metadata": {
        "id": "D1YShLCYtnmK"
      },
      "source": [
        "!pip install --quiet -U dvc[gdrive]==1.11.1 transformers torch sentencepiece torchtext"
      ],
      "execution_count": null,
      "outputs": []
    },
    {
      "cell_type": "code",
      "metadata": {
        "id": "QQ7M5xkjeCzz"
      },
      "source": [
        "import matplotlib.pyplot as plt\n",
        "from mpl_toolkits import mplot3d\n",
        "from matplotlib import gridspec\n",
        "\n",
        "from tqdm.notebook import tqdm\n",
        "import numpy as np\n",
        "import  pandas as pd\n",
        "import seaborn as sns\n",
        "import torch\n",
        "import scipy\n",
        "from transformers import AutoModel, AutoTokenizer\n",
        "from transformers import MarianMTModel, MarianTokenizer\n",
        "\n",
        "from sklearn.metrics import classification_report\n",
        "from torch.utils.tensorboard import SummaryWriter\n",
        "\n",
        "import io\n",
        "import math\n",
        "import time\n",
        "from tqdm import tqdm\n",
        "from collections import Counter\n",
        "\n",
        "import torch\n",
        "import numpy as np\n",
        "import scipy.spatial\n",
        "import torch.nn as nn\n",
        "from torch import Tensor\n",
        "from torch.nn.utils.rnn import pad_sequence\n",
        "from torch.utils.data import DataLoader\n",
        "from torch.nn import (TransformerEncoder, TransformerDecoder,\n",
        "                      TransformerEncoderLayer, TransformerDecoderLayer)\n",
        "\n",
        "import torchtext\n",
        "from torchtext.vocab import vocab\n",
        "from torchtext.data.utils import get_tokenizer\n",
        "from torchtext.utils import download_from_url, extract_archive\n",
        "\n",
        "from transformers import AutoModel, AutoTokenizer"
      ],
      "execution_count": 1,
      "outputs": []
    },
    {
      "cell_type": "code",
      "metadata": {
        "id": "YOMr4V9weCz0"
      },
      "source": [
        "import warnings\n",
        "warnings.filterwarnings(\"ignore\")"
      ],
      "execution_count": 2,
      "outputs": []
    },
    {
      "cell_type": "code",
      "metadata": {
        "id": "MJipdlV3eCz0",
        "colab": {
          "base_uri": "https://localhost:8080/",
          "height": 37
        },
        "outputId": "54efb475-7693-4c49-f760-5f19732dd5f7"
      },
      "source": [
        "device = 'cuda' if torch.cuda.is_available() else 'cpu'\n",
        "device"
      ],
      "execution_count": null,
      "outputs": [
        {
          "output_type": "execute_result",
          "data": {
            "application/vnd.google.colaboratory.intrinsic+json": {
              "type": "string"
            },
            "text/plain": [
              "'cuda'"
            ]
          },
          "metadata": {
            "tags": []
          },
          "execution_count": 3
        }
      ]
    },
    {
      "cell_type": "markdown",
      "metadata": {
        "id": "FMLHstClxJjd"
      },
      "source": [
        "## Выборка паралельных текстов"
      ]
    },
    {
      "cell_type": "code",
      "metadata": {
        "id": "xJuyKE1E3HWr"
      },
      "source": [
        "!dvc get https://github.com/andriygav/MachineLearningSeminars sem18/data/Wikipedia.en-ru.ru\n",
        "!dvc get https://github.com/andriygav/MachineLearningSeminars sem18/data/Wikipedia.en-ru.en"
      ],
      "execution_count": null,
      "outputs": []
    },
    {
      "cell_type": "code",
      "metadata": {
        "id": "78ZguASaxN2w"
      },
      "source": [
        "with open('./Wikipedia.en-ru.ru') as f:\n",
        "    ru_all_texts = f.read().splitlines()\n",
        "\n",
        "with open('./Wikipedia.en-ru.en') as f:\n",
        "    en_all_texts = f.read().splitlines()"
      ],
      "execution_count": null,
      "outputs": []
    },
    {
      "cell_type": "code",
      "metadata": {
        "id": "0tIZBvxQJsbQ"
      },
      "source": [
        "ru_texts = []\n",
        "en_texts = []\n",
        "\n",
        "for ru_text, en_text in zip(ru_all_texts, en_all_texts):\n",
        "    if len(ru_text) < 100 and len(en_text) < 100:\n",
        "        ru_texts.append(ru_text.lower())\n",
        "        en_texts.append(en_text.lower())"
      ],
      "execution_count": null,
      "outputs": []
    },
    {
      "cell_type": "code",
      "metadata": {
        "colab": {
          "base_uri": "https://localhost:8080/"
        },
        "id": "Dmp0a-hG3nR4",
        "outputId": "2a806922-0d7b-4072-c8b9-1d52fcffe898"
      },
      "source": [
        "len(ru_texts), len(en_texts)"
      ],
      "execution_count": null,
      "outputs": [
        {
          "output_type": "execute_result",
          "data": {
            "text/plain": [
              "(306887, 306887)"
            ]
          },
          "metadata": {
            "tags": []
          },
          "execution_count": 6
        }
      ]
    },
    {
      "cell_type": "markdown",
      "metadata": {
        "id": "kTOMF7UqeCz1"
      },
      "source": [
        "## Код для обучения"
      ]
    },
    {
      "cell_type": "code",
      "metadata": {
        "id": "w7io7qIUIsp_"
      },
      "source": [
        "def train_on_batch(model, x_batch, y_batch, optimizer, loss_function):\n",
        "    model.train()\n",
        "    optimizer.zero_grad()\n",
        "    \n",
        "    output = model(x_batch.to(model.device), y_batch.to(model.device))\n",
        "    \n",
        "    loss = loss_function(output.transpose(1,2), \n",
        "                         y_batch.to(model.device))\n",
        "    loss.backward()\n",
        "\n",
        "    optimizer.step()\n",
        "    return loss.cpu().item()"
      ],
      "execution_count": null,
      "outputs": []
    },
    {
      "cell_type": "code",
      "metadata": {
        "id": "rz7sgZHWIvaY"
      },
      "source": [
        "def train_epoch(train_generator, model, loss_function, optimizer, callback = None):\n",
        "    epoch_loss = 0\n",
        "    total = 0\n",
        "    for it, (batch_of_x, batch_of_y) in enumerate(train_generator):\n",
        "        batch_loss = train_on_batch(model, batch_of_x, batch_of_y, optimizer, loss_function)\n",
        "        \n",
        "        if callback is not None:\n",
        "            with torch.no_grad():\n",
        "                callback(model, batch_loss)\n",
        "            \n",
        "        epoch_loss += batch_loss*len(batch_of_x)\n",
        "        total += len(batch_of_x)\n",
        "    \n",
        "    return epoch_loss/total"
      ],
      "execution_count": null,
      "outputs": []
    },
    {
      "cell_type": "code",
      "metadata": {
        "id": "mLe12zzAIx_d"
      },
      "source": [
        "def trainer(count_of_epoch, \n",
        "            batch_size, \n",
        "            dataset,\n",
        "            model, \n",
        "            loss_function,\n",
        "            optimizer,\n",
        "            lr = 0.001,\n",
        "            callback = None):\n",
        "\n",
        "    optima = optimizer(model.parameters(), lr=lr)\n",
        "    \n",
        "    iterations = tqdm(range(count_of_epoch), desc='epoch')\n",
        "    iterations.set_postfix({'train epoch loss': np.nan})\n",
        "    for it in iterations:\n",
        "        batch_generator = tqdm(\n",
        "            torch.utils.data.DataLoader(dataset=dataset, \n",
        "                                        batch_size=batch_size, \n",
        "                                        shuffle=True, pin_memory=True), \n",
        "            leave=False, total=len(dataset)//batch_size+(len(dataset)%batch_size>0))\n",
        "        \n",
        "        epoch_loss = train_epoch(train_generator=batch_generator, \n",
        "                    model=model, \n",
        "                    loss_function=loss_function, \n",
        "                    optimizer=optima, \n",
        "                    callback=callback)\n",
        "        \n",
        "        iterations.set_postfix({'train epoch loss': epoch_loss})"
      ],
      "execution_count": null,
      "outputs": []
    },
    {
      "cell_type": "markdown",
      "metadata": {
        "id": "wiamD1GkeCz1"
      },
      "source": [
        "## Модель внимания в рекурентных моделях"
      ]
    },
    {
      "cell_type": "markdown",
      "metadata": {
        "id": "X_AbmZii82Qr"
      },
      "source": [
        "### Определение модели"
      ]
    },
    {
      "cell_type": "code",
      "metadata": {
        "id": "5pypFq8z3xWa"
      },
      "source": [
        "class Encoder(torch.nn.Module):\n",
        "    @property\n",
        "    def device(self):\n",
        "        return next(self.parameters()).device\n",
        "\n",
        "    def __init__(self, vocab_size, emb_dim=30, hidden_dim=30):\n",
        "        super(Encoder, self).__init__()\n",
        "        self.embedding = torch.nn.Embedding(vocab_size, emb_dim)\n",
        "        self.lstm = torch.nn.LSTM(emb_dim, hidden_dim, batch_first=True)\n",
        "\n",
        "    def forward(self, input):\n",
        "        r'''\n",
        "        :param input: тензор размера batch_size x seq_len --- список токенов\n",
        "\n",
        "        '''\n",
        "        act = self.embedding(input)\n",
        "        act, hidden = self.lstm(act)\n",
        "        return act, hidden"
      ],
      "execution_count": null,
      "outputs": []
    },
    {
      "cell_type": "code",
      "metadata": {
        "id": "-AEZeHhq5U4k"
      },
      "source": [
        "class Decoder(torch.nn.Module):\n",
        "    @property\n",
        "    def device(self):\n",
        "        return next(self.parameters()).device\n",
        "\n",
        "    def __init__(self, vocab_size, emb_dim=30, hidden_dim=30):\n",
        "        super(Decoder, self).__init__()\n",
        "        self.embedding = torch.nn.Embedding(vocab_size, emb_dim)\n",
        "        self.attention = torch.nn.MultiheadAttention(emb_dim, 1)\n",
        "\n",
        "        self.lstm = torch.nn.LSTM(emb_dim, hidden_dim, batch_first=True)\n",
        "\n",
        "        self.linear = torch.nn.Linear(hidden_dim, vocab_size)\n",
        "\n",
        "    def forward(self, input, encoder_outputs, hidden):\n",
        "        r'''\n",
        "        :param input: тезор размера batch_size x seq_len\n",
        "        '''\n",
        "        act = self.embedding(input)\n",
        "\n",
        "        act, _ = self.attention(act.transpose(0, 1), \n",
        "                                encoder_outputs.transpose(0, 1), \n",
        "                                encoder_outputs.transpose(0, 1))\n",
        "\n",
        "        act = act.transpose(0, 1)\n",
        "        act, hidden = self.lstm(act, hidden)\n",
        "        return self.linear(act), hidden"
      ],
      "execution_count": null,
      "outputs": []
    },
    {
      "cell_type": "code",
      "metadata": {
        "id": "mN_1fGTh_zXl"
      },
      "source": [
        "class seq2seq(torch.nn.Module):\n",
        "    @property\n",
        "    def device(self):\n",
        "        return next(self.parameters()).device\n",
        "\n",
        "    def __init__(self, vocab_size, emb_dim=30, hidden_dim=30):\n",
        "        super(seq2seq, self).__init__()\n",
        "        self.vocab_size = vocab_size\n",
        "        self.encoder = Encoder(vocab_size, emb_dim, hidden_dim)\n",
        "        self.decoder = Decoder(vocab_size, emb_dim, hidden_dim)\n",
        "\n",
        "    def forward(self, input, decoder_input=None, max_seq_len=64):\n",
        "        r'''\n",
        "        '''\n",
        "        encoder_output, hidden = self.encoder(input)\n",
        "\n",
        "        if decoder_input is None:\n",
        "            translated_scores = torch.zeros(len(input), \n",
        "                                            max_seq_len, \n",
        "                                            self.vocab_size).to(self.device)\n",
        "            translated_scores[:, 0, input[:, 0]] = 1.\n",
        "            for i in range(1, max_seq_len):\n",
        "                translated_scores[:, i:i+1], hidden = self.decoder(\n",
        "                    torch.argmax(translated_scores[:, i-1:i], axis=-1), \n",
        "                    encoder_output, \n",
        "                    hidden)\n",
        "        else:\n",
        "            translated_scores, _ = self.decoder(\n",
        "                decoder_input, encoder_output, hidden)\n",
        "\n",
        "        return translated_scores\n"
      ],
      "execution_count": null,
      "outputs": []
    },
    {
      "cell_type": "markdown",
      "metadata": {
        "id": "8K0atJo18zaG"
      },
      "source": [
        "### Инициализация модели"
      ]
    },
    {
      "cell_type": "code",
      "metadata": {
        "id": "W24s1W2VtEaT",
        "colab": {
          "base_uri": "https://localhost:8080/"
        },
        "outputId": "3f53f2c5-838a-4896-d2ad-f34ffbd54494"
      },
      "source": [
        "tokenizer = AutoTokenizer.from_pretrained('bert-base-multilingual-uncased', \n",
        "                                          verbose=False)\n",
        "tokenizer.vocab_size"
      ],
      "execution_count": null,
      "outputs": [
        {
          "output_type": "execute_result",
          "data": {
            "text/plain": [
              "105879"
            ]
          },
          "metadata": {
            "tags": []
          },
          "execution_count": 13
        }
      ]
    },
    {
      "cell_type": "code",
      "metadata": {
        "id": "-mS5tzMbPS0W"
      },
      "source": [
        "en_texts_tensors = tokenizer(en_texts[:20000], \n",
        "                             return_tensors='pt', max_length=64, padding=True)\n",
        "ru_texts_tensors = tokenizer(ru_texts[:20000], \n",
        "                             return_tensors='pt', max_length=64, padding=True)"
      ],
      "execution_count": null,
      "outputs": []
    },
    {
      "cell_type": "code",
      "metadata": {
        "id": "T8bX1OlvLp9I"
      },
      "source": [
        "dataset_train_pt = torch.utils.data.TensorDataset(\n",
        "    en_texts_tensors['input_ids'][:19000], ru_texts_tensors['input_ids'][:19000])\n",
        "dataset_test_pt = torch.utils.data.TensorDataset(\n",
        "    en_texts_tensors['input_ids'][19000:], ru_texts_tensors['input_ids'][19000:])"
      ],
      "execution_count": null,
      "outputs": []
    },
    {
      "cell_type": "code",
      "metadata": {
        "colab": {
          "base_uri": "https://localhost:8080/"
        },
        "id": "8Dg8VO66MnsR",
        "outputId": "597e4542-c099-4c12-9e44-5ccb3e909e62"
      },
      "source": [
        "model = seq2seq(tokenizer.vocab_size)\n",
        "model.to(device)"
      ],
      "execution_count": null,
      "outputs": [
        {
          "output_type": "execute_result",
          "data": {
            "text/plain": [
              "seq2seq(\n",
              "  (encoder): Encoder(\n",
              "    (embedding): Embedding(105879, 30)\n",
              "    (lstm): LSTM(30, 30, batch_first=True)\n",
              "  )\n",
              "  (decoder): Decoder(\n",
              "    (embedding): Embedding(105879, 30)\n",
              "    (attention): MultiheadAttention(\n",
              "      (out_proj): _LinearWithBias(in_features=30, out_features=30, bias=True)\n",
              "    )\n",
              "    (lstm): LSTM(30, 30, batch_first=True)\n",
              "    (linear): Linear(in_features=30, out_features=105879, bias=True)\n",
              "  )\n",
              ")"
            ]
          },
          "metadata": {
            "tags": []
          },
          "execution_count": 16
        }
      ]
    },
    {
      "cell_type": "code",
      "metadata": {
        "id": "E_ruz4ZqMt8-"
      },
      "source": [
        "loss_function = torch.nn.CrossEntropyLoss(ignore_index=0)\n",
        "optimizer = torch.optim.Adam"
      ],
      "execution_count": null,
      "outputs": []
    },
    {
      "cell_type": "code",
      "metadata": {
        "id": "Zob6-9yKM0a6"
      },
      "source": [
        "trainer(count_of_epoch=15, \n",
        "        batch_size=64, \n",
        "        dataset=dataset_train_pt,\n",
        "        model=model, \n",
        "        loss_function=loss_function,\n",
        "        optimizer = optimizer,\n",
        "        lr=0.001,\n",
        "        callback=None)"
      ],
      "execution_count": null,
      "outputs": []
    },
    {
      "cell_type": "code",
      "metadata": {
        "colab": {
          "base_uri": "https://localhost:8080/",
          "height": 37
        },
        "id": "2vktEqR3VKsh",
        "outputId": "0d495d4d-819e-449b-cfd5-9a694de9daaf"
      },
      "source": [
        "tokens_en = tokenizer(['in 1924, most of the site was converted to a museum.'], return_tensors='pt')\n",
        "tokens_ru = tokenizer(['в 1924 году крепость стала музеем.'], return_tensors='pt')\n",
        "with torch.no_grad():\n",
        "    answer = torch.argmax(\n",
        "        model(tokens_en['input_ids'].to(model.device), \n",
        "              tokens_ru['input_ids'].to(model.device), max_seq_len=10), \n",
        "        axis=-1)\n",
        "tokenizer.decode(answer[0])"
      ],
      "execution_count": null,
      "outputs": [
        {
          "output_type": "execute_result",
          "data": {
            "application/vnd.google.colaboratory.intrinsic+json": {
              "type": "string"
            },
            "text/plain": [
              "'. на [SEP]с [SEP]с [SEP] [SEP] [SEP] в'"
            ]
          },
          "metadata": {
            "tags": []
          },
          "execution_count": 70
        }
      ]
    },
    {
      "cell_type": "code",
      "metadata": {
        "id": "StDlin7kV1Gq"
      },
      "source": [
        "with torch.no_grad():\n",
        "    encoder_outputs, _ = model.encoder(\n",
        "        tokens_en['input_ids'].to(model.device))\n",
        "\n",
        "    decoder_embedding = model.decoder.embedding(\n",
        "        tokens_ru['input_ids'].to(model.device))\n",
        "\n",
        "    act, act_weight = model.decoder.attention(\n",
        "        decoder_embedding.transpose(0, 1), \n",
        "        encoder_outputs.transpose(0, 1), \n",
        "        encoder_outputs.transpose(0, 1))"
      ],
      "execution_count": null,
      "outputs": []
    },
    {
      "cell_type": "code",
      "metadata": {
        "id": "i_wQB-zvYo3i"
      },
      "source": [
        "attention_frame = pd.DataFrame(\n",
        "    act_weight[0].cpu().numpy(),\n",
        "    index=tokenizer.convert_ids_to_tokens(\n",
        "        tokens_ru['input_ids'][0].cpu().numpy()),\n",
        "    columns=tokenizer.convert_ids_to_tokens(\n",
        "        tokens_en['input_ids'][0].cpu().numpy()))"
      ],
      "execution_count": null,
      "outputs": []
    },
    {
      "cell_type": "code",
      "metadata": {
        "colab": {
          "base_uri": "https://localhost:8080/",
          "height": 306
        },
        "id": "phu_44JZW_R0",
        "outputId": "6bb60a51-7ca5-4877-e2d5-c69cafa63d07"
      },
      "source": [
        "sns.heatmap(data=attention_frame)\n",
        "\n",
        "plt.show()"
      ],
      "execution_count": null,
      "outputs": [
        {
          "output_type": "display_data",
          "data": {
            "image/png": "[encoded data removed]",
            "text/plain": [
              "<Figure size 432x288 with 2 Axes>"
            ]
          },
          "metadata": {
            "tags": [],
            "needs_background": "light"
          }
        }
      ]
    },
    {
      "cell_type": "markdown",
      "metadata": {
        "id": "r6xRmj88eCz1"
      },
      "source": [
        "## Трансформер "
      ]
    },
    {
      "cell_type": "markdown",
      "metadata": {
        "id": "v7pNT8SUbH4I"
      },
      "source": [
        "### Определение модели"
      ]
    },
    {
      "cell_type": "code",
      "metadata": {
        "id": "Bxa45fl0alnH"
      },
      "source": [
        "class Encoder(torch.nn.Module):\n",
        "    @property\n",
        "    def device(self):\n",
        "        return next(self.parameters()).device\n",
        "\n",
        "    def __init__(self, vocab_size, emb_dim=30, hidden_dim=30):\n",
        "        super(Encoder, self).__init__()\n",
        "\n",
        "        self.layers = torch.nn.Sequential()\n",
        "        \n",
        "        self.embedding = torch.nn.Embedding(vocab_size, emb_dim)\n",
        "        self.attention1 = torch.nn.MultiheadAttention(emb_dim, 1)\n",
        "        self.linear1 = torch.nn.Linear(emb_dim, hidden_dim)\n",
        "        self.relu = torch.nn.ReLU()\n",
        "        self.attention2 = torch.nn.MultiheadAttention(hidden_dim, 1)\n",
        "        self.linear2 = torch.nn.Linear(hidden_dim, hidden_dim)\n",
        "\n",
        "\n",
        "    def forward(self, input):\n",
        "        r'''\n",
        "        :param input: тензор размера batch_size x seq_len --- список токенов\n",
        "\n",
        "        '''\n",
        "        input = input.transpose(0, 1)\n",
        "        act = self.embedding(input)\n",
        "        act, _ = self.attention1(act, act, act)\n",
        "        act = self.relu(act)\n",
        "        act = self.linear1(act)\n",
        "        act = self.relu(act)\n",
        "        act, _ = self.attention2(act, act, act)\n",
        "        act = self.relu(act)\n",
        "        act = self.linear2(act)\n",
        "        return act.transpose(0, 1)"
      ],
      "execution_count": null,
      "outputs": []
    },
    {
      "cell_type": "code",
      "metadata": {
        "id": "8esH9fEzasPV"
      },
      "source": [
        "class Decoder(torch.nn.Module):\n",
        "    @property\n",
        "    def device(self):\n",
        "        return next(self.parameters()).device\n",
        "\n",
        "    def __init__(self, vocab_size, emb_dim=30, hidden_dim=30):\n",
        "        super(Decoder, self).__init__()\n",
        "        self.embedding = torch.nn.Embedding(vocab_size, emb_dim)\n",
        "        self.attention = torch.nn.MultiheadAttention(emb_dim, 1)\n",
        "        self.linear1 = torch.nn.Linear(emb_dim, hidden_dim)\n",
        "        self.relu = torch.nn.ReLU()\n",
        "\n",
        "        self.attention2 = torch.nn.MultiheadAttention(hidden_dim, 1)\n",
        "        self.linear2 = torch.nn.Linear(hidden_dim, hidden_dim)\n",
        "\n",
        "        self.linear = torch.nn.Linear(hidden_dim, vocab_size)\n",
        "\n",
        "    def forward(self, input, encoder_outputs):\n",
        "        r'''\n",
        "        :param input: тезор размера batch_size x seq_len\n",
        "        '''\n",
        "        input = input.transpose(0, 1)\n",
        "        act = self.embedding(input)\n",
        "\n",
        "        act, _ = self.attention(act, \n",
        "                                encoder_outputs.transpose(0, 1), \n",
        "                                encoder_outputs.transpose(0, 1))\n",
        "        \n",
        "        act = self.relu(act)\n",
        "        act = self.linear1(act)\n",
        "        act = self.relu(act)\n",
        "        act, _ = self.attention2(act, \n",
        "                                 encoder_outputs.transpose(0, 1), \n",
        "                                 encoder_outputs.transpose(0, 1))\n",
        "        act = self.relu(act)\n",
        "        act = self.linear2(act)\n",
        "\n",
        "        return self.linear(act).transpose(0, 1)"
      ],
      "execution_count": null,
      "outputs": []
    },
    {
      "cell_type": "code",
      "metadata": {
        "id": "spW1dQbmaszI"
      },
      "source": [
        "class seq2seq(torch.nn.Module):\n",
        "    @property\n",
        "    def device(self):\n",
        "        return next(self.parameters()).device\n",
        "\n",
        "    def __init__(self, vocab_size, emb_dim=30, hidden_dim=30):\n",
        "        super(seq2seq, self).__init__()\n",
        "        self.vocab_size = vocab_size\n",
        "        self.encoder = Encoder(vocab_size, emb_dim, hidden_dim)\n",
        "        self.decoder = Decoder(vocab_size, emb_dim, hidden_dim)\n",
        "\n",
        "    def forward(self, input, decoder_input=None, max_seq_len=64):\n",
        "        r'''\n",
        "        '''\n",
        "        encoder_output = self.encoder(input)\n",
        "\n",
        "        if decoder_input is None:\n",
        "            translated_scores = torch.zeros(len(input), \n",
        "                                            max_seq_len, \n",
        "                                            self.vocab_size).to(self.device)\n",
        "            translated_scores[:, 0, input[:, 0]] = 1.\n",
        "            for i in range(1, max_seq_len):\n",
        "                translated_scores[:, i:i+1] = self.decoder(\n",
        "                    torch.argmax(translated_scores, axis=-1), \n",
        "                    encoder_output)[:, i:i+1]\n",
        "        else:\n",
        "            translated_scores = self.decoder(\n",
        "                decoder_input, encoder_output)\n",
        "\n",
        "        return translated_scores\n"
      ],
      "execution_count": null,
      "outputs": []
    },
    {
      "cell_type": "markdown",
      "metadata": {
        "id": "79eZIWWZfhDm"
      },
      "source": [
        "### Инициализация модели"
      ]
    },
    {
      "cell_type": "code",
      "metadata": {
        "colab": {
          "base_uri": "https://localhost:8080/"
        },
        "id": "czRgHj18fjvn",
        "outputId": "cb4e7300-2b7f-4bc1-9c91-3b16f6683e5d"
      },
      "source": [
        "model = seq2seq(tokenizer.vocab_size)\n",
        "model.to(device)"
      ],
      "execution_count": null,
      "outputs": [
        {
          "output_type": "execute_result",
          "data": {
            "text/plain": [
              "seq2seq(\n",
              "  (encoder): Encoder(\n",
              "    (layers): Sequential()\n",
              "    (embedding): Embedding(105879, 30)\n",
              "    (attention1): MultiheadAttention(\n",
              "      (out_proj): _LinearWithBias(in_features=30, out_features=30, bias=True)\n",
              "    )\n",
              "    (linear1): Linear(in_features=30, out_features=30, bias=True)\n",
              "    (relu): ReLU()\n",
              "    (attention2): MultiheadAttention(\n",
              "      (out_proj): _LinearWithBias(in_features=30, out_features=30, bias=True)\n",
              "    )\n",
              "    (linear2): Linear(in_features=30, out_features=30, bias=True)\n",
              "  )\n",
              "  (decoder): Decoder(\n",
              "    (embedding): Embedding(105879, 30)\n",
              "    (attention): MultiheadAttention(\n",
              "      (out_proj): _LinearWithBias(in_features=30, out_features=30, bias=True)\n",
              "    )\n",
              "    (linear1): Linear(in_features=30, out_features=30, bias=True)\n",
              "    (relu): ReLU()\n",
              "    (attention2): MultiheadAttention(\n",
              "      (out_proj): _LinearWithBias(in_features=30, out_features=30, bias=True)\n",
              "    )\n",
              "    (linear2): Linear(in_features=30, out_features=30, bias=True)\n",
              "    (linear): Linear(in_features=30, out_features=105879, bias=True)\n",
              "  )\n",
              ")"
            ]
          },
          "metadata": {
            "tags": []
          },
          "execution_count": 84
        }
      ]
    },
    {
      "cell_type": "code",
      "metadata": {
        "colab": {
          "base_uri": "https://localhost:8080/",
          "height": 37
        },
        "id": "uw7nACxhfnP7",
        "outputId": "5c920cc9-1672-4571-9134-4736154b86ff"
      },
      "source": [
        "tokens_en = tokenizer(['in 1924, most of the site was converted to a museum.'], return_tensors='pt')\n",
        "tokens_ru = tokenizer(['в 1924 году крепость стала музеем.'], return_tensors='pt')\n",
        "with torch.no_grad():\n",
        "    answer = torch.argmax(\n",
        "        model(tokens_en['input_ids'].to(model.device), \n",
        "              tokens_ru['input_ids'].to(model.device)), \n",
        "        axis=-1)\n",
        "tokenizer.decode(answer[0])"
      ],
      "execution_count": null,
      "outputs": [
        {
          "output_type": "execute_result",
          "data": {
            "application/vnd.google.colaboratory.intrinsic+json": {
              "type": "string"
            },
            "text/plain": [
              "'##綸綸綸綸綸綸綸綸綸綸'"
            ]
          },
          "metadata": {
            "tags": []
          },
          "execution_count": 85
        }
      ]
    },
    {
      "cell_type": "code",
      "metadata": {
        "id": "ukw7dD4agDii"
      },
      "source": [
        "loss_function = torch.nn.CrossEntropyLoss(ignore_index=0)\n",
        "optimizer = torch.optim.Adam"
      ],
      "execution_count": null,
      "outputs": []
    },
    {
      "cell_type": "code",
      "metadata": {
        "id": "ZyXmosIHgHAC"
      },
      "source": [
        "trainer(count_of_epoch=5, \n",
        "        batch_size=64, \n",
        "        dataset=dataset_train_pt,\n",
        "        model=model, \n",
        "        loss_function=loss_function,\n",
        "        optimizer = optimizer,\n",
        "        lr=0.001,\n",
        "        callback=None)"
      ],
      "execution_count": null,
      "outputs": []
    },
    {
      "cell_type": "code",
      "metadata": {
        "colab": {
          "base_uri": "https://localhost:8080/",
          "height": 37
        },
        "id": "2GeTQJgogOPN",
        "outputId": "440d55db-84e8-4d30-dbb9-7eadfc94b2ab"
      },
      "source": [
        "tokens_en = tokenizer(['in 1924, most of the site was converted to a museum.'], return_tensors='pt')\n",
        "tokens_ru = tokenizer(['в 1924 году крепость стала музеем.'], return_tensors='pt')\n",
        "with torch.no_grad():\n",
        "    answer = torch.argmax(\n",
        "        model(tokens_en['input_ids'].to(model.device), \n",
        "              tokens_ru['input_ids'].to(model.device)), \n",
        "        axis=-1)\n",
        "tokenizer.decode(answer[0])"
      ],
      "execution_count": null,
      "outputs": [
        {
          "output_type": "execute_result",
          "data": {
            "application/vnd.google.colaboratory.intrinsic+json": {
              "type": "string"
            },
            "text/plain": [
              "'##аааааааааа'"
            ]
          },
          "metadata": {
            "tags": []
          },
          "execution_count": 88
        }
      ]
    },
    {
      "cell_type": "markdown",
      "source": [
        "## Переводчик из Encoder блоков\n",
        "\n",
        "[На основе кода по генерации перевода.](https://pytorch.org/tutorials/beginner/translation_transformer.html)\n",
        "\n",
        "[Статья 2021 года. ParaSCI: A Large Scientific Paraphrase Dataset for Longer Paraphrase Generation.](https://github.com/dqxiu/ParaSCI)"
      ],
      "metadata": {
        "id": "rCCfd8PkEyOq"
      }
    },
    {
      "cell_type": "code",
      "source": [
        "# Убирем рандом\n",
        "_ = torch.manual_seed(0)"
      ],
      "metadata": {
        "id": "bDPwZ0hhHwbr"
      },
      "execution_count": 3,
      "outputs": []
    },
    {
      "cell_type": "code",
      "source": [
        "DEVICE = 'cuda' if torch.cuda.is_available() else 'cpu'\n",
        "DEVICE"
      ],
      "metadata": {
        "id": "t2QIgcuiHyz7",
        "outputId": "4224e4c2-e79d-42a9-ef67-133c1276ce05",
        "colab": {
          "base_uri": "https://localhost:8080/",
          "height": 36
        }
      },
      "execution_count": 4,
      "outputs": [
        {
          "output_type": "execute_result",
          "data": {
            "text/plain": [
              "'cuda'"
            ],
            "application/vnd.google.colaboratory.intrinsic+json": {
              "type": "string"
            }
          },
          "metadata": {},
          "execution_count": 4
        }
      ]
    },
    {
      "cell_type": "markdown",
      "source": [
        "### Скачиваем данные"
      ],
      "metadata": {
        "id": "435FOrWzFFC-"
      }
    },
    {
      "cell_type": "code",
      "source": [
        "url_base = 'https://raw.githubusercontent.com/dqxiu/ParaSCI/master/Data/ParaSCI-ACL/'\n",
        "train_urls = ('train/train.src', 'train/train.tgt')\n",
        "val_urls = ('val/val.src', 'val/val.tgt')\n",
        "test_urls = ('test/test.src', 'test/test.tgt')\n",
        "\n",
        "train_filepaths = [download_from_url(url_base + url) for url in train_urls]\n",
        "val_filepaths = [download_from_url(url_base + url) for url in val_urls]\n",
        "test_filepaths = [download_from_url(url_base + url) for url in test_urls]"
      ],
      "metadata": {
        "id": "fDHCtzgqE21l"
      },
      "execution_count": null,
      "outputs": []
    },
    {
      "cell_type": "markdown",
      "source": [
        "### Строим словарь"
      ],
      "metadata": {
        "id": "7CDXR6G6FG_R"
      }
    },
    {
      "cell_type": "code",
      "source": [
        "tokenizer = get_tokenizer('spacy', language='en_core_web_sm')\n",
        "\n",
        "def build_vocab(filepaths, tokenizer):\n",
        "    counter = Counter()\n",
        "    for filepath in filepaths:\n",
        "        with io.open(filepath, encoding=\"utf8\") as f:\n",
        "            for string_ in f:\n",
        "                counter.update(tokenizer(string_))\n",
        "    return vocab(counter, specials=['<unk>', '<pad>', '<bos>', '<eos>'])\n",
        "\n",
        "vocab = build_vocab(train_filepaths, tokenizer)\n",
        "vocab.set_default_index(vocab['<unk>'])"
      ],
      "metadata": {
        "id": "q22j8lNKE6fV"
      },
      "execution_count": 15,
      "outputs": []
    },
    {
      "cell_type": "code",
      "source": [
        "len(vocab)"
      ],
      "metadata": {
        "id": "qx8kCVxkFWnY",
        "outputId": "c8cca904-0711-47ce-8078-acb6533efbf7",
        "colab": {
          "base_uri": "https://localhost:8080/"
        }
      },
      "execution_count": 16,
      "outputs": [
        {
          "output_type": "execute_result",
          "data": {
            "text/plain": [
              "14822"
            ]
          },
          "metadata": {},
          "execution_count": 16
        }
      ]
    },
    {
      "cell_type": "markdown",
      "source": [
        "### Предобработка данных"
      ],
      "metadata": {
        "id": "TCOlOkeJFXHM"
      }
    },
    {
      "cell_type": "code",
      "source": [
        "def data_process(filepaths):\n",
        "    raw_src_iter = iter(io.open(filepaths[0], encoding=\"utf8\"))\n",
        "    raw_tgt_iter = iter(io.open(filepaths[1], encoding=\"utf8\"))\n",
        "    data = []\n",
        "    for (raw_src, raw_tgt) in zip(raw_src_iter, raw_tgt_iter):\n",
        "        src_tensor_ = torch.tensor(\n",
        "            [vocab[token] for token in tokenizer(raw_src.rstrip(\"\\n\"))],\n",
        "            dtype=torch.long)\n",
        "        tgt_tensor_ = torch.tensor(\n",
        "            [vocab[token] for token in tokenizer(raw_tgt.rstrip(\"\\n\"))],\n",
        "            dtype=torch.long)\n",
        "        data.append((src_tensor_, tgt_tensor_))\n",
        "    return data\n",
        "\n",
        "train_data = data_process(train_filepaths)\n",
        "val_data = data_process(val_filepaths, )\n",
        "test_data = data_process(test_filepaths)"
      ],
      "metadata": {
        "id": "vnQ0w42uFZUp"
      },
      "execution_count": 17,
      "outputs": []
    },
    {
      "cell_type": "code",
      "source": [
        "BATCH_SIZE = 16\n",
        "PAD_IDX = vocab['<pad>']\n",
        "BOS_IDX = vocab['<bos>']\n",
        "EOS_IDX = vocab['<eos>']"
      ],
      "metadata": {
        "id": "D5GWsa83Fc7i"
      },
      "execution_count": 18,
      "outputs": []
    },
    {
      "cell_type": "code",
      "source": [
        "def generate_batch(data_batch):\n",
        "    src_batch, tgt_batch = [], []\n",
        "    for (src_item, tgt_item) in data_batch:\n",
        "        src_batch.append(torch.cat([torch.tensor([BOS_IDX]), src_item, torch.tensor([EOS_IDX])], dim=0))\n",
        "        tgt_batch.append(torch.cat([torch.tensor([BOS_IDX]), tgt_item, torch.tensor([EOS_IDX])], dim=0))\n",
        "    src_batch = pad_sequence(src_batch, padding_value=PAD_IDX)\n",
        "    tgt_batch = pad_sequence(tgt_batch, padding_value=PAD_IDX)\n",
        "    return src_batch, tgt_batch\n",
        "\n",
        "train_iter = DataLoader(train_data, batch_size=BATCH_SIZE,\n",
        "                        shuffle=True, collate_fn=generate_batch)\n",
        "valid_iter = DataLoader(val_data, batch_size=BATCH_SIZE,\n",
        "                        shuffle=True, collate_fn=generate_batch)\n",
        "test_iter = DataLoader(test_data, batch_size=BATCH_SIZE,\n",
        "                       shuffle=True, collate_fn=generate_batch)"
      ],
      "metadata": {
        "id": "0MF7CmUDFdUU"
      },
      "execution_count": 19,
      "outputs": []
    },
    {
      "cell_type": "markdown",
      "source": [
        "### Определение самой модели"
      ],
      "metadata": {
        "id": "WnHQm23FFf0A"
      }
    },
    {
      "cell_type": "code",
      "source": [
        "class Seq2SeqTransformer(nn.Module):\n",
        "    def __init__(self, num_encoder_layers: int, num_decoder_layers: int,\n",
        "                 emb_size: int, src_vocab_size: int, tgt_vocab_size: int,\n",
        "                 dim_feedforward:int = 512, dropout:float = 0.1):\n",
        "        super(Seq2SeqTransformer, self).__init__()\n",
        "        encoder_layer = TransformerEncoderLayer(d_model=emb_size, nhead=NHEAD,\n",
        "                                                dim_feedforward=dim_feedforward)\n",
        "        self.transformer_encoder = TransformerEncoder(encoder_layer, num_layers=num_encoder_layers)\n",
        "        decoder_layer = TransformerDecoderLayer(d_model=emb_size, nhead=NHEAD,\n",
        "                                                dim_feedforward=dim_feedforward)\n",
        "        self.transformer_decoder = TransformerDecoder(decoder_layer, num_layers=num_decoder_layers)\n",
        "\n",
        "        self.generator = nn.Linear(emb_size, tgt_vocab_size)\n",
        "        self.src_tok_emb = TokenEmbedding(src_vocab_size, emb_size)\n",
        "        self.tgt_tok_emb = TokenEmbedding(tgt_vocab_size, emb_size)\n",
        "        self.positional_encoding = PositionalEncoding(emb_size, dropout=dropout)\n",
        "\n",
        "    def forward(self, src: Tensor, trg: Tensor, src_mask: Tensor,\n",
        "                tgt_mask: Tensor, src_padding_mask: Tensor,\n",
        "                tgt_padding_mask: Tensor, memory_key_padding_mask: Tensor):\n",
        "        src_emb = self.positional_encoding(self.src_tok_emb(src))\n",
        "        tgt_emb = self.positional_encoding(self.tgt_tok_emb(trg))\n",
        "        memory = self.transformer_encoder(src_emb, src_mask, src_padding_mask)\n",
        "        outs = self.transformer_decoder(tgt_emb, memory, tgt_mask, None,\n",
        "                                        tgt_padding_mask, memory_key_padding_mask)\n",
        "        return self.generator(outs)\n",
        "\n",
        "    def encode(self, src: Tensor, src_mask: Tensor):\n",
        "        return self.transformer_encoder(self.positional_encoding(\n",
        "                            self.src_tok_emb(src)), src_mask)\n",
        "\n",
        "    def decode(self, tgt: Tensor, memory: Tensor, tgt_mask: Tensor):\n",
        "        return self.transformer_decoder(self.positional_encoding(\n",
        "                          self.tgt_tok_emb(tgt)), memory,\n",
        "                          tgt_mask)\n",
        "\n",
        "    \n",
        "class PositionalEncoding(nn.Module):\n",
        "    def __init__(self, emb_size: int, dropout, maxlen: int = 5000):\n",
        "        super(PositionalEncoding, self).__init__()\n",
        "        den = torch.exp(- torch.arange(0, emb_size, 2) * math.log(10000) / emb_size)\n",
        "        pos = torch.arange(0, maxlen).reshape(maxlen, 1)\n",
        "        pos_embedding = torch.zeros((maxlen, emb_size))\n",
        "        pos_embedding[:, 0::2] = torch.sin(pos * den)\n",
        "        pos_embedding[:, 1::2] = torch.cos(pos * den)\n",
        "        pos_embedding = pos_embedding.unsqueeze(-2)\n",
        "\n",
        "        self.dropout = nn.Dropout(dropout)\n",
        "        self.register_buffer('pos_embedding', pos_embedding)\n",
        "\n",
        "    def forward(self, token_embedding: Tensor):\n",
        "        return self.dropout(token_embedding +\n",
        "                            self.pos_embedding[:token_embedding.size(0),:])\n",
        "\n",
        "class TokenEmbedding(nn.Module):\n",
        "    def __init__(self, vocab_size: int, emb_size):\n",
        "        super(TokenEmbedding, self).__init__()\n",
        "        self.embedding = nn.Embedding(vocab_size, emb_size)\n",
        "        self.emb_size = emb_size\n",
        "    def forward(self, tokens: Tensor):\n",
        "        return self.embedding(tokens.long()) * math.sqrt(self.emb_size)\n",
        "    \n",
        "# Делаем, так чтобы в обучении не было заглядывания на дальнешие слова\n",
        "def generate_square_subsequent_mask(sz):\n",
        "    mask = (torch.triu(torch.ones((sz, sz), device=DEVICE)) == 1).transpose(0, 1)\n",
        "    mask = mask.float().masked_fill(mask == 0, float('-inf')).masked_fill(mask == 1, float(0.0))\n",
        "    return mask\n",
        "\n",
        "def create_mask(src, tgt):\n",
        "    src_seq_len = src.shape[0]\n",
        "    tgt_seq_len = tgt.shape[0]\n",
        "\n",
        "    tgt_mask = generate_square_subsequent_mask(tgt_seq_len)\n",
        "    src_mask = torch.zeros((src_seq_len, src_seq_len), device=DEVICE).type(torch.bool)\n",
        "\n",
        "    src_padding_mask = (src == PAD_IDX).transpose(0, 1)\n",
        "    tgt_padding_mask = (tgt == PAD_IDX).transpose(0, 1)\n",
        "    return src_mask, tgt_mask, src_padding_mask, tgt_padding_mask"
      ],
      "metadata": {
        "id": "HRMVt1D-Fh2p"
      },
      "execution_count": 20,
      "outputs": []
    },
    {
      "cell_type": "markdown",
      "source": [
        "### Определяем разные варианты декодирования токенов"
      ],
      "metadata": {
        "id": "fcLEg_LmFqBc"
      }
    },
    {
      "cell_type": "code",
      "source": [
        "def greedy_decode(model, src, src_mask, max_len, start_symbol, num_samples=1):\n",
        "    src = src.to(DEVICE)\n",
        "    src = torch.cat([src]*num_samples, dim=1)\n",
        "    src_mask = src_mask.to(DEVICE)\n",
        "\n",
        "    memory = model.encode(src, src_mask)\n",
        "    \n",
        "    ys = torch.ones(1, num_samples).fill_(start_symbol).type(torch.long).to(DEVICE)\n",
        "    for i in range(max_len-1):\n",
        "        memory = memory.to(DEVICE)\n",
        "        memory_mask = torch.zeros(ys.shape[0], memory.shape[0]).to(DEVICE).type(torch.bool)\n",
        "        tgt_mask = (generate_square_subsequent_mask(ys.size(0))\n",
        "                                    .type(torch.bool)).to(DEVICE)\n",
        "        out = model.decode(ys, memory, tgt_mask)\n",
        "        out = out.transpose(0, 1)\n",
        "        prob = model.generator(out[:, -1])\n",
        "        _, next_word = torch.max(prob, dim = 1)\n",
        "        next_word = next_word.detach()\n",
        "\n",
        "        ys = torch.cat([ys,\n",
        "                        next_word.view(1, -1)], dim=0)\n",
        "    return ys.transpose(0,1)\n",
        "\n",
        "def sampling_decode(model, src, src_mask, max_len, start_symbol, num_samples=1):\n",
        "    src = src.to(DEVICE)\n",
        "    src = torch.cat([src]*num_samples, dim=1)\n",
        "    src_mask = src_mask.to(DEVICE)\n",
        "\n",
        "    memory = model.encode(src, src_mask)\n",
        "    \n",
        "    ys = torch.ones(1, num_samples).fill_(start_symbol).type(torch.long).to(DEVICE)\n",
        "    for i in range(max_len-1):\n",
        "        memory = memory.to(DEVICE)\n",
        "        memory_mask = torch.zeros(ys.shape[0], memory.shape[0]).to(DEVICE).type(torch.bool)\n",
        "        tgt_mask = (generate_square_subsequent_mask(ys.size(0))\n",
        "                                    .type(torch.bool)).to(DEVICE)\n",
        "        out = model.decode(ys, memory, tgt_mask)\n",
        "        out = out.transpose(0, 1)\n",
        "        prob = model.generator(out[:, -1])\n",
        "        next_word = torch.multinomial(torch.nn.functional.softmax(prob, dim=-1), 1)\n",
        "        next_word = next_word.detach()\n",
        "\n",
        "        ys = torch.cat([ys,\n",
        "                        next_word.view(1, -1)], dim=0)\n",
        "    return ys.transpose(0,1)\n",
        "\n",
        "def paraphrase(model, \n",
        "              srcs, \n",
        "              src_vocab, \n",
        "              tgt_vocab, \n",
        "              src_tokenizer, \n",
        "              decoder=greedy_decode, \n",
        "              ret_tokens=False, \n",
        "              ret_idx=False, \n",
        "              max_len_add=10,\n",
        "              input_idx=False,\n",
        "              **argv):\n",
        "    model.eval()\n",
        "    global_answers = []\n",
        "    for src in srcs:\n",
        "        if not input_idx:\n",
        "            tokens = [BOS_IDX] + [src_vocab.get_stoi()[tok] for tok in src_tokenizer(src)]+ [EOS_IDX]\n",
        "            src = torch.LongTensor(tokens)\n",
        "        num_tokens = len(src)\n",
        "        src = src.reshape(num_tokens, 1)\n",
        "        \n",
        "        src_mask = (torch.zeros(num_tokens, num_tokens)).type(torch.bool)\n",
        "        tgt_tokens = decoder(model, src, src_mask, max_len=num_tokens + max_len_add, start_symbol=BOS_IDX, **argv)\n",
        "\n",
        "        answers = []\n",
        "        for tgt_token in tgt_tokens:\n",
        "            if not ret_idx:\n",
        "                reference = []\n",
        "                for tok in tgt_token:\n",
        "                    if tok.item() == tgt_vocab['<eos>']:\n",
        "                        break\n",
        "                    if tok.item() not in {tgt_vocab['<eos>'], tgt_vocab['<bos>'], tgt_vocab['<pad>']}:\n",
        "                        reference.append(tgt_vocab.get_itos()[tok])\n",
        "                answers.append(\" \".join(reference).strip())\n",
        "                if ret_tokens:\n",
        "                    answers[-1] = answers[-1].split(\" \")\n",
        "            else:\n",
        "                reference = []\n",
        "                for tok in tgt_token:\n",
        "                    if tok.item() == tgt_vocab['<eos>']:\n",
        "                        break\n",
        "                    if tok.item() not in {tgt_vocab['<eos>'], tgt_vocab['<bos>'], tgt_vocab['<pad>']}:\n",
        "                        reference.append(tok.item())\n",
        "                        \n",
        "                answers.append(reference)\n",
        "        global_answers.append(answers)\n",
        "    return global_answers"
      ],
      "metadata": {
        "id": "u5LDhoxwFt25"
      },
      "execution_count": 31,
      "outputs": []
    },
    {
      "cell_type": "code",
      "source": [
        "def evaluate(model, val_iter):\n",
        "    model.eval()\n",
        "    losses = 0\n",
        "    for idx, (src, tgt) in (enumerate(valid_iter)):\n",
        "        src = src.to(DEVICE)\n",
        "        tgt = tgt.to(DEVICE)\n",
        "\n",
        "        tgt_input = tgt[:-1, :]\n",
        "\n",
        "        src_mask, tgt_mask, src_padding_mask, tgt_padding_mask = create_mask(src, tgt_input)\n",
        "\n",
        "        logits = model(src, tgt_input, src_mask, tgt_mask,\n",
        "                              src_padding_mask, tgt_padding_mask, src_padding_mask)\n",
        "        \n",
        "        tgt_out = tgt[1:,:]\n",
        "        loss = loss_fn(logits.reshape(-1, logits.shape[-1]), tgt_out.reshape(-1))\n",
        "        losses += loss.item()\n",
        "    return losses / len(val_iter)"
      ],
      "metadata": {
        "id": "59Y9vAErFw8m"
      },
      "execution_count": 23,
      "outputs": []
    },
    {
      "cell_type": "markdown",
      "source": [
        "### Функции обучения"
      ],
      "metadata": {
        "id": "eJFULvEJFyX9"
      }
    },
    {
      "cell_type": "code",
      "source": [
        "def train_epoch(model, train_iter, optimizer, loss_fn):\n",
        "    model.train()\n",
        "    losses = 0\n",
        "    for idx, (src, tgt) in enumerate(train_iter):\n",
        "        src = src.to(DEVICE)\n",
        "        tgt = tgt.to(DEVICE)\n",
        "\n",
        "        tgt_input = tgt[:-1, :]\n",
        "\n",
        "        src_mask, tgt_mask, src_padding_mask, tgt_padding_mask = create_mask(src, tgt_input)\n",
        "\n",
        "        logits = model(src, \n",
        "                       tgt_input, \n",
        "                       src_mask, \n",
        "                       tgt_mask,\n",
        "                       src_padding_mask, \n",
        "                       tgt_padding_mask, \n",
        "                       src_padding_mask)\n",
        "\n",
        "        optimizer.zero_grad()\n",
        "\n",
        "        tgt_out = tgt[1:,:]\n",
        "        loss = loss_fn(logits.reshape(-1, logits.shape[-1]), tgt_out.reshape(-1))\n",
        "        loss.backward()\n",
        "\n",
        "        optimizer.step()\n",
        "        losses += loss.item()\n",
        "    return losses / len(train_iter)"
      ],
      "metadata": {
        "id": "iK0uKzFQF2zR"
      },
      "execution_count": 24,
      "outputs": []
    },
    {
      "cell_type": "markdown",
      "source": [
        "### Обучение модели"
      ],
      "metadata": {
        "id": "VTP57JcRF7GT"
      }
    },
    {
      "cell_type": "code",
      "source": [
        "SRC_VOCAB_SIZE = len(vocab)\n",
        "TGT_VOCAB_SIZE = len(vocab)\n",
        "EMB_SIZE = 512\n",
        "NHEAD = 8\n",
        "FFN_HID_DIM = 512\n",
        "NUM_ENCODER_LAYERS = 3\n",
        "NUM_DECODER_LAYERS = 3\n",
        "NUM_EPOCHS = 5\n",
        "\n",
        "\n",
        "transformer = Seq2SeqTransformer(NUM_ENCODER_LAYERS, \n",
        "                                 NUM_DECODER_LAYERS,\n",
        "                                 EMB_SIZE, SRC_VOCAB_SIZE, \n",
        "                                 TGT_VOCAB_SIZE,\n",
        "                                 FFN_HID_DIM)\n",
        "\n",
        "for p in transformer.parameters():\n",
        "    if p.dim() > 1:\n",
        "        nn.init.xavier_uniform_(p)\n",
        "\n",
        "transformer = transformer.to(DEVICE)\n",
        "\n",
        "loss_fn = torch.nn.CrossEntropyLoss(ignore_index=PAD_IDX)\n",
        "\n",
        "optimizer = torch.optim.Adam(\n",
        "    transformer.parameters(), lr=0.0001, betas=(0.9, 0.98), eps=1e-9\n",
        ")\n",
        "\n",
        "\n",
        "for epoch in range(1, NUM_EPOCHS+1):\n",
        "    start_time = time.time()\n",
        "    train_loss = train_epoch(transformer, train_iter, optimizer, loss_fn)\n",
        "    end_time = time.time()\n",
        "    val_loss = evaluate(transformer, valid_iter)\n",
        "    all_time = time.time()\n",
        "    print(f\"Epoch: {epoch}, \"\n",
        "          f\"Train loss: {train_loss:.3f}, \"\n",
        "          f\"Val loss: {val_loss:.3f}, \"\n",
        "          f\"Epoch time = {(end_time - start_time):.3f}s, \"\n",
        "          f\"All time = {(all_time - start_time):.3f}s\")"
      ],
      "metadata": {
        "id": "6amMr5afF825",
        "outputId": "e32ddded-5ed3-4ae1-c8b6-339ceb910abe",
        "colab": {
          "base_uri": "https://localhost:8080/"
        }
      },
      "execution_count": 26,
      "outputs": [
        {
          "output_type": "stream",
          "name": "stdout",
          "text": [
            "Epoch: 1, Train loss: 4.584, Val loss: 2.931, Epoch time = 90.025s, All time = 93.271s\n",
            "Epoch: 2, Train loss: 3.442, Val loss: 2.355, Epoch time = 85.002s, All time = 88.477s\n",
            "Epoch: 3, Train loss: 3.002, Val loss: 2.026, Epoch time = 86.008s, All time = 90.066s\n",
            "Epoch: 4, Train loss: 2.691, Val loss: 1.768, Epoch time = 85.935s, All time = 88.315s\n",
            "Epoch: 5, Train loss: 2.446, Val loss: 1.597, Epoch time = 84.769s, All time = 87.147s\n"
          ]
        }
      ]
    },
    {
      "cell_type": "markdown",
      "source": [
        "### Пример работы (greedy search)"
      ],
      "metadata": {
        "id": "37I3jdEIGFZ9"
      }
    },
    {
      "cell_type": "code",
      "source": [
        "%%time\n",
        "paraphrase(transformer, [\"in our work , we focus on supervised domain adaptation .\"], \n",
        "          vocab, \n",
        "          vocab, \n",
        "          tokenizer, \n",
        "          decoder=greedy_decode, num_samples=5)[0]"
      ],
      "metadata": {
        "id": "lIeSk8aEGBxE",
        "outputId": "c9665d52-700e-44c3-c42a-53cdf9b8092e",
        "colab": {
          "base_uri": "https://localhost:8080/"
        }
      },
      "execution_count": 32,
      "outputs": [
        {
          "output_type": "stream",
          "name": "stdout",
          "text": [
            "CPU times: user 548 ms, sys: 4.02 ms, total: 552 ms\n",
            "Wall time: 563 ms\n"
          ]
        },
        {
          "output_type": "execute_result",
          "data": {
            "text/plain": [
              "['in this work , we propose a new method for domain adaptation .',\n",
              " 'in this work , we propose a new method for domain adaptation .',\n",
              " 'in this work , we propose a new method for domain adaptation .',\n",
              " 'in this work , we propose a new method for domain adaptation .',\n",
              " 'in this work , we propose a new method for domain adaptation .']"
            ]
          },
          "metadata": {},
          "execution_count": 32
        }
      ]
    },
    {
      "cell_type": "markdown",
      "source": [
        "### Пример работы (multinominal sampling)"
      ],
      "metadata": {
        "id": "47P0RPlXGKb1"
      }
    },
    {
      "cell_type": "code",
      "source": [
        "%%time\n",
        "paraphrase(transformer, [\"in our work , we focus on supervised domain adaptation .\"], \n",
        "          vocab, \n",
        "          vocab, \n",
        "          tokenizer, \n",
        "          decoder=sampling_decode, num_samples=5)[0]"
      ],
      "metadata": {
        "id": "Kz0rg6KpGIy4",
        "outputId": "594d3dc5-49d2-40c9-cc99-669f78909200",
        "colab": {
          "base_uri": "https://localhost:8080/"
        }
      },
      "execution_count": 33,
      "outputs": [
        {
          "output_type": "stream",
          "name": "stdout",
          "text": [
            "CPU times: user 365 ms, sys: 25 µs, total: 365 ms\n",
            "Wall time: 367 ms\n"
          ]
        },
        {
          "output_type": "execute_result",
          "data": {
            "text/plain": [
              "['we will attempt to perform better domain data .',\n",
              " 'we adopted a very state of the art results .',\n",
              " 'in the first , it is given a large way of domain adaptation .',\n",
              " 'by the predicted x appropriate expressed by the domain behavior .',\n",
              " 'in this work , by skipgram training on domain adaptation .']"
            ]
          },
          "metadata": {},
          "execution_count": 33
        }
      ]
    },
    {
      "cell_type": "markdown",
      "metadata": {
        "id": "xdaa2cKZeCz2"
      },
      "source": [
        "## Переводчик Tensor2Tensor"
      ]
    },
    {
      "cell_type": "code",
      "metadata": {
        "colab": {
          "base_uri": "https://localhost:8080/"
        },
        "id": "olM9pHpngVnu",
        "outputId": "d5961eab-89f6-45fa-e558-e24d7c8ef5c6"
      },
      "source": [
        "tokenizer = MarianTokenizer.from_pretrained('Helsinki-NLP/opus-mt-ru-en')\n",
        "model = MarianMTModel.from_pretrained('Helsinki-NLP/opus-mt-ru-en')\n",
        "model.to(device)"
      ],
      "execution_count": null,
      "outputs": [
        {
          "output_type": "execute_result",
          "data": {
            "text/plain": [
              "MarianMTModel(\n",
              "  (model): BartModel(\n",
              "    (shared): Embedding(62518, 512, padding_idx=62517)\n",
              "    (encoder): BartEncoder(\n",
              "      (embed_tokens): Embedding(62518, 512, padding_idx=62517)\n",
              "      (embed_positions): SinusoidalPositionalEmbedding(512, 512)\n",
              "      (layers): ModuleList(\n",
              "        (0): EncoderLayer(\n",
              "          (self_attn): Attention(\n",
              "            (k_proj): Linear(in_features=512, out_features=512, bias=True)\n",
              "            (v_proj): Linear(in_features=512, out_features=512, bias=True)\n",
              "            (q_proj): Linear(in_features=512, out_features=512, bias=True)\n",
              "            (out_proj): Linear(in_features=512, out_features=512, bias=True)\n",
              "          )\n",
              "          (self_attn_layer_norm): LayerNorm((512,), eps=1e-05, elementwise_affine=True)\n",
              "          (fc1): Linear(in_features=512, out_features=2048, bias=True)\n",
              "          (fc2): Linear(in_features=2048, out_features=512, bias=True)\n",
              "          (final_layer_norm): LayerNorm((512,), eps=1e-05, elementwise_affine=True)\n",
              "        )\n",
              "        (1): EncoderLayer(\n",
              "          (self_attn): Attention(\n",
              "            (k_proj): Linear(in_features=512, out_features=512, bias=True)\n",
              "            (v_proj): Linear(in_features=512, out_features=512, bias=True)\n",
              "            (q_proj): Linear(in_features=512, out_features=512, bias=True)\n",
              "            (out_proj): Linear(in_features=512, out_features=512, bias=True)\n",
              "          )\n",
              "          (self_attn_layer_norm): LayerNorm((512,), eps=1e-05, elementwise_affine=True)\n",
              "          (fc1): Linear(in_features=512, out_features=2048, bias=True)\n",
              "          (fc2): Linear(in_features=2048, out_features=512, bias=True)\n",
              "          (final_layer_norm): LayerNorm((512,), eps=1e-05, elementwise_affine=True)\n",
              "        )\n",
              "        (2): EncoderLayer(\n",
              "          (self_attn): Attention(\n",
              "            (k_proj): Linear(in_features=512, out_features=512, bias=True)\n",
              "            (v_proj): Linear(in_features=512, out_features=512, bias=True)\n",
              "            (q_proj): Linear(in_features=512, out_features=512, bias=True)\n",
              "            (out_proj): Linear(in_features=512, out_features=512, bias=True)\n",
              "          )\n",
              "          (self_attn_layer_norm): LayerNorm((512,), eps=1e-05, elementwise_affine=True)\n",
              "          (fc1): Linear(in_features=512, out_features=2048, bias=True)\n",
              "          (fc2): Linear(in_features=2048, out_features=512, bias=True)\n",
              "          (final_layer_norm): LayerNorm((512,), eps=1e-05, elementwise_affine=True)\n",
              "        )\n",
              "        (3): EncoderLayer(\n",
              "          (self_attn): Attention(\n",
              "            (k_proj): Linear(in_features=512, out_features=512, bias=True)\n",
              "            (v_proj): Linear(in_features=512, out_features=512, bias=True)\n",
              "            (q_proj): Linear(in_features=512, out_features=512, bias=True)\n",
              "            (out_proj): Linear(in_features=512, out_features=512, bias=True)\n",
              "          )\n",
              "          (self_attn_layer_norm): LayerNorm((512,), eps=1e-05, elementwise_affine=True)\n",
              "          (fc1): Linear(in_features=512, out_features=2048, bias=True)\n",
              "          (fc2): Linear(in_features=2048, out_features=512, bias=True)\n",
              "          (final_layer_norm): LayerNorm((512,), eps=1e-05, elementwise_affine=True)\n",
              "        )\n",
              "        (4): EncoderLayer(\n",
              "          (self_attn): Attention(\n",
              "            (k_proj): Linear(in_features=512, out_features=512, bias=True)\n",
              "            (v_proj): Linear(in_features=512, out_features=512, bias=True)\n",
              "            (q_proj): Linear(in_features=512, out_features=512, bias=True)\n",
              "            (out_proj): Linear(in_features=512, out_features=512, bias=True)\n",
              "          )\n",
              "          (self_attn_layer_norm): LayerNorm((512,), eps=1e-05, elementwise_affine=True)\n",
              "          (fc1): Linear(in_features=512, out_features=2048, bias=True)\n",
              "          (fc2): Linear(in_features=2048, out_features=512, bias=True)\n",
              "          (final_layer_norm): LayerNorm((512,), eps=1e-05, elementwise_affine=True)\n",
              "        )\n",
              "        (5): EncoderLayer(\n",
              "          (self_attn): Attention(\n",
              "            (k_proj): Linear(in_features=512, out_features=512, bias=True)\n",
              "            (v_proj): Linear(in_features=512, out_features=512, bias=True)\n",
              "            (q_proj): Linear(in_features=512, out_features=512, bias=True)\n",
              "            (out_proj): Linear(in_features=512, out_features=512, bias=True)\n",
              "          )\n",
              "          (self_attn_layer_norm): LayerNorm((512,), eps=1e-05, elementwise_affine=True)\n",
              "          (fc1): Linear(in_features=512, out_features=2048, bias=True)\n",
              "          (fc2): Linear(in_features=2048, out_features=512, bias=True)\n",
              "          (final_layer_norm): LayerNorm((512,), eps=1e-05, elementwise_affine=True)\n",
              "        )\n",
              "      )\n",
              "      (layernorm_embedding): Identity()\n",
              "    )\n",
              "    (decoder): BartDecoder(\n",
              "      (embed_tokens): Embedding(62518, 512, padding_idx=62517)\n",
              "      (embed_positions): SinusoidalPositionalEmbedding(512, 512)\n",
              "      (layers): ModuleList(\n",
              "        (0): DecoderLayer(\n",
              "          (self_attn): Attention(\n",
              "            (k_proj): Linear(in_features=512, out_features=512, bias=True)\n",
              "            (v_proj): Linear(in_features=512, out_features=512, bias=True)\n",
              "            (q_proj): Linear(in_features=512, out_features=512, bias=True)\n",
              "            (out_proj): Linear(in_features=512, out_features=512, bias=True)\n",
              "          )\n",
              "          (self_attn_layer_norm): LayerNorm((512,), eps=1e-05, elementwise_affine=True)\n",
              "          (encoder_attn): Attention(\n",
              "            (k_proj): Linear(in_features=512, out_features=512, bias=True)\n",
              "            (v_proj): Linear(in_features=512, out_features=512, bias=True)\n",
              "            (q_proj): Linear(in_features=512, out_features=512, bias=True)\n",
              "            (out_proj): Linear(in_features=512, out_features=512, bias=True)\n",
              "          )\n",
              "          (encoder_attn_layer_norm): LayerNorm((512,), eps=1e-05, elementwise_affine=True)\n",
              "          (fc1): Linear(in_features=512, out_features=2048, bias=True)\n",
              "          (fc2): Linear(in_features=2048, out_features=512, bias=True)\n",
              "          (final_layer_norm): LayerNorm((512,), eps=1e-05, elementwise_affine=True)\n",
              "        )\n",
              "        (1): DecoderLayer(\n",
              "          (self_attn): Attention(\n",
              "            (k_proj): Linear(in_features=512, out_features=512, bias=True)\n",
              "            (v_proj): Linear(in_features=512, out_features=512, bias=True)\n",
              "            (q_proj): Linear(in_features=512, out_features=512, bias=True)\n",
              "            (out_proj): Linear(in_features=512, out_features=512, bias=True)\n",
              "          )\n",
              "          (self_attn_layer_norm): LayerNorm((512,), eps=1e-05, elementwise_affine=True)\n",
              "          (encoder_attn): Attention(\n",
              "            (k_proj): Linear(in_features=512, out_features=512, bias=True)\n",
              "            (v_proj): Linear(in_features=512, out_features=512, bias=True)\n",
              "            (q_proj): Linear(in_features=512, out_features=512, bias=True)\n",
              "            (out_proj): Linear(in_features=512, out_features=512, bias=True)\n",
              "          )\n",
              "          (encoder_attn_layer_norm): LayerNorm((512,), eps=1e-05, elementwise_affine=True)\n",
              "          (fc1): Linear(in_features=512, out_features=2048, bias=True)\n",
              "          (fc2): Linear(in_features=2048, out_features=512, bias=True)\n",
              "          (final_layer_norm): LayerNorm((512,), eps=1e-05, elementwise_affine=True)\n",
              "        )\n",
              "        (2): DecoderLayer(\n",
              "          (self_attn): Attention(\n",
              "            (k_proj): Linear(in_features=512, out_features=512, bias=True)\n",
              "            (v_proj): Linear(in_features=512, out_features=512, bias=True)\n",
              "            (q_proj): Linear(in_features=512, out_features=512, bias=True)\n",
              "            (out_proj): Linear(in_features=512, out_features=512, bias=True)\n",
              "          )\n",
              "          (self_attn_layer_norm): LayerNorm((512,), eps=1e-05, elementwise_affine=True)\n",
              "          (encoder_attn): Attention(\n",
              "            (k_proj): Linear(in_features=512, out_features=512, bias=True)\n",
              "            (v_proj): Linear(in_features=512, out_features=512, bias=True)\n",
              "            (q_proj): Linear(in_features=512, out_features=512, bias=True)\n",
              "            (out_proj): Linear(in_features=512, out_features=512, bias=True)\n",
              "          )\n",
              "          (encoder_attn_layer_norm): LayerNorm((512,), eps=1e-05, elementwise_affine=True)\n",
              "          (fc1): Linear(in_features=512, out_features=2048, bias=True)\n",
              "          (fc2): Linear(in_features=2048, out_features=512, bias=True)\n",
              "          (final_layer_norm): LayerNorm((512,), eps=1e-05, elementwise_affine=True)\n",
              "        )\n",
              "        (3): DecoderLayer(\n",
              "          (self_attn): Attention(\n",
              "            (k_proj): Linear(in_features=512, out_features=512, bias=True)\n",
              "            (v_proj): Linear(in_features=512, out_features=512, bias=True)\n",
              "            (q_proj): Linear(in_features=512, out_features=512, bias=True)\n",
              "            (out_proj): Linear(in_features=512, out_features=512, bias=True)\n",
              "          )\n",
              "          (self_attn_layer_norm): LayerNorm((512,), eps=1e-05, elementwise_affine=True)\n",
              "          (encoder_attn): Attention(\n",
              "            (k_proj): Linear(in_features=512, out_features=512, bias=True)\n",
              "            (v_proj): Linear(in_features=512, out_features=512, bias=True)\n",
              "            (q_proj): Linear(in_features=512, out_features=512, bias=True)\n",
              "            (out_proj): Linear(in_features=512, out_features=512, bias=True)\n",
              "          )\n",
              "          (encoder_attn_layer_norm): LayerNorm((512,), eps=1e-05, elementwise_affine=True)\n",
              "          (fc1): Linear(in_features=512, out_features=2048, bias=True)\n",
              "          (fc2): Linear(in_features=2048, out_features=512, bias=True)\n",
              "          (final_layer_norm): LayerNorm((512,), eps=1e-05, elementwise_affine=True)\n",
              "        )\n",
              "        (4): DecoderLayer(\n",
              "          (self_attn): Attention(\n",
              "            (k_proj): Linear(in_features=512, out_features=512, bias=True)\n",
              "            (v_proj): Linear(in_features=512, out_features=512, bias=True)\n",
              "            (q_proj): Linear(in_features=512, out_features=512, bias=True)\n",
              "            (out_proj): Linear(in_features=512, out_features=512, bias=True)\n",
              "          )\n",
              "          (self_attn_layer_norm): LayerNorm((512,), eps=1e-05, elementwise_affine=True)\n",
              "          (encoder_attn): Attention(\n",
              "            (k_proj): Linear(in_features=512, out_features=512, bias=True)\n",
              "            (v_proj): Linear(in_features=512, out_features=512, bias=True)\n",
              "            (q_proj): Linear(in_features=512, out_features=512, bias=True)\n",
              "            (out_proj): Linear(in_features=512, out_features=512, bias=True)\n",
              "          )\n",
              "          (encoder_attn_layer_norm): LayerNorm((512,), eps=1e-05, elementwise_affine=True)\n",
              "          (fc1): Linear(in_features=512, out_features=2048, bias=True)\n",
              "          (fc2): Linear(in_features=2048, out_features=512, bias=True)\n",
              "          (final_layer_norm): LayerNorm((512,), eps=1e-05, elementwise_affine=True)\n",
              "        )\n",
              "        (5): DecoderLayer(\n",
              "          (self_attn): Attention(\n",
              "            (k_proj): Linear(in_features=512, out_features=512, bias=True)\n",
              "            (v_proj): Linear(in_features=512, out_features=512, bias=True)\n",
              "            (q_proj): Linear(in_features=512, out_features=512, bias=True)\n",
              "            (out_proj): Linear(in_features=512, out_features=512, bias=True)\n",
              "          )\n",
              "          (self_attn_layer_norm): LayerNorm((512,), eps=1e-05, elementwise_affine=True)\n",
              "          (encoder_attn): Attention(\n",
              "            (k_proj): Linear(in_features=512, out_features=512, bias=True)\n",
              "            (v_proj): Linear(in_features=512, out_features=512, bias=True)\n",
              "            (q_proj): Linear(in_features=512, out_features=512, bias=True)\n",
              "            (out_proj): Linear(in_features=512, out_features=512, bias=True)\n",
              "          )\n",
              "          (encoder_attn_layer_norm): LayerNorm((512,), eps=1e-05, elementwise_affine=True)\n",
              "          (fc1): Linear(in_features=512, out_features=2048, bias=True)\n",
              "          (fc2): Linear(in_features=2048, out_features=512, bias=True)\n",
              "          (final_layer_norm): LayerNorm((512,), eps=1e-05, elementwise_affine=True)\n",
              "        )\n",
              "      )\n",
              "      (layernorm_embedding): Identity()\n",
              "    )\n",
              "  )\n",
              ")"
            ]
          },
          "metadata": {
            "tags": []
          },
          "execution_count": 8
        }
      ]
    },
    {
      "cell_type": "code",
      "metadata": {
        "id": "VFsqY73Wj9Bx"
      },
      "source": [
        "batch_x = tokenizer.prepare_seq2seq_batch(src_texts=['Привет мир, меня зовут Трансформер'], return_tensors=\"pt\")"
      ],
      "execution_count": null,
      "outputs": []
    },
    {
      "cell_type": "code",
      "metadata": {
        "colab": {
          "base_uri": "https://localhost:8080/"
        },
        "id": "UZsTxgZkkDvV",
        "outputId": "5c0abec8-43e9-42fe-ddf9-6df3a28e55d7"
      },
      "source": [
        "tokenizer.batch_decode(model.generate(**batch_x.to(device)))"
      ],
      "execution_count": null,
      "outputs": [
        {
          "output_type": "execute_result",
          "data": {
            "text/plain": [
              "['<pad> Hey, world, my name is Transformer.']"
            ]
          },
          "metadata": {
            "tags": []
          },
          "execution_count": 18
        }
      ]
    },
    {
      "cell_type": "markdown",
      "metadata": {
        "id": "Z-UYkvAaeCz2"
      },
      "source": [
        "## Токенизация BPE (Byte Pair Encoding)"
      ]
    },
    {
      "cell_type": "code",
      "metadata": {
        "colab": {
          "base_uri": "https://localhost:8080/"
        },
        "id": "BEPmEk_pkgkm",
        "outputId": "0dfafb41-0378-4eeb-c149-6cf507c6d1f4"
      },
      "source": [
        "tokenizer = AutoTokenizer.from_pretrained('sentence-transformers/LaBSE', \n",
        "                                          verbose=False)\n",
        "tokenizer.vocab_size"
      ],
      "execution_count": null,
      "outputs": [
        {
          "output_type": "execute_result",
          "data": {
            "text/plain": [
              "501153"
            ]
          },
          "metadata": {
            "tags": []
          },
          "execution_count": 20
        }
      ]
    },
    {
      "cell_type": "code",
      "metadata": {
        "colab": {
          "base_uri": "https://localhost:8080/"
        },
        "id": "OTKU4KwBk1Ms",
        "outputId": "b06cd282-3a7c-4402-cd1e-f4af4c26877a"
      },
      "source": [
        "tokenizer.tokenize('Hello Mathematic, my Name is Andrey, how are you?')"
      ],
      "execution_count": null,
      "outputs": [
        {
          "output_type": "execute_result",
          "data": {
            "text/plain": [
              "['Hello',\n",
              " 'Math',\n",
              " '##emat',\n",
              " '##ic',\n",
              " ',',\n",
              " 'my',\n",
              " 'Name',\n",
              " 'is',\n",
              " 'Andrey',\n",
              " ',',\n",
              " 'how',\n",
              " 'are',\n",
              " 'you',\n",
              " '?']"
            ]
          },
          "metadata": {
            "tags": []
          },
          "execution_count": 29
        }
      ]
    },
    {
      "cell_type": "markdown",
      "metadata": {
        "id": "BUkud37HeCz2"
      },
      "source": [
        "## BERT (Bidirectional Encoder Representations from Transformers)"
      ]
    },
    {
      "cell_type": "code",
      "metadata": {
        "colab": {
          "base_uri": "https://localhost:8080/"
        },
        "id": "V91ZW_IclYB8",
        "outputId": "61f9162f-6fea-4c5a-b4ff-e9b5618c0b88"
      },
      "source": [
        "tokenizer = AutoTokenizer.from_pretrained('bert-base-multilingual-cased', \n",
        "                                          verbose=False)\n",
        "model = AutoModel.from_pretrained('bert-base-multilingual-cased')\n",
        "model.to(device)"
      ],
      "execution_count": null,
      "outputs": [
        {
          "output_type": "execute_result",
          "data": {
            "text/plain": [
              "BertModel(\n",
              "  (embeddings): BertEmbeddings(\n",
              "    (word_embeddings): Embedding(119547, 768, padding_idx=0)\n",
              "    (position_embeddings): Embedding(512, 768)\n",
              "    (token_type_embeddings): Embedding(2, 768)\n",
              "    (LayerNorm): LayerNorm((768,), eps=1e-12, elementwise_affine=True)\n",
              "    (dropout): Dropout(p=0.1, inplace=False)\n",
              "  )\n",
              "  (encoder): BertEncoder(\n",
              "    (layer): ModuleList(\n",
              "      (0): BertLayer(\n",
              "        (attention): BertAttention(\n",
              "          (self): BertSelfAttention(\n",
              "            (query): Linear(in_features=768, out_features=768, bias=True)\n",
              "            (key): Linear(in_features=768, out_features=768, bias=True)\n",
              "            (value): Linear(in_features=768, out_features=768, bias=True)\n",
              "            (dropout): Dropout(p=0.1, inplace=False)\n",
              "          )\n",
              "          (output): BertSelfOutput(\n",
              "            (dense): Linear(in_features=768, out_features=768, bias=True)\n",
              "            (LayerNorm): LayerNorm((768,), eps=1e-12, elementwise_affine=True)\n",
              "            (dropout): Dropout(p=0.1, inplace=False)\n",
              "          )\n",
              "        )\n",
              "        (intermediate): BertIntermediate(\n",
              "          (dense): Linear(in_features=768, out_features=3072, bias=True)\n",
              "        )\n",
              "        (output): BertOutput(\n",
              "          (dense): Linear(in_features=3072, out_features=768, bias=True)\n",
              "          (LayerNorm): LayerNorm((768,), eps=1e-12, elementwise_affine=True)\n",
              "          (dropout): Dropout(p=0.1, inplace=False)\n",
              "        )\n",
              "      )\n",
              "      (1): BertLayer(\n",
              "        (attention): BertAttention(\n",
              "          (self): BertSelfAttention(\n",
              "            (query): Linear(in_features=768, out_features=768, bias=True)\n",
              "            (key): Linear(in_features=768, out_features=768, bias=True)\n",
              "            (value): Linear(in_features=768, out_features=768, bias=True)\n",
              "            (dropout): Dropout(p=0.1, inplace=False)\n",
              "          )\n",
              "          (output): BertSelfOutput(\n",
              "            (dense): Linear(in_features=768, out_features=768, bias=True)\n",
              "            (LayerNorm): LayerNorm((768,), eps=1e-12, elementwise_affine=True)\n",
              "            (dropout): Dropout(p=0.1, inplace=False)\n",
              "          )\n",
              "        )\n",
              "        (intermediate): BertIntermediate(\n",
              "          (dense): Linear(in_features=768, out_features=3072, bias=True)\n",
              "        )\n",
              "        (output): BertOutput(\n",
              "          (dense): Linear(in_features=3072, out_features=768, bias=True)\n",
              "          (LayerNorm): LayerNorm((768,), eps=1e-12, elementwise_affine=True)\n",
              "          (dropout): Dropout(p=0.1, inplace=False)\n",
              "        )\n",
              "      )\n",
              "      (2): BertLayer(\n",
              "        (attention): BertAttention(\n",
              "          (self): BertSelfAttention(\n",
              "            (query): Linear(in_features=768, out_features=768, bias=True)\n",
              "            (key): Linear(in_features=768, out_features=768, bias=True)\n",
              "            (value): Linear(in_features=768, out_features=768, bias=True)\n",
              "            (dropout): Dropout(p=0.1, inplace=False)\n",
              "          )\n",
              "          (output): BertSelfOutput(\n",
              "            (dense): Linear(in_features=768, out_features=768, bias=True)\n",
              "            (LayerNorm): LayerNorm((768,), eps=1e-12, elementwise_affine=True)\n",
              "            (dropout): Dropout(p=0.1, inplace=False)\n",
              "          )\n",
              "        )\n",
              "        (intermediate): BertIntermediate(\n",
              "          (dense): Linear(in_features=768, out_features=3072, bias=True)\n",
              "        )\n",
              "        (output): BertOutput(\n",
              "          (dense): Linear(in_features=3072, out_features=768, bias=True)\n",
              "          (LayerNorm): LayerNorm((768,), eps=1e-12, elementwise_affine=True)\n",
              "          (dropout): Dropout(p=0.1, inplace=False)\n",
              "        )\n",
              "      )\n",
              "      (3): BertLayer(\n",
              "        (attention): BertAttention(\n",
              "          (self): BertSelfAttention(\n",
              "            (query): Linear(in_features=768, out_features=768, bias=True)\n",
              "            (key): Linear(in_features=768, out_features=768, bias=True)\n",
              "            (value): Linear(in_features=768, out_features=768, bias=True)\n",
              "            (dropout): Dropout(p=0.1, inplace=False)\n",
              "          )\n",
              "          (output): BertSelfOutput(\n",
              "            (dense): Linear(in_features=768, out_features=768, bias=True)\n",
              "            (LayerNorm): LayerNorm((768,), eps=1e-12, elementwise_affine=True)\n",
              "            (dropout): Dropout(p=0.1, inplace=False)\n",
              "          )\n",
              "        )\n",
              "        (intermediate): BertIntermediate(\n",
              "          (dense): Linear(in_features=768, out_features=3072, bias=True)\n",
              "        )\n",
              "        (output): BertOutput(\n",
              "          (dense): Linear(in_features=3072, out_features=768, bias=True)\n",
              "          (LayerNorm): LayerNorm((768,), eps=1e-12, elementwise_affine=True)\n",
              "          (dropout): Dropout(p=0.1, inplace=False)\n",
              "        )\n",
              "      )\n",
              "      (4): BertLayer(\n",
              "        (attention): BertAttention(\n",
              "          (self): BertSelfAttention(\n",
              "            (query): Linear(in_features=768, out_features=768, bias=True)\n",
              "            (key): Linear(in_features=768, out_features=768, bias=True)\n",
              "            (value): Linear(in_features=768, out_features=768, bias=True)\n",
              "            (dropout): Dropout(p=0.1, inplace=False)\n",
              "          )\n",
              "          (output): BertSelfOutput(\n",
              "            (dense): Linear(in_features=768, out_features=768, bias=True)\n",
              "            (LayerNorm): LayerNorm((768,), eps=1e-12, elementwise_affine=True)\n",
              "            (dropout): Dropout(p=0.1, inplace=False)\n",
              "          )\n",
              "        )\n",
              "        (intermediate): BertIntermediate(\n",
              "          (dense): Linear(in_features=768, out_features=3072, bias=True)\n",
              "        )\n",
              "        (output): BertOutput(\n",
              "          (dense): Linear(in_features=3072, out_features=768, bias=True)\n",
              "          (LayerNorm): LayerNorm((768,), eps=1e-12, elementwise_affine=True)\n",
              "          (dropout): Dropout(p=0.1, inplace=False)\n",
              "        )\n",
              "      )\n",
              "      (5): BertLayer(\n",
              "        (attention): BertAttention(\n",
              "          (self): BertSelfAttention(\n",
              "            (query): Linear(in_features=768, out_features=768, bias=True)\n",
              "            (key): Linear(in_features=768, out_features=768, bias=True)\n",
              "            (value): Linear(in_features=768, out_features=768, bias=True)\n",
              "            (dropout): Dropout(p=0.1, inplace=False)\n",
              "          )\n",
              "          (output): BertSelfOutput(\n",
              "            (dense): Linear(in_features=768, out_features=768, bias=True)\n",
              "            (LayerNorm): LayerNorm((768,), eps=1e-12, elementwise_affine=True)\n",
              "            (dropout): Dropout(p=0.1, inplace=False)\n",
              "          )\n",
              "        )\n",
              "        (intermediate): BertIntermediate(\n",
              "          (dense): Linear(in_features=768, out_features=3072, bias=True)\n",
              "        )\n",
              "        (output): BertOutput(\n",
              "          (dense): Linear(in_features=3072, out_features=768, bias=True)\n",
              "          (LayerNorm): LayerNorm((768,), eps=1e-12, elementwise_affine=True)\n",
              "          (dropout): Dropout(p=0.1, inplace=False)\n",
              "        )\n",
              "      )\n",
              "      (6): BertLayer(\n",
              "        (attention): BertAttention(\n",
              "          (self): BertSelfAttention(\n",
              "            (query): Linear(in_features=768, out_features=768, bias=True)\n",
              "            (key): Linear(in_features=768, out_features=768, bias=True)\n",
              "            (value): Linear(in_features=768, out_features=768, bias=True)\n",
              "            (dropout): Dropout(p=0.1, inplace=False)\n",
              "          )\n",
              "          (output): BertSelfOutput(\n",
              "            (dense): Linear(in_features=768, out_features=768, bias=True)\n",
              "            (LayerNorm): LayerNorm((768,), eps=1e-12, elementwise_affine=True)\n",
              "            (dropout): Dropout(p=0.1, inplace=False)\n",
              "          )\n",
              "        )\n",
              "        (intermediate): BertIntermediate(\n",
              "          (dense): Linear(in_features=768, out_features=3072, bias=True)\n",
              "        )\n",
              "        (output): BertOutput(\n",
              "          (dense): Linear(in_features=3072, out_features=768, bias=True)\n",
              "          (LayerNorm): LayerNorm((768,), eps=1e-12, elementwise_affine=True)\n",
              "          (dropout): Dropout(p=0.1, inplace=False)\n",
              "        )\n",
              "      )\n",
              "      (7): BertLayer(\n",
              "        (attention): BertAttention(\n",
              "          (self): BertSelfAttention(\n",
              "            (query): Linear(in_features=768, out_features=768, bias=True)\n",
              "            (key): Linear(in_features=768, out_features=768, bias=True)\n",
              "            (value): Linear(in_features=768, out_features=768, bias=True)\n",
              "            (dropout): Dropout(p=0.1, inplace=False)\n",
              "          )\n",
              "          (output): BertSelfOutput(\n",
              "            (dense): Linear(in_features=768, out_features=768, bias=True)\n",
              "            (LayerNorm): LayerNorm((768,), eps=1e-12, elementwise_affine=True)\n",
              "            (dropout): Dropout(p=0.1, inplace=False)\n",
              "          )\n",
              "        )\n",
              "        (intermediate): BertIntermediate(\n",
              "          (dense): Linear(in_features=768, out_features=3072, bias=True)\n",
              "        )\n",
              "        (output): BertOutput(\n",
              "          (dense): Linear(in_features=3072, out_features=768, bias=True)\n",
              "          (LayerNorm): LayerNorm((768,), eps=1e-12, elementwise_affine=True)\n",
              "          (dropout): Dropout(p=0.1, inplace=False)\n",
              "        )\n",
              "      )\n",
              "      (8): BertLayer(\n",
              "        (attention): BertAttention(\n",
              "          (self): BertSelfAttention(\n",
              "            (query): Linear(in_features=768, out_features=768, bias=True)\n",
              "            (key): Linear(in_features=768, out_features=768, bias=True)\n",
              "            (value): Linear(in_features=768, out_features=768, bias=True)\n",
              "            (dropout): Dropout(p=0.1, inplace=False)\n",
              "          )\n",
              "          (output): BertSelfOutput(\n",
              "            (dense): Linear(in_features=768, out_features=768, bias=True)\n",
              "            (LayerNorm): LayerNorm((768,), eps=1e-12, elementwise_affine=True)\n",
              "            (dropout): Dropout(p=0.1, inplace=False)\n",
              "          )\n",
              "        )\n",
              "        (intermediate): BertIntermediate(\n",
              "          (dense): Linear(in_features=768, out_features=3072, bias=True)\n",
              "        )\n",
              "        (output): BertOutput(\n",
              "          (dense): Linear(in_features=3072, out_features=768, bias=True)\n",
              "          (LayerNorm): LayerNorm((768,), eps=1e-12, elementwise_affine=True)\n",
              "          (dropout): Dropout(p=0.1, inplace=False)\n",
              "        )\n",
              "      )\n",
              "      (9): BertLayer(\n",
              "        (attention): BertAttention(\n",
              "          (self): BertSelfAttention(\n",
              "            (query): Linear(in_features=768, out_features=768, bias=True)\n",
              "            (key): Linear(in_features=768, out_features=768, bias=True)\n",
              "            (value): Linear(in_features=768, out_features=768, bias=True)\n",
              "            (dropout): Dropout(p=0.1, inplace=False)\n",
              "          )\n",
              "          (output): BertSelfOutput(\n",
              "            (dense): Linear(in_features=768, out_features=768, bias=True)\n",
              "            (LayerNorm): LayerNorm((768,), eps=1e-12, elementwise_affine=True)\n",
              "            (dropout): Dropout(p=0.1, inplace=False)\n",
              "          )\n",
              "        )\n",
              "        (intermediate): BertIntermediate(\n",
              "          (dense): Linear(in_features=768, out_features=3072, bias=True)\n",
              "        )\n",
              "        (output): BertOutput(\n",
              "          (dense): Linear(in_features=3072, out_features=768, bias=True)\n",
              "          (LayerNorm): LayerNorm((768,), eps=1e-12, elementwise_affine=True)\n",
              "          (dropout): Dropout(p=0.1, inplace=False)\n",
              "        )\n",
              "      )\n",
              "      (10): BertLayer(\n",
              "        (attention): BertAttention(\n",
              "          (self): BertSelfAttention(\n",
              "            (query): Linear(in_features=768, out_features=768, bias=True)\n",
              "            (key): Linear(in_features=768, out_features=768, bias=True)\n",
              "            (value): Linear(in_features=768, out_features=768, bias=True)\n",
              "            (dropout): Dropout(p=0.1, inplace=False)\n",
              "          )\n",
              "          (output): BertSelfOutput(\n",
              "            (dense): Linear(in_features=768, out_features=768, bias=True)\n",
              "            (LayerNorm): LayerNorm((768,), eps=1e-12, elementwise_affine=True)\n",
              "            (dropout): Dropout(p=0.1, inplace=False)\n",
              "          )\n",
              "        )\n",
              "        (intermediate): BertIntermediate(\n",
              "          (dense): Linear(in_features=768, out_features=3072, bias=True)\n",
              "        )\n",
              "        (output): BertOutput(\n",
              "          (dense): Linear(in_features=3072, out_features=768, bias=True)\n",
              "          (LayerNorm): LayerNorm((768,), eps=1e-12, elementwise_affine=True)\n",
              "          (dropout): Dropout(p=0.1, inplace=False)\n",
              "        )\n",
              "      )\n",
              "      (11): BertLayer(\n",
              "        (attention): BertAttention(\n",
              "          (self): BertSelfAttention(\n",
              "            (query): Linear(in_features=768, out_features=768, bias=True)\n",
              "            (key): Linear(in_features=768, out_features=768, bias=True)\n",
              "            (value): Linear(in_features=768, out_features=768, bias=True)\n",
              "            (dropout): Dropout(p=0.1, inplace=False)\n",
              "          )\n",
              "          (output): BertSelfOutput(\n",
              "            (dense): Linear(in_features=768, out_features=768, bias=True)\n",
              "            (LayerNorm): LayerNorm((768,), eps=1e-12, elementwise_affine=True)\n",
              "            (dropout): Dropout(p=0.1, inplace=False)\n",
              "          )\n",
              "        )\n",
              "        (intermediate): BertIntermediate(\n",
              "          (dense): Linear(in_features=768, out_features=3072, bias=True)\n",
              "        )\n",
              "        (output): BertOutput(\n",
              "          (dense): Linear(in_features=3072, out_features=768, bias=True)\n",
              "          (LayerNorm): LayerNorm((768,), eps=1e-12, elementwise_affine=True)\n",
              "          (dropout): Dropout(p=0.1, inplace=False)\n",
              "        )\n",
              "      )\n",
              "    )\n",
              "  )\n",
              "  (pooler): BertPooler(\n",
              "    (dense): Linear(in_features=768, out_features=768, bias=True)\n",
              "    (activation): Tanh()\n",
              "  )\n",
              ")"
            ]
          },
          "metadata": {
            "tags": []
          },
          "execution_count": 31
        }
      ]
    },
    {
      "cell_type": "markdown",
      "metadata": {
        "id": "dyZ_ZNUFmJLR"
      },
      "source": [
        "### Архитектура BERT\n",
        "Разделяется условно на три части:\n",
        "\n",
        "- Tokens Embedding\n",
        "- Self-Attention\n",
        "- Pooler"
      ]
    },
    {
      "cell_type": "markdown",
      "metadata": {
        "id": "JpTzQVm8mVaV"
      },
      "source": [
        "### Математическая модель BERT\n",
        "Пусть задано множество токенов:\n",
        "$$\n",
        "\\mathcal{I} = \\{\\mathbf{i}| \\mathbf{i} = [0, \\cdots, 0, 1, 0,  \\cdots, 0]^{\\mathsf{T}}\\}\n",
        "$$\n",
        "\n",
        "Задано множество предложений и множество типов токенов в предложении:\n",
        "$$\n",
        "\\mathcal{S} = \\mathcal{I}^n, \\quad \\mathcal{T} = \\{[0,1]^{\\mathsf{T}}, [1,0]^{\\mathsf{T}}\\}^n\n",
        "$$\n",
        "\n",
        "Отображения:\n",
        "$$\n",
        "BM_1: \\mathbb{R}^{n\\times L}\\times \\mathbb{R}^{2\\times L} \\to \\mathbb{R}^{n \\times l}\n",
        "$$\n",
        "$$\n",
        "BM_2: \\mathbb{R}^{n\\times L}\\times \\mathbb{R}^{2\\times L} \\to \\mathbb{R}^{1 \\times l}\n",
        "$$\n",
        "\n",
        "Суперпозиция отображений:\n",
        "$$\n",
        "BM_1 = BL_m \\circ \\cdots \\circ BL_1 \\circ BSE\n",
        "$$\n",
        "$$\n",
        "BM_2 = BP \\circ BL_m \\circ \\cdots \\circ BL_1 \\circ BSE\n",
        "$$"
      ]
    },
    {
      "cell_type": "markdown",
      "metadata": {
        "id": "STvhmoi6mleu"
      },
      "source": [
        "### Математическая модель BERT: BSE\n",
        "\n",
        "Функция $BSE$:\n",
        "$$\n",
        "BSE:\\mathbb{R}^{n\\times L} \\times \\mathbb{R}^{n\\times 2} \\to \\mathbb{R}^{n\\times l}.\n",
        "$$\n",
        "\n",
        "Для произвольной матрицы $\\mathbf{s} \\in \\mathcal{S} \\subset \\mathbb{R}^{n\\times L}$ и матрицы $\\mathbf{t} \\in \\mathcal{T}\\subset \\mathbb{R}^{n\\times 2}$ отображение $BSE$ принимает следующий вид:\n",
        "$$\n",
        "BSE\\bigr(\\mathbf{s}, \\mathbf{t}\\bigr) = \\frac{\\mathbf{h}_{bse} - \\mathsf{E}\\mathbf{h}_{bse}}{\\sqrt{\\mathsf{D}\\mathbf{h}_{bse}+\\varepsilon}}\\cdot\\textbf{w}_1 + \\textbf{w}_2, \\quad \\mathbf{h}_{bse} = \\mathbf{s}\\mathbf{W}_1 + \\mathbf{1}_{n\\times n}\\mathbf{W}_2 + \\mathbf{t}\\mathbf{W}_3,\n",
        "$$\n",
        "где $\\mathbf{W}_1 \\in \\mathbb{R}^{L\\times l},~\\mathbf{W}_2 \\in \\mathbb{R}^{n\\times l},~\\mathbf{W}_3 \\in \\mathbb{R}^{2\\times l}.$\n",
        "\n",
        "Функция $BSE$ имеет настриваемые параметры: $\\mathbf{W}_1, \\mathbf{W}_2, \\mathbf{W}_3, \\mathbf{w}_1, \\mathbf{w}_2.$\n",
        "\n",
        "Результат работы функции $BSE$ обозначим:\n",
        "$$\n",
        "\\mathbf{h}_0 = BSE\\bigr(\\mathbf{s}, \\mathbf{t}\\bigr),\n",
        "$$\n",
        "где $\\mathbf{h} \\in \\mathbb{R}^{n\\times l}.$"
      ]
    },
    {
      "cell_type": "markdown",
      "metadata": {
        "id": "fLmx--Alm0ps"
      },
      "source": [
        "### Математическая модель BERT: BL\n",
        "\n",
        "Функция $BL$:\n",
        "$$\n",
        "    BL: \\mathbb{R}^{n\\times l} \\to \\mathbb{R}^{n\\times l}.\n",
        "$$\n",
        "Для матрицы $\\mathbf{h} \\in \\mathbb{R}^{n\\times l}$ BL принимает следующий вид:\n",
        "$$\n",
        "    BL_q\\bigr(\\mathbf{h}\\bigr) = \\frac{\\mathbf{u}\\mathbf{W}_{3+6q} + \\mathbf{a} - \\mathsf{E}\\left(\\mathbf{u}\\mathbf{W}_{3+6q} + \\mathbf{a}\\right)}{\\sqrt{\\mathsf{D}\\left(\\mathbf{u}\\mathbf{W}_{3+6q} + \\mathbf{a}\\right)+\\varepsilon}}\\cdot\\textbf{w}_{3+4q} + \\textbf{w}_{4+4q},\n",
        "$$\n",
        "$$\n",
        "\\mathbf{u} = \\sigma\\bigr(\\mathbf{a}\\mathbf{W}_{4+6q}\\bigr), \\quad \\mathbf{a} = \\frac{\\mathbf{c}\\mathbf{W}_{5+6q} - \\mathsf{E}\\mathbf{c}\\mathbf{W}_{5+6q}}{\\sqrt{\\mathsf{D}\\mathbf{c}\\mathbf{W}_{5+6q}+\\varepsilon}}\\cdot\\textbf{w}_{5+4q} + \\textbf{w}_{6+4q}\n",
        "$$\n",
        "$$\n",
        "\\mathbf{c} = [\\mathbf{c}_1, \\cdots \\mathbf{c}_{r_2}]\n",
        "$$\n",
        "$$\n",
        "\\mathbf{c}_j = \\text{softmax}\\bigr(\\mathbf{h}\\mathbf{W}^{j}_{6+6q}\\odot\\mathbf{h}\\mathbf{W}^{j}_{7+6q}\\bigr)\\odot\\mathbf{h}\\mathbf{W}^{j}_{8+6q}\n",
        "$$\n",
        "где для всех $q$ матрицы $\\mathbf{W}^{j}_{6+6q}, \\mathbf{W}^{j}_{7+6q}, \\mathbf{W}^{j}_{6+6q} \\in \\mathbb{R}^{l \\times r}$, для всех $j$ матрицы $\\mathbf{c}_j \\in \\mathbb{R}^{n\\times r}$, для всех $q$ матрицы $\\mathbf{W}^{j}_{5+6q} \\in \\mathbb{R}^{l \\times l}, \\mathbf{W}^{j}_{4+6q} \\in \\mathbb{R}^{l \\times p}, \\mathbf{W}^{j}_{3+6q} \\in \\mathbb{R}^{p \\times l}$, матрица $\\mathbf{c}, \\mathbf{a} \\in \\mathbb{R}^{n \\times l}$, матрица $\\mathbf{u} \\in \\mathbb{R}^{n \\times p}$.\n",
        "\n",
        "Настраиваемые параметры: $\\mathbf{W}^{j}_{3+6q}, \\mathbf{W}^{j}_{4+6q}, \\mathbf{W}^{j}_{5+6q}, \\mathbf{W}^{j}_{6+6q}, \\mathbf{W}^{j}_{7+6q}, \\mathbf{W}^{j}_{8+6q}, \\textbf{w}_{3+4q}, \\textbf{w}_{4+4q}, \\textbf{w}_{5+4q}, \\textbf{w}_{6+4q}$\n",
        "\n",
        "Результат работы функции $BL_q$:\n",
        "$$\n",
        "\\forall q \\in \\{1, \\cdots m\\} \\quad \\mathbf{h}_{q} = BL_q\\bigr(\\mathbf{h}_{q-1}\\bigr).\n",
        "$$\n"
      ]
    },
    {
      "cell_type": "markdown",
      "metadata": {
        "id": "ZRI0Gz_enAwL"
      },
      "source": [
        "### Математическая модель BERT: BP\n",
        "\n",
        "Функция $BP$:\n",
        "$$\n",
        "    BP: \\mathbb{R}^{n\\times l} \\to \\mathbb{R}^{n\\times l}.\n",
        "$$\n",
        "Для матрицы $\\mathbf{h}_{m} \\in \\mathbb{R}^{n \\times l}$ BP принимает следующий вид:\n",
        "$$\n",
        "BP\\bigr(\\mathbf{h}_{m}\\bigr) = \\sigma\\bigr(\\mathbf{h}_m^{1}\\mathbf{W}_{9+6m}\\bigr),\n",
        "$$\n",
        "где $\\mathbf{h}_m^{1}$ первая строка матрицы $\\mathbf{h}_{m}$, а матрица $\\mathbf{W}_{9+6m} \\in \\mathbb{R}^{l\\times l}$\n",
        "\n",
        "Функция $BP$ имеет настраиваемые параметры $\\mathbf{W}_{9+6m}$\n",
        "\n",
        "Результат работы функции $BP$:\n",
        "$$\n",
        "\\mathbf{h} = BP\\bigr(\\mathbf{h}_m\\bigr).\n",
        "$$"
      ]
    },
    {
      "cell_type": "markdown",
      "metadata": {
        "id": "My27CiQOnJuD"
      },
      "source": [
        "### Снова суперпозиция\n",
        "\n",
        "Вернемся к суперпозициям $BM_1, BM_2$:\n",
        "$$\n",
        "\\mathbf{h} = BP\\bigr(\\mathbf{h}_m\\bigr), \\quad\\mathbf{h}_q = BM\\bigr(\\mathbf{h}_{q-1} \\bigr), \\quad \\mathbf{h}_0 = BSE\\bigr(\\mathbf{s}, \\mathbf{t}\\bigr)\n",
        "$$\n",
        "\n",
        "Получаем вектор эмбедингов слов:\n",
        "$$\n",
        "BM_1\\bigr(\\mathbf{s}, \\mathbf{t}\\bigr) = \\mathbf{h}_m,\n",
        "$$\n",
        "Получаем вектор эмбединга предложения:\n",
        "$$\n",
        "BM_2\\bigr(\\mathbf{s}, \\mathbf{t}\\bigr) = \\mathbf{h}\n",
        "$$"
      ]
    },
    {
      "cell_type": "markdown",
      "metadata": {
        "id": "taYtx4v9nP0X"
      },
      "source": [
        "### Multitask Learning\n",
        "\n",
        "LM модель:\n",
        "$$\n",
        "\\mathbf{v} = \\text{softmax}\\bigr(\\mathbf{h}_m\\mathbf{W}_{LM}\\bigr),\n",
        "$$\n",
        "где $\\mathbf{W}_{LM} \\in \\mathbb{R}^{l \\times L}$, а $\\mathbf{v}$ это вероятность каждого токена.\n",
        "\n",
        "NSP модель:\n",
        "$$\n",
        "z = \\sigma\\bigr(\\mathbf{h}\\mathbf{W}_{NSP}\\bigr),\n",
        "$$\n",
        "где $\\mathbf{W}_{NSP} \\in \\mathbb{R}^{l \\times 1}$, а $z$ это вероятность класса $1$.\n",
        "\n",
        "Функция ошибки:\n",
        "$$\n",
        "L\\bigr(\\mathbf{S}, \\mathbf{y}\\bigr) = \\sum_{\\mathbf{s}_i, \\mathbf{t}_i \\in \\mathbf{S}}CrossEntropy\\bigr(\\mathbf{v}_i, \\mathbf{s}_i\\bigr) + \\sum_{\\mathbf{s}_i, \\mathbf{t}_i \\in \\mathbf{S}, y_i \\mathbf{y}}CrossEntropyLoss\\bigr(z_i, y_i\\bigr)\n",
        "$$\n",
        "Задача оптимизации:\n",
        "$$\n",
        "L\\bigr(\\mathbf{S}, \\mathbf{y}\\bigr) \\to \\min_{\\mathbf{W}_{all}}\n",
        "$$\n",
        "\n",
        "Все параметры:\n",
        "$$\n",
        "\\mathbf{W}_{all} = [\\mathbf{W}_{LM}, \\mathbf{W}_{NSP}, \\mathbf{W}_{9+6m}\n",
        "\\mathbf{W}^{j}_{3+6q}, \\mathbf{W}^{j}_{4+6q}, \\mathbf{W}^{j}_{5+6q}, \\mathbf{W}^{j}_{6+6q}, \\mathbf{W}^{j}_{7+6q}, \\mathbf{W}^{j}_{8+6q}, \\textbf{w}_{3+4q}, \\textbf{w}_{4+4q}, \\textbf{w}_{5+4q}, \\textbf{w}_{6+4q},\n",
        "\\mathbf{W}_1, \\mathbf{W}_2, \\mathbf{W}_3, \\mathbf{w}_1, \\mathbf{w}_2]\n",
        "$$"
      ]
    },
    {
      "cell_type": "code",
      "metadata": {
        "id": "Z_zdJ-cGmxYx"
      },
      "source": [
        "tokens = tokenizer(['Hello World', 'Andrey Grabovoy'], return_tensors='pt', padding=True)\n",
        "\n",
        "with torch.no_grad():\n",
        "    output = model(**tokens.to(device))"
      ],
      "execution_count": null,
      "outputs": []
    },
    {
      "cell_type": "code",
      "metadata": {
        "colab": {
          "base_uri": "https://localhost:8080/"
        },
        "id": "Jqr9nnkAoVuJ",
        "outputId": "f6cafa0c-e7af-4653-a50d-fe190765cd90"
      },
      "source": [
        "tokens['input_ids']"
      ],
      "execution_count": null,
      "outputs": [
        {
          "output_type": "execute_result",
          "data": {
            "text/plain": [
              "tensor([[  101, 31178, 10315,   102,     0,     0,     0],\n",
              "        [  101, 25188, 10157, 61020, 28194, 10157,   102]], device='cuda:0')"
            ]
          },
          "metadata": {
            "tags": []
          },
          "execution_count": 49
        }
      ]
    },
    {
      "cell_type": "code",
      "metadata": {
        "colab": {
          "base_uri": "https://localhost:8080/"
        },
        "id": "0VvmbaWfoN1W",
        "outputId": "9ad82b3a-0f73-4cda-e353-7402f12a22f1"
      },
      "source": [
        "output[0].shape, output[1].shape"
      ],
      "execution_count": null,
      "outputs": [
        {
          "output_type": "execute_result",
          "data": {
            "text/plain": [
              "(torch.Size([2, 7, 768]), torch.Size([2, 768]))"
            ]
          },
          "metadata": {
            "tags": []
          },
          "execution_count": 51
        }
      ]
    },
    {
      "cell_type": "code",
      "metadata": {
        "colab": {
          "base_uri": "https://localhost:8080/"
        },
        "id": "7KUZ6byVov7M",
        "outputId": "c318d73c-db55-4851-ed75-580e566d4ddd"
      },
      "source": [
        "tokens"
      ],
      "execution_count": null,
      "outputs": [
        {
          "output_type": "execute_result",
          "data": {
            "text/plain": [
              "{'input_ids': tensor([[  101, 31178, 10315,   102,     0,     0,     0],\n",
              "        [  101, 25188, 10157, 61020, 28194, 10157,   102]], device='cuda:0'), 'token_type_ids': tensor([[0, 0, 0, 0, 0, 0, 0],\n",
              "        [0, 0, 0, 0, 0, 0, 0]], device='cuda:0'), 'attention_mask': tensor([[1, 1, 1, 1, 0, 0, 0],\n",
              "        [1, 1, 1, 1, 1, 1, 1]], device='cuda:0')}"
            ]
          },
          "metadata": {
            "tags": []
          },
          "execution_count": 52
        }
      ]
    },
    {
      "cell_type": "markdown",
      "metadata": {
        "id": "keUHDcaXeCz2"
      },
      "source": [
        "## Модель LaBSE (Language-agnostic BERT Sentence Embedding)"
      ]
    },
    {
      "cell_type": "code",
      "metadata": {
        "colab": {
          "base_uri": "https://localhost:8080/",
          "height": 1000,
          "referenced_widgets": [
            "ab1befa3fa404373afc824f2824cb1a0",
            "6639bf4ef82a45a2a116cf1e7910dee7",
            "6ad04290250b4439a3ba36dcce626608",
            "03906703a09c48aba9a06c15f552927c",
            "19bc31c66b8f46928dd91084d8691f2f",
            "9682fcbcb72e44d38c20b4cfac5407f3",
            "a7a9e6f1dcfa4e6a911f6f440c46d890",
            "b0772ff6976d402fb3fa61f0778cfd48",
            "c207a78178824e3e808cb65f54f45994",
            "0b2d4f3f73074592aa6a94a33e7973a2",
            "401cca8b41f04dfdb83e0decc1b50881"
          ]
        },
        "id": "QEsAYf4DlYae",
        "outputId": "1bc7ca3e-5362-4b29-bcb2-c4ad2f690942"
      },
      "source": [
        "tokenizer = AutoTokenizer.from_pretrained('sentence-transformers/LaBSE', \n",
        "                                          verbose=False)\n",
        "model = AutoModel.from_pretrained('sentence-transformers/LaBSE')\n",
        "model.to(device)"
      ],
      "execution_count": null,
      "outputs": [
        {
          "output_type": "display_data",
          "data": {
            "application/vnd.jupyter.widget-view+json": {
              "model_id": "ab1befa3fa404373afc824f2824cb1a0",
              "version_minor": 0,
              "version_major": 2
            },
            "text/plain": [
              "Downloading:   0%|          | 0.00/1.89G [00:00<?, ?B/s]"
            ]
          },
          "metadata": {
            "tags": []
          }
        },
        {
          "output_type": "execute_result",
          "data": {
            "text/plain": [
              "BertModel(\n",
              "  (embeddings): BertEmbeddings(\n",
              "    (word_embeddings): Embedding(501153, 768, padding_idx=0)\n",
              "    (position_embeddings): Embedding(512, 768)\n",
              "    (token_type_embeddings): Embedding(2, 768)\n",
              "    (LayerNorm): LayerNorm((768,), eps=1e-12, elementwise_affine=True)\n",
              "    (dropout): Dropout(p=0.1, inplace=False)\n",
              "  )\n",
              "  (encoder): BertEncoder(\n",
              "    (layer): ModuleList(\n",
              "      (0): BertLayer(\n",
              "        (attention): BertAttention(\n",
              "          (self): BertSelfAttention(\n",
              "            (query): Linear(in_features=768, out_features=768, bias=True)\n",
              "            (key): Linear(in_features=768, out_features=768, bias=True)\n",
              "            (value): Linear(in_features=768, out_features=768, bias=True)\n",
              "            (dropout): Dropout(p=0.1, inplace=False)\n",
              "          )\n",
              "          (output): BertSelfOutput(\n",
              "            (dense): Linear(in_features=768, out_features=768, bias=True)\n",
              "            (LayerNorm): LayerNorm((768,), eps=1e-12, elementwise_affine=True)\n",
              "            (dropout): Dropout(p=0.1, inplace=False)\n",
              "          )\n",
              "        )\n",
              "        (intermediate): BertIntermediate(\n",
              "          (dense): Linear(in_features=768, out_features=3072, bias=True)\n",
              "        )\n",
              "        (output): BertOutput(\n",
              "          (dense): Linear(in_features=3072, out_features=768, bias=True)\n",
              "          (LayerNorm): LayerNorm((768,), eps=1e-12, elementwise_affine=True)\n",
              "          (dropout): Dropout(p=0.1, inplace=False)\n",
              "        )\n",
              "      )\n",
              "      (1): BertLayer(\n",
              "        (attention): BertAttention(\n",
              "          (self): BertSelfAttention(\n",
              "            (query): Linear(in_features=768, out_features=768, bias=True)\n",
              "            (key): Linear(in_features=768, out_features=768, bias=True)\n",
              "            (value): Linear(in_features=768, out_features=768, bias=True)\n",
              "            (dropout): Dropout(p=0.1, inplace=False)\n",
              "          )\n",
              "          (output): BertSelfOutput(\n",
              "            (dense): Linear(in_features=768, out_features=768, bias=True)\n",
              "            (LayerNorm): LayerNorm((768,), eps=1e-12, elementwise_affine=True)\n",
              "            (dropout): Dropout(p=0.1, inplace=False)\n",
              "          )\n",
              "        )\n",
              "        (intermediate): BertIntermediate(\n",
              "          (dense): Linear(in_features=768, out_features=3072, bias=True)\n",
              "        )\n",
              "        (output): BertOutput(\n",
              "          (dense): Linear(in_features=3072, out_features=768, bias=True)\n",
              "          (LayerNorm): LayerNorm((768,), eps=1e-12, elementwise_affine=True)\n",
              "          (dropout): Dropout(p=0.1, inplace=False)\n",
              "        )\n",
              "      )\n",
              "      (2): BertLayer(\n",
              "        (attention): BertAttention(\n",
              "          (self): BertSelfAttention(\n",
              "            (query): Linear(in_features=768, out_features=768, bias=True)\n",
              "            (key): Linear(in_features=768, out_features=768, bias=True)\n",
              "            (value): Linear(in_features=768, out_features=768, bias=True)\n",
              "            (dropout): Dropout(p=0.1, inplace=False)\n",
              "          )\n",
              "          (output): BertSelfOutput(\n",
              "            (dense): Linear(in_features=768, out_features=768, bias=True)\n",
              "            (LayerNorm): LayerNorm((768,), eps=1e-12, elementwise_affine=True)\n",
              "            (dropout): Dropout(p=0.1, inplace=False)\n",
              "          )\n",
              "        )\n",
              "        (intermediate): BertIntermediate(\n",
              "          (dense): Linear(in_features=768, out_features=3072, bias=True)\n",
              "        )\n",
              "        (output): BertOutput(\n",
              "          (dense): Linear(in_features=3072, out_features=768, bias=True)\n",
              "          (LayerNorm): LayerNorm((768,), eps=1e-12, elementwise_affine=True)\n",
              "          (dropout): Dropout(p=0.1, inplace=False)\n",
              "        )\n",
              "      )\n",
              "      (3): BertLayer(\n",
              "        (attention): BertAttention(\n",
              "          (self): BertSelfAttention(\n",
              "            (query): Linear(in_features=768, out_features=768, bias=True)\n",
              "            (key): Linear(in_features=768, out_features=768, bias=True)\n",
              "            (value): Linear(in_features=768, out_features=768, bias=True)\n",
              "            (dropout): Dropout(p=0.1, inplace=False)\n",
              "          )\n",
              "          (output): BertSelfOutput(\n",
              "            (dense): Linear(in_features=768, out_features=768, bias=True)\n",
              "            (LayerNorm): LayerNorm((768,), eps=1e-12, elementwise_affine=True)\n",
              "            (dropout): Dropout(p=0.1, inplace=False)\n",
              "          )\n",
              "        )\n",
              "        (intermediate): BertIntermediate(\n",
              "          (dense): Linear(in_features=768, out_features=3072, bias=True)\n",
              "        )\n",
              "        (output): BertOutput(\n",
              "          (dense): Linear(in_features=3072, out_features=768, bias=True)\n",
              "          (LayerNorm): LayerNorm((768,), eps=1e-12, elementwise_affine=True)\n",
              "          (dropout): Dropout(p=0.1, inplace=False)\n",
              "        )\n",
              "      )\n",
              "      (4): BertLayer(\n",
              "        (attention): BertAttention(\n",
              "          (self): BertSelfAttention(\n",
              "            (query): Linear(in_features=768, out_features=768, bias=True)\n",
              "            (key): Linear(in_features=768, out_features=768, bias=True)\n",
              "            (value): Linear(in_features=768, out_features=768, bias=True)\n",
              "            (dropout): Dropout(p=0.1, inplace=False)\n",
              "          )\n",
              "          (output): BertSelfOutput(\n",
              "            (dense): Linear(in_features=768, out_features=768, bias=True)\n",
              "            (LayerNorm): LayerNorm((768,), eps=1e-12, elementwise_affine=True)\n",
              "            (dropout): Dropout(p=0.1, inplace=False)\n",
              "          )\n",
              "        )\n",
              "        (intermediate): BertIntermediate(\n",
              "          (dense): Linear(in_features=768, out_features=3072, bias=True)\n",
              "        )\n",
              "        (output): BertOutput(\n",
              "          (dense): Linear(in_features=3072, out_features=768, bias=True)\n",
              "          (LayerNorm): LayerNorm((768,), eps=1e-12, elementwise_affine=True)\n",
              "          (dropout): Dropout(p=0.1, inplace=False)\n",
              "        )\n",
              "      )\n",
              "      (5): BertLayer(\n",
              "        (attention): BertAttention(\n",
              "          (self): BertSelfAttention(\n",
              "            (query): Linear(in_features=768, out_features=768, bias=True)\n",
              "            (key): Linear(in_features=768, out_features=768, bias=True)\n",
              "            (value): Linear(in_features=768, out_features=768, bias=True)\n",
              "            (dropout): Dropout(p=0.1, inplace=False)\n",
              "          )\n",
              "          (output): BertSelfOutput(\n",
              "            (dense): Linear(in_features=768, out_features=768, bias=True)\n",
              "            (LayerNorm): LayerNorm((768,), eps=1e-12, elementwise_affine=True)\n",
              "            (dropout): Dropout(p=0.1, inplace=False)\n",
              "          )\n",
              "        )\n",
              "        (intermediate): BertIntermediate(\n",
              "          (dense): Linear(in_features=768, out_features=3072, bias=True)\n",
              "        )\n",
              "        (output): BertOutput(\n",
              "          (dense): Linear(in_features=3072, out_features=768, bias=True)\n",
              "          (LayerNorm): LayerNorm((768,), eps=1e-12, elementwise_affine=True)\n",
              "          (dropout): Dropout(p=0.1, inplace=False)\n",
              "        )\n",
              "      )\n",
              "      (6): BertLayer(\n",
              "        (attention): BertAttention(\n",
              "          (self): BertSelfAttention(\n",
              "            (query): Linear(in_features=768, out_features=768, bias=True)\n",
              "            (key): Linear(in_features=768, out_features=768, bias=True)\n",
              "            (value): Linear(in_features=768, out_features=768, bias=True)\n",
              "            (dropout): Dropout(p=0.1, inplace=False)\n",
              "          )\n",
              "          (output): BertSelfOutput(\n",
              "            (dense): Linear(in_features=768, out_features=768, bias=True)\n",
              "            (LayerNorm): LayerNorm((768,), eps=1e-12, elementwise_affine=True)\n",
              "            (dropout): Dropout(p=0.1, inplace=False)\n",
              "          )\n",
              "        )\n",
              "        (intermediate): BertIntermediate(\n",
              "          (dense): Linear(in_features=768, out_features=3072, bias=True)\n",
              "        )\n",
              "        (output): BertOutput(\n",
              "          (dense): Linear(in_features=3072, out_features=768, bias=True)\n",
              "          (LayerNorm): LayerNorm((768,), eps=1e-12, elementwise_affine=True)\n",
              "          (dropout): Dropout(p=0.1, inplace=False)\n",
              "        )\n",
              "      )\n",
              "      (7): BertLayer(\n",
              "        (attention): BertAttention(\n",
              "          (self): BertSelfAttention(\n",
              "            (query): Linear(in_features=768, out_features=768, bias=True)\n",
              "            (key): Linear(in_features=768, out_features=768, bias=True)\n",
              "            (value): Linear(in_features=768, out_features=768, bias=True)\n",
              "            (dropout): Dropout(p=0.1, inplace=False)\n",
              "          )\n",
              "          (output): BertSelfOutput(\n",
              "            (dense): Linear(in_features=768, out_features=768, bias=True)\n",
              "            (LayerNorm): LayerNorm((768,), eps=1e-12, elementwise_affine=True)\n",
              "            (dropout): Dropout(p=0.1, inplace=False)\n",
              "          )\n",
              "        )\n",
              "        (intermediate): BertIntermediate(\n",
              "          (dense): Linear(in_features=768, out_features=3072, bias=True)\n",
              "        )\n",
              "        (output): BertOutput(\n",
              "          (dense): Linear(in_features=3072, out_features=768, bias=True)\n",
              "          (LayerNorm): LayerNorm((768,), eps=1e-12, elementwise_affine=True)\n",
              "          (dropout): Dropout(p=0.1, inplace=False)\n",
              "        )\n",
              "      )\n",
              "      (8): BertLayer(\n",
              "        (attention): BertAttention(\n",
              "          (self): BertSelfAttention(\n",
              "            (query): Linear(in_features=768, out_features=768, bias=True)\n",
              "            (key): Linear(in_features=768, out_features=768, bias=True)\n",
              "            (value): Linear(in_features=768, out_features=768, bias=True)\n",
              "            (dropout): Dropout(p=0.1, inplace=False)\n",
              "          )\n",
              "          (output): BertSelfOutput(\n",
              "            (dense): Linear(in_features=768, out_features=768, bias=True)\n",
              "            (LayerNorm): LayerNorm((768,), eps=1e-12, elementwise_affine=True)\n",
              "            (dropout): Dropout(p=0.1, inplace=False)\n",
              "          )\n",
              "        )\n",
              "        (intermediate): BertIntermediate(\n",
              "          (dense): Linear(in_features=768, out_features=3072, bias=True)\n",
              "        )\n",
              "        (output): BertOutput(\n",
              "          (dense): Linear(in_features=3072, out_features=768, bias=True)\n",
              "          (LayerNorm): LayerNorm((768,), eps=1e-12, elementwise_affine=True)\n",
              "          (dropout): Dropout(p=0.1, inplace=False)\n",
              "        )\n",
              "      )\n",
              "      (9): BertLayer(\n",
              "        (attention): BertAttention(\n",
              "          (self): BertSelfAttention(\n",
              "            (query): Linear(in_features=768, out_features=768, bias=True)\n",
              "            (key): Linear(in_features=768, out_features=768, bias=True)\n",
              "            (value): Linear(in_features=768, out_features=768, bias=True)\n",
              "            (dropout): Dropout(p=0.1, inplace=False)\n",
              "          )\n",
              "          (output): BertSelfOutput(\n",
              "            (dense): Linear(in_features=768, out_features=768, bias=True)\n",
              "            (LayerNorm): LayerNorm((768,), eps=1e-12, elementwise_affine=True)\n",
              "            (dropout): Dropout(p=0.1, inplace=False)\n",
              "          )\n",
              "        )\n",
              "        (intermediate): BertIntermediate(\n",
              "          (dense): Linear(in_features=768, out_features=3072, bias=True)\n",
              "        )\n",
              "        (output): BertOutput(\n",
              "          (dense): Linear(in_features=3072, out_features=768, bias=True)\n",
              "          (LayerNorm): LayerNorm((768,), eps=1e-12, elementwise_affine=True)\n",
              "          (dropout): Dropout(p=0.1, inplace=False)\n",
              "        )\n",
              "      )\n",
              "      (10): BertLayer(\n",
              "        (attention): BertAttention(\n",
              "          (self): BertSelfAttention(\n",
              "            (query): Linear(in_features=768, out_features=768, bias=True)\n",
              "            (key): Linear(in_features=768, out_features=768, bias=True)\n",
              "            (value): Linear(in_features=768, out_features=768, bias=True)\n",
              "            (dropout): Dropout(p=0.1, inplace=False)\n",
              "          )\n",
              "          (output): BertSelfOutput(\n",
              "            (dense): Linear(in_features=768, out_features=768, bias=True)\n",
              "            (LayerNorm): LayerNorm((768,), eps=1e-12, elementwise_affine=True)\n",
              "            (dropout): Dropout(p=0.1, inplace=False)\n",
              "          )\n",
              "        )\n",
              "        (intermediate): BertIntermediate(\n",
              "          (dense): Linear(in_features=768, out_features=3072, bias=True)\n",
              "        )\n",
              "        (output): BertOutput(\n",
              "          (dense): Linear(in_features=3072, out_features=768, bias=True)\n",
              "          (LayerNorm): LayerNorm((768,), eps=1e-12, elementwise_affine=True)\n",
              "          (dropout): Dropout(p=0.1, inplace=False)\n",
              "        )\n",
              "      )\n",
              "      (11): BertLayer(\n",
              "        (attention): BertAttention(\n",
              "          (self): BertSelfAttention(\n",
              "            (query): Linear(in_features=768, out_features=768, bias=True)\n",
              "            (key): Linear(in_features=768, out_features=768, bias=True)\n",
              "            (value): Linear(in_features=768, out_features=768, bias=True)\n",
              "            (dropout): Dropout(p=0.1, inplace=False)\n",
              "          )\n",
              "          (output): BertSelfOutput(\n",
              "            (dense): Linear(in_features=768, out_features=768, bias=True)\n",
              "            (LayerNorm): LayerNorm((768,), eps=1e-12, elementwise_affine=True)\n",
              "            (dropout): Dropout(p=0.1, inplace=False)\n",
              "          )\n",
              "        )\n",
              "        (intermediate): BertIntermediate(\n",
              "          (dense): Linear(in_features=768, out_features=3072, bias=True)\n",
              "        )\n",
              "        (output): BertOutput(\n",
              "          (dense): Linear(in_features=3072, out_features=768, bias=True)\n",
              "          (LayerNorm): LayerNorm((768,), eps=1e-12, elementwise_affine=True)\n",
              "          (dropout): Dropout(p=0.1, inplace=False)\n",
              "        )\n",
              "      )\n",
              "    )\n",
              "  )\n",
              "  (pooler): BertPooler(\n",
              "    (dense): Linear(in_features=768, out_features=768, bias=True)\n",
              "    (activation): Tanh()\n",
              "  )\n",
              ")"
            ]
          },
          "metadata": {
            "tags": []
          },
          "execution_count": 53
        }
      ]
    },
    {
      "cell_type": "code",
      "metadata": {
        "id": "JFHMMRvJo0i6"
      },
      "source": [
        "tokens = tokenizer(['Moscow Institute of Physics and Technology', \n",
        "                    'Московский Физико-Технический Институт', \n",
        "                    'Московский Государственный Университет', \n",
        "                    'Moscow State University'], \n",
        "                   return_tensors='pt', padding=True)\n",
        "\n",
        "with torch.no_grad():\n",
        "    output = model(**tokens.to(device))\n",
        "\n",
        "sentence_embeding = output[1].cpu().numpy()"
      ],
      "execution_count": null,
      "outputs": []
    },
    {
      "cell_type": "code",
      "metadata": {
        "colab": {
          "base_uri": "https://localhost:8080/"
        },
        "id": "9PVQeA1NpUR3",
        "outputId": "45a1950f-d875-449c-c6c5-b592038a770f"
      },
      "source": [
        "sentence_embeding.shape"
      ],
      "execution_count": null,
      "outputs": [
        {
          "output_type": "execute_result",
          "data": {
            "text/plain": [
              "(4, 768)"
            ]
          },
          "metadata": {
            "tags": []
          },
          "execution_count": 66
        }
      ]
    },
    {
      "cell_type": "code",
      "metadata": {
        "id": "Aqhb5ZKMpWIy"
      },
      "source": [
        "frame = pd.DataFrame(np.round(\n",
        "    scipy.spatial.distance.cdist(sentence_embeding, sentence_embeding, \n",
        "                                 metric='cosine'), 2))\n"
      ],
      "execution_count": null,
      "outputs": []
    },
    {
      "cell_type": "code",
      "metadata": {
        "colab": {
          "base_uri": "https://localhost:8080/",
          "height": 265
        },
        "id": "KjgPCRq2pd32",
        "outputId": "529c9efc-9a76-4710-d583-e390b4096f14"
      },
      "source": [
        "sns.heatmap(data=frame)\n",
        "\n",
        "plt.show()"
      ],
      "execution_count": null,
      "outputs": [
        {
          "output_type": "display_data",
          "data": {
            "image/png": "[encoded data removed]",
            "text/plain": [
              "<Figure size 432x288 with 2 Axes>"
            ]
          },
          "metadata": {
            "tags": [],
            "needs_background": "light"
          }
        }
      ]
    },
    {
      "cell_type": "code",
      "metadata": {
        "id": "D3isf_RGqKQS"
      },
      "source": [],
      "execution_count": null,
      "outputs": []
    }
  ]
}