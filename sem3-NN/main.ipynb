{
 "cells": [
  {
   "cell_type": "markdown",
   "metadata": {
    "id": "ziuV4XT0CexM",
    "slideshow": {
     "slide_type": "slide"
    }
   },
   "source": [
    "# Нейронные сети: Autograd"
   ]
  },
  {
   "cell_type": "markdown",
   "metadata": {
    "id": "tISWM17JCexO",
    "slideshow": {
     "slide_type": "slide"
    }
   },
   "source": [
    "## Библиотеки"
   ]
  },
  {
   "cell_type": "code",
   "execution_count": 1,
   "metadata": {
    "id": "XpO-G91S5cfy",
    "slideshow": {
     "slide_type": "skip"
    }
   },
   "outputs": [],
   "source": [
    "import warnings\n",
    "warnings.filterwarnings(\"ignore\")\n",
    "\n",
    "try:\n",
    "    import google.colab\n",
    "    IN_COLAB = True\n",
    "except:\n",
    "    IN_COLAB = False\n",
    "\n",
    "if IN_COLAB:\n",
    "    !wget -q -O requirements.txt https://raw.githubusercontent.com/andriygav/MachineLearningSeminars/master/sem2/requirements.txt\n",
    "    !pip install -q -r requirements.txt"
   ]
  },
  {
   "cell_type": "code",
   "execution_count": 2,
   "metadata": {
    "id": "BrQm-zbjCexP",
    "slideshow": {
     "slide_type": "subslide"
    }
   },
   "outputs": [],
   "source": [
    "import matplotlib.pyplot as plt\n",
    "from matplotlib import gridspec\n",
    "import seaborn as sns\n",
    "import pandas as pd\n",
    "from tqdm.notebook import tqdm\n",
    "\n",
    "from scipy.special import expit\n",
    "import numpy as np\n",
    "import torch\n",
    "\n",
    "from sklearn.linear_model import (LogisticRegression, LinearRegression)\n",
    "from sklearn.model_selection import LeaveOneOut, KFold\n",
    "from sklearn.metrics import classification_report\n",
    "from sklearn.model_selection import ParameterGrid\n",
    "\n",
    "\n",
    "from torchvision import datasets\n",
    "from torchvision import transforms"
   ]
  },
  {
   "cell_type": "markdown",
   "metadata": {
    "id": "pfhExuP0CexW",
    "slideshow": {
     "slide_type": "slide"
    }
   },
   "source": [
    "## Разбор домашней задачи"
   ]
  },
  {
   "cell_type": "markdown",
   "metadata": {
    "slideshow": {
     "slide_type": "subslide"
    }
   },
   "source": [
    "Рассмотрим совместное правдоподобие модели и данных:\n",
    "$$\n",
    "p\\bigr(\\mathbf{y}, \\mathbf{w}|\\mathbf{X}\\bigr) = \\prod_{i=1}^{l}p\\bigr(y_i|\\mathbf{w}, \\mathbf{x}_i\\bigr)p\\bigr(\\mathbf{w}\\bigr),\n",
    "$$\n",
    "где для для простоты рассмотрим $p\\bigr(\\mathbf{w}\\bigr)=\\mathcal{N}\\bigr(\\mathbf{0}, \\gamma\\mathbf{I})$.\n",
    "\n",
    "По принципу максимума правдоподобия получаем следующую функцию для минимизации:\n",
    "$$\n",
    "\\mathcal{L}\\bigr(\\mathbf{w}, \\mathbf{X}, \\mathbf{y}\\bigr) = -\\sum_{i=1}^{l}\\log p\\bigr(y_i|\\mathbf{w}, \\mathbf{x}_i\\bigr) - \\log p\\bigr(\\mathbf{w}\\bigr) = \\sum_{i=1}^{l}\\left[\\frac{\\beta}{2}\\left(\\mathbf{w}^{\\mathsf{T}}\\mathbf{x}_i-y_i\\right)^2 + C_1\\right] + \\frac{\\gamma}{2}\\mathbf{w}^{\\mathsf{T}}\\mathbf{w} + C_2.\n",
    "$$\n",
    "Для удобства перепишем в матричном виде:\n",
    "$$\n",
    "\\beta\\sum_{i=1}^{l}\\left(\\mathbf{w}^{\\mathsf{T}}\\mathbf{x}_i - y_i\\right)^2 + \\gamma\\mathbf{w}^{\\mathsf{T}}\\mathbf{w}=\n",
    "\\beta\\left(\\mathbf{X}\\mathbf{w} - \\mathbf{y}\\right)^{\\mathsf{T}}\\left(\\mathbf{X}\\mathbf{w} - \\mathbf{y}\\right)  + \\gamma\\mathbf{w}^{\\mathsf{T}}\\mathbf{w}= \\\\\n",
    "=\\beta\\mathbf{w}^{\\mathsf{T}}\\mathbf{X}^{\\mathsf{T}}\\mathbf{X}\\mathbf{w} - 2\\beta\\mathbf{y}\\mathbf{X}\\mathbf{w} + \\beta\\mathbf{y}^{\\mathsf{T}}\\mathbf{y} + \\gamma\\mathbf{w}^{\\mathsf{T}}\\mathbf{w}\n",
    "$$"
   ]
  },
  {
   "cell_type": "markdown",
   "metadata": {
    "id": "UMEyN0H4CexX",
    "slideshow": {
     "slide_type": "subslide"
    }
   },
   "source": [
    "\n",
    "Воспользуемся необходимым условием первого порядка:\n",
    "$$\n",
    "\\frac{\\partial}{\\partial \\mathbf{w}}\\left(\\beta\\mathbf{w}^{\\mathsf{T}}\\mathbf{X}^{\\mathsf{T}}\\mathbf{X}\\mathbf{w} - 2\\beta\\mathbf{y}\\mathbf{X}\\mathbf{w} + \\beta\\mathbf{y}^{\\mathsf{T}}\\mathbf{y} + \\gamma\\mathbf{w}^{\\mathsf{T}}\\mathbf{w}\\right) = 0 = 2\\beta\\mathbf{X}^{\\mathsf{T}}\\mathbf{X}\\mathbf{w} - 2\\beta\\mathbf{X}^{\\mathsf{T}}\\mathbf{y} + 2\\gamma\\mathbf{w} \\\\\n",
    "\\Rightarrow \\hat{\\mathbf{w}} = \\beta\\left(\\beta\\mathbf{X}^{\\mathsf{T}}\\mathbf{X} + \\gamma\\mathbf{I}\\right)^{-1}\\mathbf{X}^{\\mathsf{T}}\\mathbf{y}\n",
    "$$"
   ]
  },
  {
   "cell_type": "code",
   "execution_count": 3,
   "metadata": {
    "id": "l2biygA7CexX",
    "slideshow": {
     "slide_type": "subslide"
    }
   },
   "outputs": [],
   "source": [
    "np.random.seed(0)\n",
    "l = 1000\n",
    "n = 2\n",
    "\n",
    "\n",
    "X_train = np.random.randn(l, n)\n",
    "X_test = np.random.randn(500, n)\n",
    "w = np.random.randn(n)\n",
    "Y_train = np.random.binomial(n=1, p=expit(X_train@w))\n",
    "Y_test = np.random.binomial(n=1, p=expit(X_test@w))"
   ]
  },
  {
   "cell_type": "code",
   "execution_count": null,
   "metadata": {
    "id": "hwGU4PUCCexb",
    "slideshow": {
     "slide_type": "subslide"
    }
   },
   "outputs": [],
   "source": [
    "loo = KFold(10)\n",
    "number_of_batch = loo.get_n_splits(X_train)\n",
    "\n",
    "gamma_scores = dict()\n",
    "gammas = [1e-10, 1e-4, 1e-3, 1e-2, .1, 1., 10., 1e2, 1e3, 1e4, 1e10]\n",
    "for gamma in tqdm(gammas):\n",
    "    list_of_scores = []\n",
    "    for train_index, test_index in tqdm(loo.split(X_train), \n",
    "                                        total=number_of_batch, leave=False):\n",
    "        x_train, x_test = X_train[train_index], X_train[test_index]\n",
    "        y_train, y_test = Y_train[train_index], Y_train[test_index]\n",
    "\n",
    "        model = LogisticRegression(penalty='l2', C=2/gamma, solver='saga',\n",
    "                                   fit_intercept=False, random_state=0)\n",
    "        model.fit(x_train, y_train)\n",
    "        list_of_scores.append(model.score(x_test, y_test))\n",
    "        \n",
    "    gamma_scores[gamma] = np.mean(list_of_scores)"
   ]
  },
  {
   "cell_type": "code",
   "execution_count": 5,
   "metadata": {
    "colab": {
     "base_uri": "https://localhost:8080/"
    },
    "id": "JkSACjY4Cexf",
    "outputId": "faac7578-15df-42fe-c53f-fe367fe36a4c",
    "slideshow": {
     "slide_type": "subslide"
    }
   },
   "outputs": [
    {
     "name": "stdout",
     "output_type": "stream",
     "text": [
      "Точность: 0.766\n"
     ]
    }
   ],
   "source": [
    "best_gamma = sorted(gamma_scores, \n",
    "                    key=lambda x: gamma_scores[x], reverse=True)[0]\n",
    "\n",
    "model = LogisticRegression(penalty='l2', C=2/best_gamma, fit_intercept=False, \n",
    "                           random_state=0, solver='saga')\n",
    "model.fit(X_train, Y_train)\n",
    "print('Точность: {}'.format(model.score(X_test, Y_test)))"
   ]
  },
  {
   "cell_type": "code",
   "execution_count": 6,
   "metadata": {
    "id": "xmkmBpX9Cexi",
    "slideshow": {
     "slide_type": "subslide"
    }
   },
   "outputs": [],
   "source": [
    "def get_line(a, b, c=0, x_min=-10, x_max=10):\n",
    "    x1, y1 = -(-b+ c)/a, -1\n",
    "    x2, y2 = -(b + c)/a, 1\n",
    "    \n",
    "    polynomial = np.poly1d(np.polyfit([x1, x2], [y1, y2], 1))\n",
    "    x_axis = np.linspace(x_min, x_max)\n",
    "    y_axis = polynomial(x_axis)\n",
    "    \n",
    "    return x_axis, y_axis"
   ]
  },
  {
   "cell_type": "code",
   "execution_count": 7,
   "metadata": {
    "colab": {
     "base_uri": "https://localhost:8080/",
     "height": 269
    },
    "id": "DDaRTkt0Cexl",
    "outputId": "0f61b704-a8cc-4ee9-97c5-3748e51672ed",
    "slideshow": {
     "slide_type": "subslide"
    }
   },
   "outputs": [
    {
     "data": {
      "image/png": "[encoded data removed]",
      "text/plain": [
       "<matplotlib.figure.Figure at 0x7f5b22789410>"
      ]
     },
     "metadata": {
      "needs_background": "light"
     },
     "output_type": "display_data"
    }
   ],
   "source": [
    "cols = ['blue', 'red']\n",
    "\n",
    "for k in np.unique(Y_test):\n",
    "    plt.plot(X_test[Y_test==k,0], X_test[Y_test==k,1], 'o', \n",
    "             label='класс {}'.format(k), color=cols[k])\n",
    "\n",
    "plt.plot(*get_line(*model.coef_[0], x_min=-0.6, x_max=0.6), \n",
    "         linewidth=2, color='black')\n",
    "\n",
    "plt.legend(loc='best')\n",
    "plt.show()"
   ]
  },
  {
   "cell_type": "markdown",
   "metadata": {
    "id": "bUveBSgcCexp",
    "slideshow": {
     "slide_type": "slide"
    }
   },
   "source": [
    "## Автоматическое дифференцирование"
   ]
  },
  {
   "cell_type": "markdown",
   "metadata": {
    "id": "pcNza5WhCexq",
    "slideshow": {
     "slide_type": "subslide"
    }
   },
   "source": [
    "### Разбор примера\n",
    "$$\n",
    "f\\bigr(\\mathbf{x}\\bigr) = x_3\\cdot\\cos\\bigr(\\frac{x_1}{x_2}\\bigr)\\cdot\\left(\\exp\\bigr(x_3\\bigr)+ \\frac{x_1}{x_2}\\right)\n",
    "$$"
   ]
  },
  {
   "cell_type": "markdown",
   "metadata": {
    "id": "n5TOc3Y_Cexs",
    "slideshow": {
     "slide_type": "subslide"
    }
   },
   "source": [
    "#### Граф вычислений\n",
    "$$\n",
    "f\\bigr(\\mathbf{x}\\bigr) = x_3\\cdot\\cos\\bigr(\\frac{x_1}{x_2}\\bigr)\\cdot\\left(\\exp\\bigr(x_3\\bigr)+ \\frac{x_1}{x_2}\\right)\n",
    "$$\n",
    "![](https://github.com/andriygav/MachineLearningSeminars/blob/master/sem3/fig1.png?raw=1)"
   ]
  },
  {
   "cell_type": "markdown",
   "metadata": {
    "id": "x5nsKeY8Cexs",
    "slideshow": {
     "slide_type": "subslide"
    }
   },
   "source": [
    "$$\n",
    "f\\bigr(\\mathbf{x}\\bigr) = x_3\\cdot\\cos\\bigr(\\frac{x_1}{x_2}\\bigr)\\cdot\\left(\\exp\\bigr(x_3\\bigr)+ \\frac{x_1}{x_2}\\right)\n",
    "$$\n",
    "\n",
    "#### Дифференцирование вперед\n",
    "- $\\frac{\\partial z_1}{\\partial x_1} = \\frac{1}{x_2}$\n",
    "- $\\frac{\\partial z_2}{\\partial x_1} = 0$\n",
    "- $\\frac{\\partial z_3}{\\partial x_1} = \\frac{\\partial z_3}{\\partial z_1}\\frac{\\partial z_1}{\\partial x_1} = -\\sin\\bigr(\\frac{x_1}{x_2}\\bigr)\\frac{1}{x_2}$\n",
    "- $\\frac{\\partial z_4}{\\partial x_1} = \\frac{\\partial z_4}{\\partial z_1}\\frac{\\partial z_1}{\\partial x_1} + \\frac{\\partial z_4}{\\partial z_2}\\frac{\\partial z_2}{\\partial x_1} = \\frac{1}{x_2}$\n",
    "- $\\frac{\\partial z_5}{\\partial x_1} = \\frac{\\partial z_5}{\\partial z_3}\\frac{\\partial z_3}{\\partial x_1} + \\frac{\\partial z_5}{\\partial z_4}\\frac{\\partial z_4}{\\partial x_1} = -\\sin\\bigr(\\frac{x_1}{x_2}\\bigr)\\frac{1}{x_2}\\left(\\exp\\bigr(x_3\\bigr)+ \\frac{x_1}{x_2}\\right) +\\cos\\bigr(\\frac{x_1}{x_2}\\bigr)\\frac{1}{x_2}$\n",
    "- $\\frac{\\partial z_6}{\\partial x_1} = \\frac{\\partial z_6}{\\partial z_5}\\frac{\\partial z_5}{\\partial x_1} + \\frac{\\partial z_6}{\\partial x_3}\\frac{\\partial x_3}{\\partial x_1} = x_3\\left(-\\sin\\bigr(\\frac{x_1}{x_2}\\bigr)\\frac{1}{x_2}\\left(\\exp\\bigr(x_3\\bigr)+ \\frac{x_1}{x_2}\\right) +\\cos\\bigr(\\frac{x_1}{x_2}\\bigr)\\frac{1}{x_2}\\right)$\n",
    "- $\\frac{\\partial f}{x_1}= \\frac{\\partial f}{\\partial x_1}\\frac{\\partial z_6}{\\partial x_1} = x_3\\left(-\\sin\\bigr(\\frac{x_1}{x_2}\\bigr)\\frac{1}{x_2}\\left(\\exp\\bigr(x_3\\bigr)+ \\frac{x_1}{x_2}\\right) +\\cos\\bigr(\\frac{x_1}{x_2}\\bigr)\\frac{1}{x_2}\\right)$"
   ]
  },
  {
   "cell_type": "markdown",
   "metadata": {
    "id": "5NuPuD09Cext",
    "slideshow": {
     "slide_type": "subslide"
    }
   },
   "source": [
    "$$\n",
    "f\\bigr(\\mathbf{x}\\bigr) = x_3\\cdot\\cos\\bigr(\\frac{x_1}{x_2}\\bigr)\\cdot\\left(\\exp\\bigr(x_3\\bigr)+ \\frac{x_1}{x_2}\\right)\n",
    "$$\n",
    "\n",
    "#### Дифференцирование назад\n",
    "- $\\frac{\\partial f}{\\partial z_6} = 1$\n",
    "- $\\frac{\\partial f}{\\partial z_5} = \\frac{\\partial f}{\\partial z_6}\\frac{\\partial z_6}{\\partial z_5} = x_3$\n",
    "- $\\frac{\\partial f}{\\partial z_4} = \\frac{\\partial f}{\\partial z_5}\\frac{\\partial z_5}{\\partial z_4} = x_3\\cos\\bigr(\\frac{x_1}{x_2}\\bigr)$\n",
    "- $\\frac{\\partial f}{\\partial z_3} = \\frac{\\partial f}{\\partial z_5}\\frac{\\partial z_5}{\\partial z_3} = x_3\\left(\\exp\\bigr(x_3\\bigr)+ \\frac{x_1}{x_2}\\right)$\n",
    "- $\\frac{\\partial f}{\\partial z_2} = \\frac{\\partial f}{\\partial z_4}\\frac{\\partial z_4}{\\partial z_2} = x_3\\cos\\bigr(\\frac{x_1}{x_2}\\bigr)$\n",
    "- $\\frac{\\partial f}{\\partial z_1} = \\frac{\\partial f}{\\partial z_3}\\frac{\\partial z_3}{\\partial z_1} + \\frac{\\partial f}{\\partial z_4}\\frac{\\partial z_4}{\\partial z_1} = -\\sin\\bigr(\\frac{x_1}{x_2}\\bigr)x_3\\left(\\exp\\bigr(x_3\\bigr)+ \\frac{x_1}{x_2}\\right) -\\sin\\bigr(\\frac{x_1}{x_2}\\bigr)x_3\\cos\\bigr(\\frac{x_1}{x_2}\\bigr)$\n",
    "- $\\frac{\\partial f}{\\partial x_1} = \\frac{\\partial f}{\\partial z_1}\\frac{\\partial z_1}{\\partial x_1} = -\\frac{1}{x_2}\\sin\\bigr(\\frac{x_1}{x_2}\\bigr)x_3\\left(\\exp\\bigr(x_3\\bigr)+ \\frac{x_1}{x_2}\\right) -\\frac{1}{x_2}\\sin\\bigr(\\frac{x_1}{x_2}\\bigr)x_3\\cos\\bigr(\\frac{x_1}{x_2}\\bigr)$\n"
   ]
  },
  {
   "cell_type": "markdown",
   "metadata": {
    "id": "QCsnwof6Cext",
    "slideshow": {
     "slide_type": "subslide"
    }
   },
   "source": [
    "### Плюсы и минусы каждого метода\n",
    "Дифференцирование вперед:\n",
    "- использует меньше памяти чем дифференцирование назад;\n",
    "- вычислительная сложность зависит от числа параметров.\n",
    "\n",
    "Дифференцирование назад:\n",
    "- использует больше памяти чем дифференцирование вперед;\n",
    "- вычислительная сложность не зависит от числа параметров."
   ]
  },
  {
   "cell_type": "markdown",
   "metadata": {
    "id": "vO9OvPaSCexu",
    "slideshow": {
     "slide_type": "slide"
    }
   },
   "source": [
    "## MNIST Dataset"
   ]
  },
  {
   "cell_type": "code",
   "execution_count": null,
   "metadata": {
    "id": "E5o74GZqCexu",
    "slideshow": {
     "slide_type": "subslide"
    }
   },
   "outputs": [],
   "source": [
    "MNIST_train = datasets.MNIST('./mnist', train=True, download=True, \n",
    "                             transform=transforms.ToTensor())\n",
    "\n",
    "MNIST_test = datasets.MNIST('./mnist', train=False, download=True,\n",
    "                            transform=transforms.ToTensor())"
   ]
  },
  {
   "cell_type": "code",
   "execution_count": 9,
   "metadata": {
    "colab": {
     "base_uri": "https://localhost:8080/",
     "height": 269
    },
    "id": "U57vrUIdCexy",
    "outputId": "3d1cb76a-29ec-4c95-94f7-f762cf3b8b60",
    "slideshow": {
     "slide_type": "subslide"
    }
   },
   "outputs": [
    {
     "data": {
      "image/png": "[encoded data removed]",
      "text/plain": [
       "<matplotlib.figure.Figure at 0x7f5b1fa92510>"
      ]
     },
     "metadata": {
      "needs_background": "light"
     },
     "output_type": "display_data"
    }
   ],
   "source": [
    "fig, gs = plt.figure(figsize=(19,4)), gridspec.GridSpec(1, 4)\n",
    "\n",
    "ax = []\n",
    "\n",
    "for i in range(4):\n",
    "    ax.append(fig.add_subplot(gs[i]))\n",
    "    ax[i].imshow(np.array(MNIST_train[i][0][0]), 'gray')\n",
    "\n",
    "plt.show()"
   ]
  },
  {
   "cell_type": "markdown",
   "metadata": {
    "id": "htJRDzyACex1",
    "slideshow": {
     "slide_type": "subslide"
    }
   },
   "source": [
    "### Полносвязная нейронная сеть (Персептрон)\n",
    "![](https://github.com/andriygav/MachineLearningSeminars/blob/master/sem3/fig2.png?raw=1)"
   ]
  },
  {
   "cell_type": "markdown",
   "metadata": {
    "id": "R7l5agvtCex1",
    "slideshow": {
     "slide_type": "subslide"
    }
   },
   "source": [
    "Перепишем в матричном виде:\n",
    "$$\n",
    "f(\\mathbf{x}, \\mathbf{W}) = \\mathbf{W}_{n_2+1}\\sigma\\bigr( \\cdots\\mathbf{W}_2\\sigma\\bigr(\\mathbf{W}_{1}\\mathbf{x}\\bigr)\\cdots\\bigr)\n",
    "$$\n",
    "\n",
    "В данном примере введены следующие обозначения:\n",
    "- число $n$ --- размерность пространства признаков (`input_dim`);\n",
    "- число $n_1$ --- размерность скрытого слоя (`hidden_dim`);\n",
    "- число $n_2$ --- количество скрытых слоев (`num_layers`);\n",
    "- число $n_3$ --- размерность пространства ответов (`output_dim`).\n",
    "\n",
    "Заметим, что при $n_2=0$ получаем линейную модель, то есть линейная модель это частный случай полносвязного персептрона.\n",
    "\n",
    "P.S. размерность скрытого слоя может зависить от номера слоя, для простоты рассмотрим фиксируемый размер скрытого слоя."
   ]
  },
  {
   "cell_type": "code",
   "execution_count": 10,
   "metadata": {
    "id": "06bK3iA3Cex2",
    "slideshow": {
     "slide_type": "subslide"
    }
   },
   "outputs": [],
   "source": [
    "class Perceptron(torch.nn.Module):\n",
    "    @property\n",
    "    def device(self):\n",
    "        for p in self.parameters():\n",
    "            return p.device\n",
    "\n",
    "    def __init__(self, input_dim=784, num_layers=0, \n",
    "                 hidden_dim=64, output_dim=10, p=0.0):\n",
    "        super(Perceptron, self).__init__()\n",
    "        \n",
    "        self.layers = torch.nn.Sequential()\n",
    "        \n",
    "        prev_size = input_dim\n",
    "        for i in range(num_layers):\n",
    "            self.layers.add_module('layer{}'.format(i), \n",
    "                                  torch.nn.Linear(prev_size, hidden_dim))\n",
    "            self.layers.add_module('relu{}'.format(i), torch.nn.ReLU())\n",
    "            self.layers.add_module('dropout{}'.format(i), torch.nn.Dropout(p=p))\n",
    "            prev_size = hidden_dim\n",
    "        \n",
    "        self.layers.add_module('classifier', \n",
    "                               torch.nn.Linear(prev_size, output_dim))        \n",
    "        \n",
    "    def forward(self, input):\n",
    "        return self.layers(input)"
   ]
  },
  {
   "cell_type": "code",
   "execution_count": 11,
   "metadata": {
    "colab": {
     "base_uri": "https://localhost:8080/"
    },
    "id": "Bt9VzgdKC7wG",
    "outputId": "511755ae-52d7-4cd2-9992-262aa5d4e6d1",
    "slideshow": {
     "slide_type": "subslide"
    }
   },
   "outputs": [
    {
     "data": {
      "text/plain": [
       "device(type='cuda')"
      ]
     },
     "execution_count": 11,
     "metadata": {},
     "output_type": "execute_result"
    }
   ],
   "source": [
    "device = torch.device(\"cuda\" if torch.cuda.is_available() else \"cpu\")\n",
    "device"
   ]
  },
  {
   "cell_type": "code",
   "execution_count": 12,
   "metadata": {
    "colab": {
     "base_uri": "https://localhost:8080/"
    },
    "id": "F27K1G0QCex4",
    "outputId": "d9ff4101-1330-4ec3-9411-e6bb27d55e29",
    "slideshow": {
     "slide_type": "subslide"
    }
   },
   "outputs": [
    {
     "data": {
      "text/plain": [
       "Perceptron(\n",
       "  (layers): Sequential(\n",
       "    (classifier): Linear(in_features=784, out_features=10, bias=True)\n",
       "  )\n",
       ")"
      ]
     },
     "execution_count": 12,
     "metadata": {},
     "output_type": "execute_result"
    }
   ],
   "source": [
    "model = Perceptron()\n",
    "model.to(device)"
   ]
  },
  {
   "cell_type": "code",
   "execution_count": 13,
   "metadata": {
    "colab": {
     "base_uri": "https://localhost:8080/"
    },
    "id": "Y-D60w2UCex7",
    "outputId": "02ddbb07-44dd-4ab9-8b7e-8a867c3b3691",
    "slideshow": {
     "slide_type": "subslide"
    }
   },
   "outputs": [
    {
     "data": {
      "text/plain": [
       "Perceptron(\n",
       "  (layers): Sequential(\n",
       "    (layer0): Linear(in_features=784, out_features=64, bias=True)\n",
       "    (relu0): ReLU()\n",
       "    (dropout0): Dropout(p=0.0, inplace=False)\n",
       "    (classifier): Linear(in_features=64, out_features=10, bias=True)\n",
       "  )\n",
       ")"
      ]
     },
     "execution_count": 13,
     "metadata": {},
     "output_type": "execute_result"
    }
   ],
   "source": [
    "model = Perceptron(num_layers=1)\n",
    "model.to(device)"
   ]
  },
  {
   "cell_type": "code",
   "execution_count": 14,
   "metadata": {
    "colab": {
     "base_uri": "https://localhost:8080/"
    },
    "id": "KoYsLYG-CeyA",
    "outputId": "97646428-6935-4a2a-938c-5f5dd587cbe0",
    "slideshow": {
     "slide_type": "subslide"
    }
   },
   "outputs": [
    {
     "data": {
      "text/plain": [
       "Perceptron(\n",
       "  (layers): Sequential(\n",
       "    (layer0): Linear(in_features=784, out_features=64, bias=True)\n",
       "    (relu0): ReLU()\n",
       "    (dropout0): Dropout(p=0.0, inplace=False)\n",
       "    (layer1): Linear(in_features=64, out_features=64, bias=True)\n",
       "    (relu1): ReLU()\n",
       "    (dropout1): Dropout(p=0.0, inplace=False)\n",
       "    (classifier): Linear(in_features=64, out_features=10, bias=True)\n",
       "  )\n",
       ")"
      ]
     },
     "execution_count": 14,
     "metadata": {},
     "output_type": "execute_result"
    }
   ],
   "source": [
    "model = Perceptron(num_layers=2)\n",
    "model.to(device)"
   ]
  },
  {
   "cell_type": "code",
   "execution_count": 15,
   "metadata": {
    "id": "gyRG-f4OFeDB",
    "slideshow": {
     "slide_type": "subslide"
    }
   },
   "outputs": [],
   "source": [
    "def testing(model, dataset):\n",
    "    generator = torch.utils.data.DataLoader(dataset, batch_size=64)\n",
    "\n",
    "    pred = []\n",
    "    real = []\n",
    "    for x, y in generator:\n",
    "        x = x.view([-1, 784]).to(device)\n",
    "        y = y.to(device)\n",
    "\n",
    "        pred.extend(torch.argmax(model(x), dim=-1).cpu().numpy().tolist())\n",
    "        real.extend(y.cpu().numpy().tolist())\n",
    "\n",
    "    return np.mean(np.array(real) == np.array(pred)), \\\n",
    "           classification_report(real, pred)"
   ]
  },
  {
   "cell_type": "code",
   "execution_count": 16,
   "metadata": {
    "id": "xuG8e3xbCeyE",
    "slideshow": {
     "slide_type": "subslide"
    }
   },
   "outputs": [],
   "source": [
    "def trainer(model, dataset, loss_function, optimizer, epochs):\n",
    "    for epoch in tqdm(range(epochs), leave=False):\n",
    "        generator = torch.utils.data.DataLoader(dataset, batch_size=64, \n",
    "                                              shuffle=True)\n",
    "        for x, y in tqdm(generator, leave=False):\n",
    "            optimizer.zero_grad()\n",
    "            x = x.view([-1, 784]).to(device)\n",
    "            y = y.to(device)\n",
    "\n",
    "            output = model(x)\n",
    "            loss = loss_function(output, y)\n",
    "            loss.backward()\n",
    "            optimizer.step()"
   ]
  },
  {
   "cell_type": "code",
   "execution_count": 17,
   "metadata": {
    "id": "zbiuY299Vtga",
    "slideshow": {
     "slide_type": "subslide"
    }
   },
   "outputs": [],
   "source": [
    "def draw_table(data, title=['ACCURACY'], width=[60, 11]):    \n",
    "    row_format = '|' + '|'.join([(\"{:>\"+str(w)+\"}\") for w in width]) + '|'\n",
    "    row_format_bet = '+' + '+'.join([(\"{:>\"+str(w)+\"}\") for w in width]) + '+'\n",
    "    \n",
    "    print(row_format_bet.format(\n",
    "        \"-\"*width[0], *[\"-\"*width[i+1] for i, _ in enumerate(title)]))\n",
    "    print(row_format.format(\"\", *title))\n",
    "    print(row_format_bet.format(\n",
    "        \"-\"*width[0], *[\"-\"*width[i+1] for i, _ in enumerate(title)]))\n",
    "    for key in data:\n",
    "        if len(key) > width[0]:\n",
    "            row_name = '...' + key[len(key)-width[0]+3:]\n",
    "        else:\n",
    "            row_name = key\n",
    "        print(row_format.format(row_name, *[round(x, 2) for x in data[key]]))\n",
    "        print(row_format_bet.format(\n",
    "            \"-\"*width[0], *[\"-\"*width[i+1] for i, _ in enumerate(title)]))"
   ]
  },
  {
   "cell_type": "code",
   "execution_count": 18,
   "metadata": {
    "id": "5A_miZWmEstx",
    "slideshow": {
     "slide_type": "subslide"
    }
   },
   "outputs": [],
   "source": [
    "model = Perceptron(num_layers=0)\n",
    "model.to(device)"
   ]
  },
  {
   "cell_type": "code",
   "execution_count": 19,
   "metadata": {
    "colab": {
     "base_uri": "https://localhost:8080/",
     "height": 306,
     "referenced_widgets": [
      "197062a6cbf44413bb0eaae2ab47623c",
      "e63d71e887ef4c2594774d70a590d23c",
      "8ea955ef7b9f46aeb7d3d4bf3a784b12",
      "cd65e46296cc4dfaa389a66f9be7634f",
      "527bcc0925d7449aaa3bec75d0f5972a",
      "e812bfb32d5443228a135f5af3893f30",
      "e3862186bdc242f7bc5d6698cde7a86c",
      "daa9e6e83252466aadb6e9e3f8cd15a1"
     ]
    },
    "id": "pGxA8FPpGMJY",
    "outputId": "69c44c76-8859-4b88-d90a-e756c60a3689",
    "slideshow": {
     "slide_type": "subslide"
    }
   },
   "outputs": [
    {
     "data": {
      "application/vnd.jupyter.widget-view+json": {
       "model_id": "197062a6cbf44413bb0eaae2ab47623c",
       "version_major": 2,
       "version_minor": 0
      },
      "text/plain": []
     },
     "metadata": {},
     "output_type": "display_data"
    },
    {
     "name": "stdout",
     "output_type": "stream",
     "text": [
      "              precision    recall  f1-score   support\n",
      "\n",
      "           0       0.04      0.00      0.00       980\n",
      "           1       0.01      0.03      0.02      1135\n",
      "           2       0.19      0.07      0.10      1032\n",
      "           3       0.03      0.01      0.01      1010\n",
      "           4       0.10      0.22      0.13       982\n",
      "           5       0.05      0.04      0.05       892\n",
      "           6       0.11      0.00      0.00       958\n",
      "           7       0.10      0.24      0.14      1028\n",
      "           8       0.10      0.05      0.07       974\n",
      "           9       0.11      0.11      0.11      1009\n",
      "\n",
      "    accuracy                           0.08     10000\n",
      "   macro avg       0.08      0.08      0.06     10000\n",
      "weighted avg       0.08      0.08      0.06     10000\n",
      "\n"
     ]
    }
   ],
   "source": [
    "_ = model.eval()\n",
    "acc, report = testing(model, MNIST_test)\n",
    "print(report)"
   ]
  },
  {
   "cell_type": "code",
   "execution_count": null,
   "metadata": {
    "colab": {
     "base_uri": "https://localhost:8080/",
     "height": 17,
     "referenced_widgets": [
      "3678e395a58549b9af8bb9865117c354",
      "cbd79bdc104e43bda62afa0f6087ae83",
      "1304985a7a1b46beb7cbb9eb598cba3b",
      "ce172c55651b4d7e87f5e413f6b7524d",
      "d59e8225a32040deb5fe0b9377ad71eb",
      "f108d3ec7a9d4bb1a6066b2f69476cf2",
      "f9fe69dc395d4e74bc397166d75d19d2",
      "d2d021e923ee49d5a0dd46f3b6983b2e",
      "13562245fb434735a96e953d357b919a",
      "23b14450c1b04b6195e0281d69eb9f04",
      "74c073447b9047a994517342fd34324b",
      "e5c64cdc24fa49f2b56a64c3949bc20e",
      "872103585d384bf6928c390f4198bc4b",
      "ffeb4c28b10c40e99d3c71427128e01c",
      "870ad0e5feeb4b8dab15459ccdbcc2ce",
      "1c59a7da584c4ab4afd72ca5d3814dd5",
      "1b950d5fb28540bf9b8868beb4e47afd",
      "7fe315e217844d89933a10220bf5a530",
      "be87fdc2c89c435d91e7d57bde8366e9",
      "8966232f97264d5fb0bc1be118b6dfba",
      "519830c9472c4a06b5c4a79bf67f5b6d",
      "1c73b91ca3f34784b729445ef4dd6cd8",
      "2186be0b4cc841cdb90a4ced24eaeb61",
      "781e866c26ce45fc8cda0082ddd9e84e",
      "77fd1dfb0ba442a2a1a7b29ce2c34d4e",
      "1decd2929cb644b8a85645e4f8c0dbbb",
      "ea47afa00fe64d3d853ac6d0412558c2",
      "0fbf49691b6d4a0b8349d44694fdc1a1",
      "1bcd7a432ab64968a60e5c359ebaaedf",
      "38d0273afc5e4919b0b3070d8830afe2",
      "2e3f53bd569e4f8087975a979297cd59",
      "00398c2675cc4a56bcc974eed0bed98f",
      "403e53d4340e4b1d8063bbc066e0d631",
      "8f3f248fbac04ecfa1074b7372904205",
      "45faff71e378423b9a5272ffdee5e37d",
      "730a45dee11b421ab5b9459e9d08258c",
      "c20bcd0a09364e888d453a5543c5956b",
      "3dcb6ab79a6a4b598e8f75b294fae829",
      "33f979b3ad7a472e95dda5679cbb7bd5",
      "431ec4bbec8a4456b4f156efa4fc93ea"
     ]
    },
    "id": "pimVcP6WH3M2",
    "outputId": "d0e26809-17c4-4298-fa06-fc0455360fd8",
    "slideshow": {
     "slide_type": "subslide"
    }
   },
   "outputs": [],
   "source": [
    "_ = model.train()\n",
    "trainer(model=model, \n",
    "        dataset=MNIST_train, \n",
    "        loss_function=torch.nn.CrossEntropyLoss(), \n",
    "        optimizer=torch.optim.Adam(model.parameters(), lr=0.001), \n",
    "        epochs=4)"
   ]
  },
  {
   "cell_type": "code",
   "execution_count": 21,
   "metadata": {
    "colab": {
     "base_uri": "https://localhost:8080/",
     "height": 306,
     "referenced_widgets": [
      "f13f8feca9b5461d8751c5f4cac4d558",
      "97b3b4eb095b4f1297ac14960b1b2e2e",
      "ce91101a5a914cf9a69eb2b202f7420b",
      "29113ad505544459a07701fb1c9e583b",
      "cda244cb81f8429394916e66f6183281",
      "efb2ce8ae65c40d8a22dd790ca86b272",
      "2f23acfa7b1e428a9d949068994f97a0",
      "b73c235dd60942c7ae4b93bbe1236565"
     ]
    },
    "id": "KHdbvSSrDaCF",
    "outputId": "d9004370-45ef-42f9-a7c4-6365875b9ae8",
    "slideshow": {
     "slide_type": "subslide"
    }
   },
   "outputs": [
    {
     "data": {
      "application/vnd.jupyter.widget-view+json": {
       "model_id": "f13f8feca9b5461d8751c5f4cac4d558",
       "version_major": 2,
       "version_minor": 0
      },
      "text/plain": []
     },
     "metadata": {},
     "output_type": "display_data"
    },
    {
     "name": "stdout",
     "output_type": "stream",
     "text": [
      "              precision    recall  f1-score   support\n",
      "\n",
      "           0       0.96      0.98      0.97       980\n",
      "           1       0.97      0.98      0.97      1135\n",
      "           2       0.94      0.89      0.91      1032\n",
      "           3       0.90      0.92      0.91      1010\n",
      "           4       0.91      0.95      0.93       982\n",
      "           5       0.92      0.85      0.89       892\n",
      "           6       0.94      0.96      0.95       958\n",
      "           7       0.92      0.93      0.92      1028\n",
      "           8       0.86      0.90      0.88       974\n",
      "           9       0.92      0.89      0.91      1009\n",
      "\n",
      "    accuracy                           0.93     10000\n",
      "   macro avg       0.92      0.92      0.92     10000\n",
      "weighted avg       0.93      0.93      0.92     10000\n",
      "\n"
     ]
    }
   ],
   "source": [
    "_ = model.eval()\n",
    "acc, report = testing(model, MNIST_test)\n",
    "print(report)"
   ]
  },
  {
   "cell_type": "markdown",
   "metadata": {
    "id": "WN-2s9C3In0-",
    "slideshow": {
     "slide_type": "subslide"
    }
   },
   "source": [
    "#### Гиперпараметры, которые нужно подобрать\n",
    "- num_layers\n",
    "- hidden_dim\n",
    "- lr\n",
    "- p\n",
    "\n",
    "Воспользуемся Cross Validation для их подбора."
   ]
  },
  {
   "cell_type": "code",
   "execution_count": 22,
   "metadata": {
    "id": "zczJgaLTEkf3",
    "slideshow": {
     "slide_type": "subslide"
    }
   },
   "outputs": [],
   "source": [
    "cross_val = KFold(3)\n",
    "number_of_batch = cross_val.get_n_splits(MNIST_train)\n",
    "\n",
    "grid = ParameterGrid({'num_layers': [0, 2], \n",
    "                      'hidden_dim': [8, 64],\n",
    "                      'p': [0.3, 0.7],\n",
    "                      'lr': [0.001]})\n",
    "\n",
    "X_train = MNIST_train.transform(MNIST_train.data.numpy()).transpose(0,1)\n",
    "Y_train = MNIST_train.targets.data"
   ]
  },
  {
   "cell_type": "code",
   "execution_count": null,
   "metadata": {
    "id": "Pd0js7cPJqse",
    "slideshow": {
     "slide_type": "subslide"
    }
   },
   "outputs": [],
   "source": [
    "scores = dict()\n",
    "for item in tqdm(grid):\n",
    "    list_of_scores = []\n",
    "    for train_index, test_index in tqdm(cross_val.split(X_train), \n",
    "                                        total=number_of_batch, leave=False):\n",
    "        x_train_fold = X_train[train_index]\n",
    "        x_test_fold = X_train[test_index]\n",
    "        y_train_fold = Y_train[train_index]\n",
    "        y_test_fold = Y_train[test_index]\n",
    "\n",
    "        traindata = torch.utils.data.TensorDataset(x_train_fold, y_train_fold)\n",
    "        testdata = torch.utils.data.TensorDataset(x_test_fold, y_test_fold)\n",
    "\n",
    "        model = Perceptron(num_layers=item['num_layers'], p=item['p'],\n",
    "                           hidden_dim=item['hidden_dim'])\n",
    "        model.to(device)\n",
    "        _ = model.train()\n",
    "        trainer(model=model, \n",
    "                dataset=traindata, \n",
    "                loss_function=torch.nn.CrossEntropyLoss(), \n",
    "                optimizer=torch.optim.Adam(model.parameters(), lr=item['lr']), \n",
    "                epochs=4)\n",
    "        \n",
    "        _ = model.eval()\n",
    "        acc, report = testing(model, testdata)\n",
    "        list_of_scores.append(acc)\n",
    "    scores[str(item)] = [np.mean(list_of_scores)]"
   ]
  },
  {
   "cell_type": "code",
   "execution_count": 25,
   "metadata": {
    "colab": {
     "base_uri": "https://localhost:8080/"
    },
    "id": "WauMmtFvVfb9",
    "outputId": "2061a688-e5a6-4146-c928-035797a195f9",
    "slideshow": {
     "slide_type": "subslide"
    }
   },
   "outputs": [
    {
     "name": "stdout",
     "output_type": "stream",
     "text": [
      "+------------------------------------------------------------+------------+\n",
      "|                                                            |    ACCURACY|\n",
      "+------------------------------------------------------------+------------+\n",
      "|   {'hidden_dim': 8, 'lr': 0.001, 'num_layers': 0, 'p': 0.3}|        0.92|\n",
      "+------------------------------------------------------------+------------+\n",
      "|   {'hidden_dim': 8, 'lr': 0.001, 'num_layers': 0, 'p': 0.7}|        0.92|\n",
      "+------------------------------------------------------------+------------+\n",
      "|   {'hidden_dim': 8, 'lr': 0.001, 'num_layers': 2, 'p': 0.3}|         0.8|\n",
      "+------------------------------------------------------------+------------+\n",
      "|   {'hidden_dim': 8, 'lr': 0.001, 'num_layers': 2, 'p': 0.7}|        0.59|\n",
      "+------------------------------------------------------------+------------+\n",
      "|  {'hidden_dim': 64, 'lr': 0.001, 'num_layers': 0, 'p': 0.3}|        0.92|\n",
      "+------------------------------------------------------------+------------+\n",
      "|  {'hidden_dim': 64, 'lr': 0.001, 'num_layers': 0, 'p': 0.7}|        0.92|\n",
      "+------------------------------------------------------------+------------+\n",
      "|  {'hidden_dim': 64, 'lr': 0.001, 'num_layers': 2, 'p': 0.3}|        0.95|\n",
      "+------------------------------------------------------------+------------+\n",
      "|  {'hidden_dim': 64, 'lr': 0.001, 'num_layers': 2, 'p': 0.7}|        0.91|\n",
      "+------------------------------------------------------------+------------+\n"
     ]
    }
   ],
   "source": [
    "draw_table(scores)"
   ]
  },
  {
   "cell_type": "markdown",
   "metadata": {
    "id": "rd4gmpzt5Vmq",
    "slideshow": {
     "slide_type": "slide"
    }
   },
   "source": [
    "## Прореживание нейросетей"
   ]
  },
  {
   "cell_type": "markdown",
   "metadata": {
    "id": "ekGrMhKj5Vmq",
    "slideshow": {
     "slide_type": "subslide"
    }
   },
   "source": [
    "<img src=\"https://github.com/andriygav/MachineLearningSeminars/blob/master/sem3/fig3.png?raw=1\" alt=\"drawing\" width=\"400\"/>\n",
    "\n",
    "1 - Произвольное удаление параметров 2 - Optimal Brain Damage\n",
    "3 - Variational Method               4 - Удаление зависимых признаков\n",
    "\n",
    "* *Грабовой А.В., Бахтеев О.Ю., Стрижов В.В.* Определение релевантности параметровнейросети // Информатика и ее применения, 2019.\n",
    "* *Грабовой А.В., Бахтеев О. Ю., Стрижов В.В.* Введение отношения порядка на множествепараметров аппроксимирующих моделей // Информатика и ее применения, 2020."
   ]
  },
  {
   "cell_type": "markdown",
   "metadata": {
    "id": "uhbWXdrP5Vmq",
    "slideshow": {
     "slide_type": "subslide"
    }
   },
   "source": [
    "<img src=\"https://github.com/andriygav/MachineLearningSeminars/blob/master/sem3/fig4.png?raw=1\" alt=\"drawing\" width=\"400\"/>\n",
    "\n",
    "1 - Произвольное удаление параметров 2 - Optimal Brain Damage\n",
    "3 - Variational Method               4 - Удаление зависимых признаков"
   ]
  }
 ],
 "metadata": {
  "accelerator": "GPU",
  "celltoolbar": "Slideshow",
  "colab": {
   "collapsed_sections": [],
   "name": "main.ipynb",
   "provenance": []
  },
  "kernelspec": {
   "display_name": "Python 3",
   "language": "python",
   "name": "python3"
  },
  "language_info": {
   "codemirror_mode": {
    "name": "ipython",
    "version": 3
   },
   "file_extension": ".py",
   "mimetype": "text/x-python",
   "name": "python",
   "nbconvert_exporter": "python",
   "pygments_lexer": "ipython3",
   "version": "3.7.3"
  },
  "widgets": {
   "application/vnd.jupyter.widget-state+json": {
    "00398c2675cc4a56bcc974eed0bed98f": {
     "model_module": "@jupyter-widgets/base",
     "model_module_version": "1.2.0",
     "model_name": "LayoutModel",
     "state": {
      "_model_module": "@jupyter-widgets/base",
      "_model_module_version": "1.2.0",
      "_model_name": "LayoutModel",
      "_view_count": null,
      "_view_module": "@jupyter-widgets/base",
      "_view_module_version": "1.2.0",
      "_view_name": "LayoutView",
      "align_content": null,
      "align_items": null,
      "align_self": null,
      "border": null,
      "bottom": null,
      "display": null,
      "flex": null,
      "flex_flow": null,
      "grid_area": null,
      "grid_auto_columns": null,
      "grid_auto_flow": null,
      "grid_auto_rows": null,
      "grid_column": null,
      "grid_gap": null,
      "grid_row": null,
      "grid_template_areas": null,
      "grid_template_columns": null,
      "grid_template_rows": null,
      "height": null,
      "justify_content": null,
      "justify_items": null,
      "left": null,
      "margin": null,
      "max_height": null,
      "max_width": null,
      "min_height": null,
      "min_width": null,
      "object_fit": null,
      "object_position": null,
      "order": null,
      "overflow": null,
      "overflow_x": null,
      "overflow_y": null,
      "padding": null,
      "right": null,
      "top": null,
      "visibility": null,
      "width": null
     }
    },
    "0fbf49691b6d4a0b8349d44694fdc1a1": {
     "model_module": "@jupyter-widgets/controls",
     "model_module_version": "1.5.0",
     "model_name": "HTMLModel",
     "state": {
      "_dom_classes": [],
      "_model_module": "@jupyter-widgets/controls",
      "_model_module_version": "1.5.0",
      "_model_name": "HTMLModel",
      "_view_count": null,
      "_view_module": "@jupyter-widgets/controls",
      "_view_module_version": "1.5.0",
      "_view_name": "HTMLView",
      "description": "",
      "description_tooltip": null,
      "layout": "IPY_MODEL_00398c2675cc4a56bcc974eed0bed98f",
      "placeholder": "​",
      "style": "IPY_MODEL_2e3f53bd569e4f8087975a979297cd59",
      "value": " 938/938 [00:09&lt;00:00, 94.68it/s]"
     }
    },
    "1304985a7a1b46beb7cbb9eb598cba3b": {
     "model_module": "@jupyter-widgets/controls",
     "model_module_version": "1.5.0",
     "model_name": "FloatProgressModel",
     "state": {
      "_dom_classes": [],
      "_model_module": "@jupyter-widgets/controls",
      "_model_module_version": "1.5.0",
      "_model_name": "FloatProgressModel",
      "_view_count": null,
      "_view_module": "@jupyter-widgets/controls",
      "_view_module_version": "1.5.0",
      "_view_name": "ProgressView",
      "bar_style": "",
      "description": "100%",
      "description_tooltip": null,
      "layout": "IPY_MODEL_f108d3ec7a9d4bb1a6066b2f69476cf2",
      "max": 4,
      "min": 0,
      "orientation": "horizontal",
      "style": "IPY_MODEL_d59e8225a32040deb5fe0b9377ad71eb",
      "value": 4
     }
    },
    "13562245fb434735a96e953d357b919a": {
     "model_module": "@jupyter-widgets/controls",
     "model_module_version": "1.5.0",
     "model_name": "HBoxModel",
     "state": {
      "_dom_classes": [],
      "_model_module": "@jupyter-widgets/controls",
      "_model_module_version": "1.5.0",
      "_model_name": "HBoxModel",
      "_view_count": null,
      "_view_module": "@jupyter-widgets/controls",
      "_view_module_version": "1.5.0",
      "_view_name": "HBoxView",
      "box_style": "",
      "children": [
       "IPY_MODEL_74c073447b9047a994517342fd34324b",
       "IPY_MODEL_e5c64cdc24fa49f2b56a64c3949bc20e"
      ],
      "layout": "IPY_MODEL_23b14450c1b04b6195e0281d69eb9f04"
     }
    },
    "197062a6cbf44413bb0eaae2ab47623c": {
     "model_module": "@jupyter-widgets/controls",
     "model_module_version": "1.5.0",
     "model_name": "HBoxModel",
     "state": {
      "_dom_classes": [],
      "_model_module": "@jupyter-widgets/controls",
      "_model_module_version": "1.5.0",
      "_model_name": "HBoxModel",
      "_view_count": null,
      "_view_module": "@jupyter-widgets/controls",
      "_view_module_version": "1.5.0",
      "_view_name": "HBoxView",
      "box_style": "",
      "children": [
       "IPY_MODEL_8ea955ef7b9f46aeb7d3d4bf3a784b12",
       "IPY_MODEL_cd65e46296cc4dfaa389a66f9be7634f"
      ],
      "layout": "IPY_MODEL_e63d71e887ef4c2594774d70a590d23c"
     }
    },
    "1b950d5fb28540bf9b8868beb4e47afd": {
     "model_module": "@jupyter-widgets/controls",
     "model_module_version": "1.5.0",
     "model_name": "HBoxModel",
     "state": {
      "_dom_classes": [],
      "_model_module": "@jupyter-widgets/controls",
      "_model_module_version": "1.5.0",
      "_model_name": "HBoxModel",
      "_view_count": null,
      "_view_module": "@jupyter-widgets/controls",
      "_view_module_version": "1.5.0",
      "_view_name": "HBoxView",
      "box_style": "",
      "children": [
       "IPY_MODEL_be87fdc2c89c435d91e7d57bde8366e9",
       "IPY_MODEL_8966232f97264d5fb0bc1be118b6dfba"
      ],
      "layout": "IPY_MODEL_7fe315e217844d89933a10220bf5a530"
     }
    },
    "1bcd7a432ab64968a60e5c359ebaaedf": {
     "model_module": "@jupyter-widgets/controls",
     "model_module_version": "1.5.0",
     "model_name": "ProgressStyleModel",
     "state": {
      "_model_module": "@jupyter-widgets/controls",
      "_model_module_version": "1.5.0",
      "_model_name": "ProgressStyleModel",
      "_view_count": null,
      "_view_module": "@jupyter-widgets/base",
      "_view_module_version": "1.2.0",
      "_view_name": "StyleView",
      "bar_color": null,
      "description_width": "initial"
     }
    },
    "1c59a7da584c4ab4afd72ca5d3814dd5": {
     "model_module": "@jupyter-widgets/base",
     "model_module_version": "1.2.0",
     "model_name": "LayoutModel",
     "state": {
      "_model_module": "@jupyter-widgets/base",
      "_model_module_version": "1.2.0",
      "_model_name": "LayoutModel",
      "_view_count": null,
      "_view_module": "@jupyter-widgets/base",
      "_view_module_version": "1.2.0",
      "_view_name": "LayoutView",
      "align_content": null,
      "align_items": null,
      "align_self": null,
      "border": null,
      "bottom": null,
      "display": null,
      "flex": null,
      "flex_flow": null,
      "grid_area": null,
      "grid_auto_columns": null,
      "grid_auto_flow": null,
      "grid_auto_rows": null,
      "grid_column": null,
      "grid_gap": null,
      "grid_row": null,
      "grid_template_areas": null,
      "grid_template_columns": null,
      "grid_template_rows": null,
      "height": null,
      "justify_content": null,
      "justify_items": null,
      "left": null,
      "margin": null,
      "max_height": null,
      "max_width": null,
      "min_height": null,
      "min_width": null,
      "object_fit": null,
      "object_position": null,
      "order": null,
      "overflow": null,
      "overflow_x": null,
      "overflow_y": null,
      "padding": null,
      "right": null,
      "top": null,
      "visibility": null,
      "width": null
     }
    },
    "1c73b91ca3f34784b729445ef4dd6cd8": {
     "model_module": "@jupyter-widgets/base",
     "model_module_version": "1.2.0",
     "model_name": "LayoutModel",
     "state": {
      "_model_module": "@jupyter-widgets/base",
      "_model_module_version": "1.2.0",
      "_model_name": "LayoutModel",
      "_view_count": null,
      "_view_module": "@jupyter-widgets/base",
      "_view_module_version": "1.2.0",
      "_view_name": "LayoutView",
      "align_content": null,
      "align_items": null,
      "align_self": null,
      "border": null,
      "bottom": null,
      "display": null,
      "flex": null,
      "flex_flow": null,
      "grid_area": null,
      "grid_auto_columns": null,
      "grid_auto_flow": null,
      "grid_auto_rows": null,
      "grid_column": null,
      "grid_gap": null,
      "grid_row": null,
      "grid_template_areas": null,
      "grid_template_columns": null,
      "grid_template_rows": null,
      "height": null,
      "justify_content": null,
      "justify_items": null,
      "left": null,
      "margin": null,
      "max_height": null,
      "max_width": null,
      "min_height": null,
      "min_width": null,
      "object_fit": null,
      "object_position": null,
      "order": null,
      "overflow": null,
      "overflow_x": null,
      "overflow_y": null,
      "padding": null,
      "right": null,
      "top": null,
      "visibility": null,
      "width": null
     }
    },
    "1decd2929cb644b8a85645e4f8c0dbbb": {
     "model_module": "@jupyter-widgets/base",
     "model_module_version": "1.2.0",
     "model_name": "LayoutModel",
     "state": {
      "_model_module": "@jupyter-widgets/base",
      "_model_module_version": "1.2.0",
      "_model_name": "LayoutModel",
      "_view_count": null,
      "_view_module": "@jupyter-widgets/base",
      "_view_module_version": "1.2.0",
      "_view_name": "LayoutView",
      "align_content": null,
      "align_items": null,
      "align_self": null,
      "border": null,
      "bottom": null,
      "display": null,
      "flex": null,
      "flex_flow": null,
      "grid_area": null,
      "grid_auto_columns": null,
      "grid_auto_flow": null,
      "grid_auto_rows": null,
      "grid_column": null,
      "grid_gap": null,
      "grid_row": null,
      "grid_template_areas": null,
      "grid_template_columns": null,
      "grid_template_rows": null,
      "height": null,
      "justify_content": null,
      "justify_items": null,
      "left": null,
      "margin": null,
      "max_height": null,
      "max_width": null,
      "min_height": null,
      "min_width": null,
      "object_fit": null,
      "object_position": null,
      "order": null,
      "overflow": null,
      "overflow_x": null,
      "overflow_y": null,
      "padding": null,
      "right": null,
      "top": null,
      "visibility": null,
      "width": null
     }
    },
    "2186be0b4cc841cdb90a4ced24eaeb61": {
     "model_module": "@jupyter-widgets/controls",
     "model_module_version": "1.5.0",
     "model_name": "DescriptionStyleModel",
     "state": {
      "_model_module": "@jupyter-widgets/controls",
      "_model_module_version": "1.5.0",
      "_model_name": "DescriptionStyleModel",
      "_view_count": null,
      "_view_module": "@jupyter-widgets/base",
      "_view_module_version": "1.2.0",
      "_view_name": "StyleView",
      "description_width": ""
     }
    },
    "23b14450c1b04b6195e0281d69eb9f04": {
     "model_module": "@jupyter-widgets/base",
     "model_module_version": "1.2.0",
     "model_name": "LayoutModel",
     "state": {
      "_model_module": "@jupyter-widgets/base",
      "_model_module_version": "1.2.0",
      "_model_name": "LayoutModel",
      "_view_count": null,
      "_view_module": "@jupyter-widgets/base",
      "_view_module_version": "1.2.0",
      "_view_name": "LayoutView",
      "align_content": null,
      "align_items": null,
      "align_self": null,
      "border": null,
      "bottom": null,
      "display": null,
      "flex": null,
      "flex_flow": null,
      "grid_area": null,
      "grid_auto_columns": null,
      "grid_auto_flow": null,
      "grid_auto_rows": null,
      "grid_column": null,
      "grid_gap": null,
      "grid_row": null,
      "grid_template_areas": null,
      "grid_template_columns": null,
      "grid_template_rows": null,
      "height": null,
      "justify_content": null,
      "justify_items": null,
      "left": null,
      "margin": null,
      "max_height": null,
      "max_width": null,
      "min_height": null,
      "min_width": null,
      "object_fit": null,
      "object_position": null,
      "order": null,
      "overflow": null,
      "overflow_x": null,
      "overflow_y": null,
      "padding": null,
      "right": null,
      "top": null,
      "visibility": null,
      "width": null
     }
    },
    "29113ad505544459a07701fb1c9e583b": {
     "model_module": "@jupyter-widgets/controls",
     "model_module_version": "1.5.0",
     "model_name": "HTMLModel",
     "state": {
      "_dom_classes": [],
      "_model_module": "@jupyter-widgets/controls",
      "_model_module_version": "1.5.0",
      "_model_name": "HTMLModel",
      "_view_count": null,
      "_view_module": "@jupyter-widgets/controls",
      "_view_module_version": "1.5.0",
      "_view_name": "HTMLView",
      "description": "",
      "description_tooltip": null,
      "layout": "IPY_MODEL_b73c235dd60942c7ae4b93bbe1236565",
      "placeholder": "​",
      "style": "IPY_MODEL_2f23acfa7b1e428a9d949068994f97a0",
      "value": " 157/157 [00:01&lt;00:00, 101.50it/s]"
     }
    },
    "2e3f53bd569e4f8087975a979297cd59": {
     "model_module": "@jupyter-widgets/controls",
     "model_module_version": "1.5.0",
     "model_name": "DescriptionStyleModel",
     "state": {
      "_model_module": "@jupyter-widgets/controls",
      "_model_module_version": "1.5.0",
      "_model_name": "DescriptionStyleModel",
      "_view_count": null,
      "_view_module": "@jupyter-widgets/base",
      "_view_module_version": "1.2.0",
      "_view_name": "StyleView",
      "description_width": ""
     }
    },
    "2f23acfa7b1e428a9d949068994f97a0": {
     "model_module": "@jupyter-widgets/controls",
     "model_module_version": "1.5.0",
     "model_name": "DescriptionStyleModel",
     "state": {
      "_model_module": "@jupyter-widgets/controls",
      "_model_module_version": "1.5.0",
      "_model_name": "DescriptionStyleModel",
      "_view_count": null,
      "_view_module": "@jupyter-widgets/base",
      "_view_module_version": "1.2.0",
      "_view_name": "StyleView",
      "description_width": ""
     }
    },
    "33f979b3ad7a472e95dda5679cbb7bd5": {
     "model_module": "@jupyter-widgets/controls",
     "model_module_version": "1.5.0",
     "model_name": "DescriptionStyleModel",
     "state": {
      "_model_module": "@jupyter-widgets/controls",
      "_model_module_version": "1.5.0",
      "_model_name": "DescriptionStyleModel",
      "_view_count": null,
      "_view_module": "@jupyter-widgets/base",
      "_view_module_version": "1.2.0",
      "_view_name": "StyleView",
      "description_width": ""
     }
    },
    "3678e395a58549b9af8bb9865117c354": {
     "model_module": "@jupyter-widgets/controls",
     "model_module_version": "1.5.0",
     "model_name": "HBoxModel",
     "state": {
      "_dom_classes": [],
      "_model_module": "@jupyter-widgets/controls",
      "_model_module_version": "1.5.0",
      "_model_name": "HBoxModel",
      "_view_count": null,
      "_view_module": "@jupyter-widgets/controls",
      "_view_module_version": "1.5.0",
      "_view_name": "HBoxView",
      "box_style": "",
      "children": [
       "IPY_MODEL_1304985a7a1b46beb7cbb9eb598cba3b",
       "IPY_MODEL_ce172c55651b4d7e87f5e413f6b7524d"
      ],
      "layout": "IPY_MODEL_cbd79bdc104e43bda62afa0f6087ae83"
     }
    },
    "38d0273afc5e4919b0b3070d8830afe2": {
     "model_module": "@jupyter-widgets/base",
     "model_module_version": "1.2.0",
     "model_name": "LayoutModel",
     "state": {
      "_model_module": "@jupyter-widgets/base",
      "_model_module_version": "1.2.0",
      "_model_name": "LayoutModel",
      "_view_count": null,
      "_view_module": "@jupyter-widgets/base",
      "_view_module_version": "1.2.0",
      "_view_name": "LayoutView",
      "align_content": null,
      "align_items": null,
      "align_self": null,
      "border": null,
      "bottom": null,
      "display": null,
      "flex": null,
      "flex_flow": null,
      "grid_area": null,
      "grid_auto_columns": null,
      "grid_auto_flow": null,
      "grid_auto_rows": null,
      "grid_column": null,
      "grid_gap": null,
      "grid_row": null,
      "grid_template_areas": null,
      "grid_template_columns": null,
      "grid_template_rows": null,
      "height": null,
      "justify_content": null,
      "justify_items": null,
      "left": null,
      "margin": null,
      "max_height": null,
      "max_width": null,
      "min_height": null,
      "min_width": null,
      "object_fit": null,
      "object_position": null,
      "order": null,
      "overflow": null,
      "overflow_x": null,
      "overflow_y": null,
      "padding": null,
      "right": null,
      "top": null,
      "visibility": null,
      "width": null
     }
    },
    "3dcb6ab79a6a4b598e8f75b294fae829": {
     "model_module": "@jupyter-widgets/base",
     "model_module_version": "1.2.0",
     "model_name": "LayoutModel",
     "state": {
      "_model_module": "@jupyter-widgets/base",
      "_model_module_version": "1.2.0",
      "_model_name": "LayoutModel",
      "_view_count": null,
      "_view_module": "@jupyter-widgets/base",
      "_view_module_version": "1.2.0",
      "_view_name": "LayoutView",
      "align_content": null,
      "align_items": null,
      "align_self": null,
      "border": null,
      "bottom": null,
      "display": null,
      "flex": null,
      "flex_flow": null,
      "grid_area": null,
      "grid_auto_columns": null,
      "grid_auto_flow": null,
      "grid_auto_rows": null,
      "grid_column": null,
      "grid_gap": null,
      "grid_row": null,
      "grid_template_areas": null,
      "grid_template_columns": null,
      "grid_template_rows": null,
      "height": null,
      "justify_content": null,
      "justify_items": null,
      "left": null,
      "margin": null,
      "max_height": null,
      "max_width": null,
      "min_height": null,
      "min_width": null,
      "object_fit": null,
      "object_position": null,
      "order": null,
      "overflow": null,
      "overflow_x": null,
      "overflow_y": null,
      "padding": null,
      "right": null,
      "top": null,
      "visibility": null,
      "width": null
     }
    },
    "403e53d4340e4b1d8063bbc066e0d631": {
     "model_module": "@jupyter-widgets/controls",
     "model_module_version": "1.5.0",
     "model_name": "HBoxModel",
     "state": {
      "_dom_classes": [],
      "_model_module": "@jupyter-widgets/controls",
      "_model_module_version": "1.5.0",
      "_model_name": "HBoxModel",
      "_view_count": null,
      "_view_module": "@jupyter-widgets/controls",
      "_view_module_version": "1.5.0",
      "_view_name": "HBoxView",
      "box_style": "",
      "children": [
       "IPY_MODEL_45faff71e378423b9a5272ffdee5e37d",
       "IPY_MODEL_730a45dee11b421ab5b9459e9d08258c"
      ],
      "layout": "IPY_MODEL_8f3f248fbac04ecfa1074b7372904205"
     }
    },
    "431ec4bbec8a4456b4f156efa4fc93ea": {
     "model_module": "@jupyter-widgets/base",
     "model_module_version": "1.2.0",
     "model_name": "LayoutModel",
     "state": {
      "_model_module": "@jupyter-widgets/base",
      "_model_module_version": "1.2.0",
      "_model_name": "LayoutModel",
      "_view_count": null,
      "_view_module": "@jupyter-widgets/base",
      "_view_module_version": "1.2.0",
      "_view_name": "LayoutView",
      "align_content": null,
      "align_items": null,
      "align_self": null,
      "border": null,
      "bottom": null,
      "display": null,
      "flex": null,
      "flex_flow": null,
      "grid_area": null,
      "grid_auto_columns": null,
      "grid_auto_flow": null,
      "grid_auto_rows": null,
      "grid_column": null,
      "grid_gap": null,
      "grid_row": null,
      "grid_template_areas": null,
      "grid_template_columns": null,
      "grid_template_rows": null,
      "height": null,
      "justify_content": null,
      "justify_items": null,
      "left": null,
      "margin": null,
      "max_height": null,
      "max_width": null,
      "min_height": null,
      "min_width": null,
      "object_fit": null,
      "object_position": null,
      "order": null,
      "overflow": null,
      "overflow_x": null,
      "overflow_y": null,
      "padding": null,
      "right": null,
      "top": null,
      "visibility": null,
      "width": null
     }
    },
    "45faff71e378423b9a5272ffdee5e37d": {
     "model_module": "@jupyter-widgets/controls",
     "model_module_version": "1.5.0",
     "model_name": "FloatProgressModel",
     "state": {
      "_dom_classes": [],
      "_model_module": "@jupyter-widgets/controls",
      "_model_module_version": "1.5.0",
      "_model_name": "FloatProgressModel",
      "_view_count": null,
      "_view_module": "@jupyter-widgets/controls",
      "_view_module_version": "1.5.0",
      "_view_name": "ProgressView",
      "bar_style": "",
      "description": "100%",
      "description_tooltip": null,
      "layout": "IPY_MODEL_3dcb6ab79a6a4b598e8f75b294fae829",
      "max": 938,
      "min": 0,
      "orientation": "horizontal",
      "style": "IPY_MODEL_c20bcd0a09364e888d453a5543c5956b",
      "value": 938
     }
    },
    "519830c9472c4a06b5c4a79bf67f5b6d": {
     "model_module": "@jupyter-widgets/controls",
     "model_module_version": "1.5.0",
     "model_name": "ProgressStyleModel",
     "state": {
      "_model_module": "@jupyter-widgets/controls",
      "_model_module_version": "1.5.0",
      "_model_name": "ProgressStyleModel",
      "_view_count": null,
      "_view_module": "@jupyter-widgets/base",
      "_view_module_version": "1.2.0",
      "_view_name": "StyleView",
      "bar_color": null,
      "description_width": "initial"
     }
    },
    "527bcc0925d7449aaa3bec75d0f5972a": {
     "model_module": "@jupyter-widgets/controls",
     "model_module_version": "1.5.0",
     "model_name": "ProgressStyleModel",
     "state": {
      "_model_module": "@jupyter-widgets/controls",
      "_model_module_version": "1.5.0",
      "_model_name": "ProgressStyleModel",
      "_view_count": null,
      "_view_module": "@jupyter-widgets/base",
      "_view_module_version": "1.2.0",
      "_view_name": "StyleView",
      "bar_color": null,
      "description_width": "initial"
     }
    },
    "730a45dee11b421ab5b9459e9d08258c": {
     "model_module": "@jupyter-widgets/controls",
     "model_module_version": "1.5.0",
     "model_name": "HTMLModel",
     "state": {
      "_dom_classes": [],
      "_model_module": "@jupyter-widgets/controls",
      "_model_module_version": "1.5.0",
      "_model_name": "HTMLModel",
      "_view_count": null,
      "_view_module": "@jupyter-widgets/controls",
      "_view_module_version": "1.5.0",
      "_view_name": "HTMLView",
      "description": "",
      "description_tooltip": null,
      "layout": "IPY_MODEL_431ec4bbec8a4456b4f156efa4fc93ea",
      "placeholder": "​",
      "style": "IPY_MODEL_33f979b3ad7a472e95dda5679cbb7bd5",
      "value": " 938/938 [00:09&lt;00:00, 99.38it/s]"
     }
    },
    "74c073447b9047a994517342fd34324b": {
     "model_module": "@jupyter-widgets/controls",
     "model_module_version": "1.5.0",
     "model_name": "FloatProgressModel",
     "state": {
      "_dom_classes": [],
      "_model_module": "@jupyter-widgets/controls",
      "_model_module_version": "1.5.0",
      "_model_name": "FloatProgressModel",
      "_view_count": null,
      "_view_module": "@jupyter-widgets/controls",
      "_view_module_version": "1.5.0",
      "_view_name": "ProgressView",
      "bar_style": "",
      "description": "100%",
      "description_tooltip": null,
      "layout": "IPY_MODEL_ffeb4c28b10c40e99d3c71427128e01c",
      "max": 938,
      "min": 0,
      "orientation": "horizontal",
      "style": "IPY_MODEL_872103585d384bf6928c390f4198bc4b",
      "value": 938
     }
    },
    "77fd1dfb0ba442a2a1a7b29ce2c34d4e": {
     "model_module": "@jupyter-widgets/controls",
     "model_module_version": "1.5.0",
     "model_name": "HBoxModel",
     "state": {
      "_dom_classes": [],
      "_model_module": "@jupyter-widgets/controls",
      "_model_module_version": "1.5.0",
      "_model_name": "HBoxModel",
      "_view_count": null,
      "_view_module": "@jupyter-widgets/controls",
      "_view_module_version": "1.5.0",
      "_view_name": "HBoxView",
      "box_style": "",
      "children": [
       "IPY_MODEL_ea47afa00fe64d3d853ac6d0412558c2",
       "IPY_MODEL_0fbf49691b6d4a0b8349d44694fdc1a1"
      ],
      "layout": "IPY_MODEL_1decd2929cb644b8a85645e4f8c0dbbb"
     }
    },
    "781e866c26ce45fc8cda0082ddd9e84e": {
     "model_module": "@jupyter-widgets/base",
     "model_module_version": "1.2.0",
     "model_name": "LayoutModel",
     "state": {
      "_model_module": "@jupyter-widgets/base",
      "_model_module_version": "1.2.0",
      "_model_name": "LayoutModel",
      "_view_count": null,
      "_view_module": "@jupyter-widgets/base",
      "_view_module_version": "1.2.0",
      "_view_name": "LayoutView",
      "align_content": null,
      "align_items": null,
      "align_self": null,
      "border": null,
      "bottom": null,
      "display": null,
      "flex": null,
      "flex_flow": null,
      "grid_area": null,
      "grid_auto_columns": null,
      "grid_auto_flow": null,
      "grid_auto_rows": null,
      "grid_column": null,
      "grid_gap": null,
      "grid_row": null,
      "grid_template_areas": null,
      "grid_template_columns": null,
      "grid_template_rows": null,
      "height": null,
      "justify_content": null,
      "justify_items": null,
      "left": null,
      "margin": null,
      "max_height": null,
      "max_width": null,
      "min_height": null,
      "min_width": null,
      "object_fit": null,
      "object_position": null,
      "order": null,
      "overflow": null,
      "overflow_x": null,
      "overflow_y": null,
      "padding": null,
      "right": null,
      "top": null,
      "visibility": null,
      "width": null
     }
    },
    "7fe315e217844d89933a10220bf5a530": {
     "model_module": "@jupyter-widgets/base",
     "model_module_version": "1.2.0",
     "model_name": "LayoutModel",
     "state": {
      "_model_module": "@jupyter-widgets/base",
      "_model_module_version": "1.2.0",
      "_model_name": "LayoutModel",
      "_view_count": null,
      "_view_module": "@jupyter-widgets/base",
      "_view_module_version": "1.2.0",
      "_view_name": "LayoutView",
      "align_content": null,
      "align_items": null,
      "align_self": null,
      "border": null,
      "bottom": null,
      "display": null,
      "flex": null,
      "flex_flow": null,
      "grid_area": null,
      "grid_auto_columns": null,
      "grid_auto_flow": null,
      "grid_auto_rows": null,
      "grid_column": null,
      "grid_gap": null,
      "grid_row": null,
      "grid_template_areas": null,
      "grid_template_columns": null,
      "grid_template_rows": null,
      "height": null,
      "justify_content": null,
      "justify_items": null,
      "left": null,
      "margin": null,
      "max_height": null,
      "max_width": null,
      "min_height": null,
      "min_width": null,
      "object_fit": null,
      "object_position": null,
      "order": null,
      "overflow": null,
      "overflow_x": null,
      "overflow_y": null,
      "padding": null,
      "right": null,
      "top": null,
      "visibility": null,
      "width": null
     }
    },
    "870ad0e5feeb4b8dab15459ccdbcc2ce": {
     "model_module": "@jupyter-widgets/controls",
     "model_module_version": "1.5.0",
     "model_name": "DescriptionStyleModel",
     "state": {
      "_model_module": "@jupyter-widgets/controls",
      "_model_module_version": "1.5.0",
      "_model_name": "DescriptionStyleModel",
      "_view_count": null,
      "_view_module": "@jupyter-widgets/base",
      "_view_module_version": "1.2.0",
      "_view_name": "StyleView",
      "description_width": ""
     }
    },
    "872103585d384bf6928c390f4198bc4b": {
     "model_module": "@jupyter-widgets/controls",
     "model_module_version": "1.5.0",
     "model_name": "ProgressStyleModel",
     "state": {
      "_model_module": "@jupyter-widgets/controls",
      "_model_module_version": "1.5.0",
      "_model_name": "ProgressStyleModel",
      "_view_count": null,
      "_view_module": "@jupyter-widgets/base",
      "_view_module_version": "1.2.0",
      "_view_name": "StyleView",
      "bar_color": null,
      "description_width": "initial"
     }
    },
    "8966232f97264d5fb0bc1be118b6dfba": {
     "model_module": "@jupyter-widgets/controls",
     "model_module_version": "1.5.0",
     "model_name": "HTMLModel",
     "state": {
      "_dom_classes": [],
      "_model_module": "@jupyter-widgets/controls",
      "_model_module_version": "1.5.0",
      "_model_name": "HTMLModel",
      "_view_count": null,
      "_view_module": "@jupyter-widgets/controls",
      "_view_module_version": "1.5.0",
      "_view_name": "HTMLView",
      "description": "",
      "description_tooltip": null,
      "layout": "IPY_MODEL_781e866c26ce45fc8cda0082ddd9e84e",
      "placeholder": "​",
      "style": "IPY_MODEL_2186be0b4cc841cdb90a4ced24eaeb61",
      "value": " 938/938 [00:09&lt;00:00, 94.38it/s]"
     }
    },
    "8ea955ef7b9f46aeb7d3d4bf3a784b12": {
     "model_module": "@jupyter-widgets/controls",
     "model_module_version": "1.5.0",
     "model_name": "FloatProgressModel",
     "state": {
      "_dom_classes": [],
      "_model_module": "@jupyter-widgets/controls",
      "_model_module_version": "1.5.0",
      "_model_name": "FloatProgressModel",
      "_view_count": null,
      "_view_module": "@jupyter-widgets/controls",
      "_view_module_version": "1.5.0",
      "_view_name": "ProgressView",
      "bar_style": "",
      "description": "100%",
      "description_tooltip": null,
      "layout": "IPY_MODEL_e812bfb32d5443228a135f5af3893f30",
      "max": 157,
      "min": 0,
      "orientation": "horizontal",
      "style": "IPY_MODEL_527bcc0925d7449aaa3bec75d0f5972a",
      "value": 157
     }
    },
    "8f3f248fbac04ecfa1074b7372904205": {
     "model_module": "@jupyter-widgets/base",
     "model_module_version": "1.2.0",
     "model_name": "LayoutModel",
     "state": {
      "_model_module": "@jupyter-widgets/base",
      "_model_module_version": "1.2.0",
      "_model_name": "LayoutModel",
      "_view_count": null,
      "_view_module": "@jupyter-widgets/base",
      "_view_module_version": "1.2.0",
      "_view_name": "LayoutView",
      "align_content": null,
      "align_items": null,
      "align_self": null,
      "border": null,
      "bottom": null,
      "display": null,
      "flex": null,
      "flex_flow": null,
      "grid_area": null,
      "grid_auto_columns": null,
      "grid_auto_flow": null,
      "grid_auto_rows": null,
      "grid_column": null,
      "grid_gap": null,
      "grid_row": null,
      "grid_template_areas": null,
      "grid_template_columns": null,
      "grid_template_rows": null,
      "height": null,
      "justify_content": null,
      "justify_items": null,
      "left": null,
      "margin": null,
      "max_height": null,
      "max_width": null,
      "min_height": null,
      "min_width": null,
      "object_fit": null,
      "object_position": null,
      "order": null,
      "overflow": null,
      "overflow_x": null,
      "overflow_y": null,
      "padding": null,
      "right": null,
      "top": null,
      "visibility": null,
      "width": null
     }
    },
    "97b3b4eb095b4f1297ac14960b1b2e2e": {
     "model_module": "@jupyter-widgets/base",
     "model_module_version": "1.2.0",
     "model_name": "LayoutModel",
     "state": {
      "_model_module": "@jupyter-widgets/base",
      "_model_module_version": "1.2.0",
      "_model_name": "LayoutModel",
      "_view_count": null,
      "_view_module": "@jupyter-widgets/base",
      "_view_module_version": "1.2.0",
      "_view_name": "LayoutView",
      "align_content": null,
      "align_items": null,
      "align_self": null,
      "border": null,
      "bottom": null,
      "display": null,
      "flex": null,
      "flex_flow": null,
      "grid_area": null,
      "grid_auto_columns": null,
      "grid_auto_flow": null,
      "grid_auto_rows": null,
      "grid_column": null,
      "grid_gap": null,
      "grid_row": null,
      "grid_template_areas": null,
      "grid_template_columns": null,
      "grid_template_rows": null,
      "height": null,
      "justify_content": null,
      "justify_items": null,
      "left": null,
      "margin": null,
      "max_height": null,
      "max_width": null,
      "min_height": null,
      "min_width": null,
      "object_fit": null,
      "object_position": null,
      "order": null,
      "overflow": null,
      "overflow_x": null,
      "overflow_y": null,
      "padding": null,
      "right": null,
      "top": null,
      "visibility": null,
      "width": null
     }
    },
    "b73c235dd60942c7ae4b93bbe1236565": {
     "model_module": "@jupyter-widgets/base",
     "model_module_version": "1.2.0",
     "model_name": "LayoutModel",
     "state": {
      "_model_module": "@jupyter-widgets/base",
      "_model_module_version": "1.2.0",
      "_model_name": "LayoutModel",
      "_view_count": null,
      "_view_module": "@jupyter-widgets/base",
      "_view_module_version": "1.2.0",
      "_view_name": "LayoutView",
      "align_content": null,
      "align_items": null,
      "align_self": null,
      "border": null,
      "bottom": null,
      "display": null,
      "flex": null,
      "flex_flow": null,
      "grid_area": null,
      "grid_auto_columns": null,
      "grid_auto_flow": null,
      "grid_auto_rows": null,
      "grid_column": null,
      "grid_gap": null,
      "grid_row": null,
      "grid_template_areas": null,
      "grid_template_columns": null,
      "grid_template_rows": null,
      "height": null,
      "justify_content": null,
      "justify_items": null,
      "left": null,
      "margin": null,
      "max_height": null,
      "max_width": null,
      "min_height": null,
      "min_width": null,
      "object_fit": null,
      "object_position": null,
      "order": null,
      "overflow": null,
      "overflow_x": null,
      "overflow_y": null,
      "padding": null,
      "right": null,
      "top": null,
      "visibility": null,
      "width": null
     }
    },
    "be87fdc2c89c435d91e7d57bde8366e9": {
     "model_module": "@jupyter-widgets/controls",
     "model_module_version": "1.5.0",
     "model_name": "FloatProgressModel",
     "state": {
      "_dom_classes": [],
      "_model_module": "@jupyter-widgets/controls",
      "_model_module_version": "1.5.0",
      "_model_name": "FloatProgressModel",
      "_view_count": null,
      "_view_module": "@jupyter-widgets/controls",
      "_view_module_version": "1.5.0",
      "_view_name": "ProgressView",
      "bar_style": "",
      "description": "100%",
      "description_tooltip": null,
      "layout": "IPY_MODEL_1c73b91ca3f34784b729445ef4dd6cd8",
      "max": 938,
      "min": 0,
      "orientation": "horizontal",
      "style": "IPY_MODEL_519830c9472c4a06b5c4a79bf67f5b6d",
      "value": 938
     }
    },
    "c20bcd0a09364e888d453a5543c5956b": {
     "model_module": "@jupyter-widgets/controls",
     "model_module_version": "1.5.0",
     "model_name": "ProgressStyleModel",
     "state": {
      "_model_module": "@jupyter-widgets/controls",
      "_model_module_version": "1.5.0",
      "_model_name": "ProgressStyleModel",
      "_view_count": null,
      "_view_module": "@jupyter-widgets/base",
      "_view_module_version": "1.2.0",
      "_view_name": "StyleView",
      "bar_color": null,
      "description_width": "initial"
     }
    },
    "cbd79bdc104e43bda62afa0f6087ae83": {
     "model_module": "@jupyter-widgets/base",
     "model_module_version": "1.2.0",
     "model_name": "LayoutModel",
     "state": {
      "_model_module": "@jupyter-widgets/base",
      "_model_module_version": "1.2.0",
      "_model_name": "LayoutModel",
      "_view_count": null,
      "_view_module": "@jupyter-widgets/base",
      "_view_module_version": "1.2.0",
      "_view_name": "LayoutView",
      "align_content": null,
      "align_items": null,
      "align_self": null,
      "border": null,
      "bottom": null,
      "display": null,
      "flex": null,
      "flex_flow": null,
      "grid_area": null,
      "grid_auto_columns": null,
      "grid_auto_flow": null,
      "grid_auto_rows": null,
      "grid_column": null,
      "grid_gap": null,
      "grid_row": null,
      "grid_template_areas": null,
      "grid_template_columns": null,
      "grid_template_rows": null,
      "height": null,
      "justify_content": null,
      "justify_items": null,
      "left": null,
      "margin": null,
      "max_height": null,
      "max_width": null,
      "min_height": null,
      "min_width": null,
      "object_fit": null,
      "object_position": null,
      "order": null,
      "overflow": null,
      "overflow_x": null,
      "overflow_y": null,
      "padding": null,
      "right": null,
      "top": null,
      "visibility": null,
      "width": null
     }
    },
    "cd65e46296cc4dfaa389a66f9be7634f": {
     "model_module": "@jupyter-widgets/controls",
     "model_module_version": "1.5.0",
     "model_name": "HTMLModel",
     "state": {
      "_dom_classes": [],
      "_model_module": "@jupyter-widgets/controls",
      "_model_module_version": "1.5.0",
      "_model_name": "HTMLModel",
      "_view_count": null,
      "_view_module": "@jupyter-widgets/controls",
      "_view_module_version": "1.5.0",
      "_view_name": "HTMLView",
      "description": "",
      "description_tooltip": null,
      "layout": "IPY_MODEL_daa9e6e83252466aadb6e9e3f8cd15a1",
      "placeholder": "​",
      "style": "IPY_MODEL_e3862186bdc242f7bc5d6698cde7a86c",
      "value": " 157/157 [00:01&lt;00:00, 92.51it/s]"
     }
    },
    "cda244cb81f8429394916e66f6183281": {
     "model_module": "@jupyter-widgets/controls",
     "model_module_version": "1.5.0",
     "model_name": "ProgressStyleModel",
     "state": {
      "_model_module": "@jupyter-widgets/controls",
      "_model_module_version": "1.5.0",
      "_model_name": "ProgressStyleModel",
      "_view_count": null,
      "_view_module": "@jupyter-widgets/base",
      "_view_module_version": "1.2.0",
      "_view_name": "StyleView",
      "bar_color": null,
      "description_width": "initial"
     }
    },
    "ce172c55651b4d7e87f5e413f6b7524d": {
     "model_module": "@jupyter-widgets/controls",
     "model_module_version": "1.5.0",
     "model_name": "HTMLModel",
     "state": {
      "_dom_classes": [],
      "_model_module": "@jupyter-widgets/controls",
      "_model_module_version": "1.5.0",
      "_model_name": "HTMLModel",
      "_view_count": null,
      "_view_module": "@jupyter-widgets/controls",
      "_view_module_version": "1.5.0",
      "_view_name": "HTMLView",
      "description": "",
      "description_tooltip": null,
      "layout": "IPY_MODEL_d2d021e923ee49d5a0dd46f3b6983b2e",
      "placeholder": "​",
      "style": "IPY_MODEL_f9fe69dc395d4e74bc397166d75d19d2",
      "value": " 4/4 [00:39&lt;00:00,  9.78s/it]"
     }
    },
    "ce91101a5a914cf9a69eb2b202f7420b": {
     "model_module": "@jupyter-widgets/controls",
     "model_module_version": "1.5.0",
     "model_name": "FloatProgressModel",
     "state": {
      "_dom_classes": [],
      "_model_module": "@jupyter-widgets/controls",
      "_model_module_version": "1.5.0",
      "_model_name": "FloatProgressModel",
      "_view_count": null,
      "_view_module": "@jupyter-widgets/controls",
      "_view_module_version": "1.5.0",
      "_view_name": "ProgressView",
      "bar_style": "",
      "description": "100%",
      "description_tooltip": null,
      "layout": "IPY_MODEL_efb2ce8ae65c40d8a22dd790ca86b272",
      "max": 157,
      "min": 0,
      "orientation": "horizontal",
      "style": "IPY_MODEL_cda244cb81f8429394916e66f6183281",
      "value": 157
     }
    },
    "d2d021e923ee49d5a0dd46f3b6983b2e": {
     "model_module": "@jupyter-widgets/base",
     "model_module_version": "1.2.0",
     "model_name": "LayoutModel",
     "state": {
      "_model_module": "@jupyter-widgets/base",
      "_model_module_version": "1.2.0",
      "_model_name": "LayoutModel",
      "_view_count": null,
      "_view_module": "@jupyter-widgets/base",
      "_view_module_version": "1.2.0",
      "_view_name": "LayoutView",
      "align_content": null,
      "align_items": null,
      "align_self": null,
      "border": null,
      "bottom": null,
      "display": null,
      "flex": null,
      "flex_flow": null,
      "grid_area": null,
      "grid_auto_columns": null,
      "grid_auto_flow": null,
      "grid_auto_rows": null,
      "grid_column": null,
      "grid_gap": null,
      "grid_row": null,
      "grid_template_areas": null,
      "grid_template_columns": null,
      "grid_template_rows": null,
      "height": null,
      "justify_content": null,
      "justify_items": null,
      "left": null,
      "margin": null,
      "max_height": null,
      "max_width": null,
      "min_height": null,
      "min_width": null,
      "object_fit": null,
      "object_position": null,
      "order": null,
      "overflow": null,
      "overflow_x": null,
      "overflow_y": null,
      "padding": null,
      "right": null,
      "top": null,
      "visibility": null,
      "width": null
     }
    },
    "d59e8225a32040deb5fe0b9377ad71eb": {
     "model_module": "@jupyter-widgets/controls",
     "model_module_version": "1.5.0",
     "model_name": "ProgressStyleModel",
     "state": {
      "_model_module": "@jupyter-widgets/controls",
      "_model_module_version": "1.5.0",
      "_model_name": "ProgressStyleModel",
      "_view_count": null,
      "_view_module": "@jupyter-widgets/base",
      "_view_module_version": "1.2.0",
      "_view_name": "StyleView",
      "bar_color": null,
      "description_width": "initial"
     }
    },
    "daa9e6e83252466aadb6e9e3f8cd15a1": {
     "model_module": "@jupyter-widgets/base",
     "model_module_version": "1.2.0",
     "model_name": "LayoutModel",
     "state": {
      "_model_module": "@jupyter-widgets/base",
      "_model_module_version": "1.2.0",
      "_model_name": "LayoutModel",
      "_view_count": null,
      "_view_module": "@jupyter-widgets/base",
      "_view_module_version": "1.2.0",
      "_view_name": "LayoutView",
      "align_content": null,
      "align_items": null,
      "align_self": null,
      "border": null,
      "bottom": null,
      "display": null,
      "flex": null,
      "flex_flow": null,
      "grid_area": null,
      "grid_auto_columns": null,
      "grid_auto_flow": null,
      "grid_auto_rows": null,
      "grid_column": null,
      "grid_gap": null,
      "grid_row": null,
      "grid_template_areas": null,
      "grid_template_columns": null,
      "grid_template_rows": null,
      "height": null,
      "justify_content": null,
      "justify_items": null,
      "left": null,
      "margin": null,
      "max_height": null,
      "max_width": null,
      "min_height": null,
      "min_width": null,
      "object_fit": null,
      "object_position": null,
      "order": null,
      "overflow": null,
      "overflow_x": null,
      "overflow_y": null,
      "padding": null,
      "right": null,
      "top": null,
      "visibility": null,
      "width": null
     }
    },
    "e3862186bdc242f7bc5d6698cde7a86c": {
     "model_module": "@jupyter-widgets/controls",
     "model_module_version": "1.5.0",
     "model_name": "DescriptionStyleModel",
     "state": {
      "_model_module": "@jupyter-widgets/controls",
      "_model_module_version": "1.5.0",
      "_model_name": "DescriptionStyleModel",
      "_view_count": null,
      "_view_module": "@jupyter-widgets/base",
      "_view_module_version": "1.2.0",
      "_view_name": "StyleView",
      "description_width": ""
     }
    },
    "e5c64cdc24fa49f2b56a64c3949bc20e": {
     "model_module": "@jupyter-widgets/controls",
     "model_module_version": "1.5.0",
     "model_name": "HTMLModel",
     "state": {
      "_dom_classes": [],
      "_model_module": "@jupyter-widgets/controls",
      "_model_module_version": "1.5.0",
      "_model_name": "HTMLModel",
      "_view_count": null,
      "_view_module": "@jupyter-widgets/controls",
      "_view_module_version": "1.5.0",
      "_view_name": "HTMLView",
      "description": "",
      "description_tooltip": null,
      "layout": "IPY_MODEL_1c59a7da584c4ab4afd72ca5d3814dd5",
      "placeholder": "​",
      "style": "IPY_MODEL_870ad0e5feeb4b8dab15459ccdbcc2ce",
      "value": " 938/938 [00:09&lt;00:00, 97.75it/s]"
     }
    },
    "e63d71e887ef4c2594774d70a590d23c": {
     "model_module": "@jupyter-widgets/base",
     "model_module_version": "1.2.0",
     "model_name": "LayoutModel",
     "state": {
      "_model_module": "@jupyter-widgets/base",
      "_model_module_version": "1.2.0",
      "_model_name": "LayoutModel",
      "_view_count": null,
      "_view_module": "@jupyter-widgets/base",
      "_view_module_version": "1.2.0",
      "_view_name": "LayoutView",
      "align_content": null,
      "align_items": null,
      "align_self": null,
      "border": null,
      "bottom": null,
      "display": null,
      "flex": null,
      "flex_flow": null,
      "grid_area": null,
      "grid_auto_columns": null,
      "grid_auto_flow": null,
      "grid_auto_rows": null,
      "grid_column": null,
      "grid_gap": null,
      "grid_row": null,
      "grid_template_areas": null,
      "grid_template_columns": null,
      "grid_template_rows": null,
      "height": null,
      "justify_content": null,
      "justify_items": null,
      "left": null,
      "margin": null,
      "max_height": null,
      "max_width": null,
      "min_height": null,
      "min_width": null,
      "object_fit": null,
      "object_position": null,
      "order": null,
      "overflow": null,
      "overflow_x": null,
      "overflow_y": null,
      "padding": null,
      "right": null,
      "top": null,
      "visibility": null,
      "width": null
     }
    },
    "e812bfb32d5443228a135f5af3893f30": {
     "model_module": "@jupyter-widgets/base",
     "model_module_version": "1.2.0",
     "model_name": "LayoutModel",
     "state": {
      "_model_module": "@jupyter-widgets/base",
      "_model_module_version": "1.2.0",
      "_model_name": "LayoutModel",
      "_view_count": null,
      "_view_module": "@jupyter-widgets/base",
      "_view_module_version": "1.2.0",
      "_view_name": "LayoutView",
      "align_content": null,
      "align_items": null,
      "align_self": null,
      "border": null,
      "bottom": null,
      "display": null,
      "flex": null,
      "flex_flow": null,
      "grid_area": null,
      "grid_auto_columns": null,
      "grid_auto_flow": null,
      "grid_auto_rows": null,
      "grid_column": null,
      "grid_gap": null,
      "grid_row": null,
      "grid_template_areas": null,
      "grid_template_columns": null,
      "grid_template_rows": null,
      "height": null,
      "justify_content": null,
      "justify_items": null,
      "left": null,
      "margin": null,
      "max_height": null,
      "max_width": null,
      "min_height": null,
      "min_width": null,
      "object_fit": null,
      "object_position": null,
      "order": null,
      "overflow": null,
      "overflow_x": null,
      "overflow_y": null,
      "padding": null,
      "right": null,
      "top": null,
      "visibility": null,
      "width": null
     }
    },
    "ea47afa00fe64d3d853ac6d0412558c2": {
     "model_module": "@jupyter-widgets/controls",
     "model_module_version": "1.5.0",
     "model_name": "FloatProgressModel",
     "state": {
      "_dom_classes": [],
      "_model_module": "@jupyter-widgets/controls",
      "_model_module_version": "1.5.0",
      "_model_name": "FloatProgressModel",
      "_view_count": null,
      "_view_module": "@jupyter-widgets/controls",
      "_view_module_version": "1.5.0",
      "_view_name": "ProgressView",
      "bar_style": "",
      "description": "100%",
      "description_tooltip": null,
      "layout": "IPY_MODEL_38d0273afc5e4919b0b3070d8830afe2",
      "max": 938,
      "min": 0,
      "orientation": "horizontal",
      "style": "IPY_MODEL_1bcd7a432ab64968a60e5c359ebaaedf",
      "value": 938
     }
    },
    "efb2ce8ae65c40d8a22dd790ca86b272": {
     "model_module": "@jupyter-widgets/base",
     "model_module_version": "1.2.0",
     "model_name": "LayoutModel",
     "state": {
      "_model_module": "@jupyter-widgets/base",
      "_model_module_version": "1.2.0",
      "_model_name": "LayoutModel",
      "_view_count": null,
      "_view_module": "@jupyter-widgets/base",
      "_view_module_version": "1.2.0",
      "_view_name": "LayoutView",
      "align_content": null,
      "align_items": null,
      "align_self": null,
      "border": null,
      "bottom": null,
      "display": null,
      "flex": null,
      "flex_flow": null,
      "grid_area": null,
      "grid_auto_columns": null,
      "grid_auto_flow": null,
      "grid_auto_rows": null,
      "grid_column": null,
      "grid_gap": null,
      "grid_row": null,
      "grid_template_areas": null,
      "grid_template_columns": null,
      "grid_template_rows": null,
      "height": null,
      "justify_content": null,
      "justify_items": null,
      "left": null,
      "margin": null,
      "max_height": null,
      "max_width": null,
      "min_height": null,
      "min_width": null,
      "object_fit": null,
      "object_position": null,
      "order": null,
      "overflow": null,
      "overflow_x": null,
      "overflow_y": null,
      "padding": null,
      "right": null,
      "top": null,
      "visibility": null,
      "width": null
     }
    },
    "f108d3ec7a9d4bb1a6066b2f69476cf2": {
     "model_module": "@jupyter-widgets/base",
     "model_module_version": "1.2.0",
     "model_name": "LayoutModel",
     "state": {
      "_model_module": "@jupyter-widgets/base",
      "_model_module_version": "1.2.0",
      "_model_name": "LayoutModel",
      "_view_count": null,
      "_view_module": "@jupyter-widgets/base",
      "_view_module_version": "1.2.0",
      "_view_name": "LayoutView",
      "align_content": null,
      "align_items": null,
      "align_self": null,
      "border": null,
      "bottom": null,
      "display": null,
      "flex": null,
      "flex_flow": null,
      "grid_area": null,
      "grid_auto_columns": null,
      "grid_auto_flow": null,
      "grid_auto_rows": null,
      "grid_column": null,
      "grid_gap": null,
      "grid_row": null,
      "grid_template_areas": null,
      "grid_template_columns": null,
      "grid_template_rows": null,
      "height": null,
      "justify_content": null,
      "justify_items": null,
      "left": null,
      "margin": null,
      "max_height": null,
      "max_width": null,
      "min_height": null,
      "min_width": null,
      "object_fit": null,
      "object_position": null,
      "order": null,
      "overflow": null,
      "overflow_x": null,
      "overflow_y": null,
      "padding": null,
      "right": null,
      "top": null,
      "visibility": null,
      "width": null
     }
    },
    "f13f8feca9b5461d8751c5f4cac4d558": {
     "model_module": "@jupyter-widgets/controls",
     "model_module_version": "1.5.0",
     "model_name": "HBoxModel",
     "state": {
      "_dom_classes": [],
      "_model_module": "@jupyter-widgets/controls",
      "_model_module_version": "1.5.0",
      "_model_name": "HBoxModel",
      "_view_count": null,
      "_view_module": "@jupyter-widgets/controls",
      "_view_module_version": "1.5.0",
      "_view_name": "HBoxView",
      "box_style": "",
      "children": [
       "IPY_MODEL_ce91101a5a914cf9a69eb2b202f7420b",
       "IPY_MODEL_29113ad505544459a07701fb1c9e583b"
      ],
      "layout": "IPY_MODEL_97b3b4eb095b4f1297ac14960b1b2e2e"
     }
    },
    "f9fe69dc395d4e74bc397166d75d19d2": {
     "model_module": "@jupyter-widgets/controls",
     "model_module_version": "1.5.0",
     "model_name": "DescriptionStyleModel",
     "state": {
      "_model_module": "@jupyter-widgets/controls",
      "_model_module_version": "1.5.0",
      "_model_name": "DescriptionStyleModel",
      "_view_count": null,
      "_view_module": "@jupyter-widgets/base",
      "_view_module_version": "1.2.0",
      "_view_name": "StyleView",
      "description_width": ""
     }
    },
    "ffeb4c28b10c40e99d3c71427128e01c": {
     "model_module": "@jupyter-widgets/base",
     "model_module_version": "1.2.0",
     "model_name": "LayoutModel",
     "state": {
      "_model_module": "@jupyter-widgets/base",
      "_model_module_version": "1.2.0",
      "_model_name": "LayoutModel",
      "_view_count": null,
      "_view_module": "@jupyter-widgets/base",
      "_view_module_version": "1.2.0",
      "_view_name": "LayoutView",
      "align_content": null,
      "align_items": null,
      "align_self": null,
      "border": null,
      "bottom": null,
      "display": null,
      "flex": null,
      "flex_flow": null,
      "grid_area": null,
      "grid_auto_columns": null,
      "grid_auto_flow": null,
      "grid_auto_rows": null,
      "grid_column": null,
      "grid_gap": null,
      "grid_row": null,
      "grid_template_areas": null,
      "grid_template_columns": null,
      "grid_template_rows": null,
      "height": null,
      "justify_content": null,
      "justify_items": null,
      "left": null,
      "margin": null,
      "max_height": null,
      "max_width": null,
      "min_height": null,
      "min_width": null,
      "object_fit": null,
      "object_position": null,
      "order": null,
      "overflow": null,
      "overflow_x": null,
      "overflow_y": null,
      "padding": null,
      "right": null,
      "top": null,
      "visibility": null,
      "width": null
     }
    }
   }
  }
 },
 "nbformat": 4,
 "nbformat_minor": 1
}
