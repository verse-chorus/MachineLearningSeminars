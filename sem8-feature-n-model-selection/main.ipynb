{
 "cells": [
  {
   "cell_type": "markdown",
   "metadata": {
    "id": "A7fdPuWjil_y",
    "slideshow": {
     "slide_type": "slide"
    }
   },
   "source": [
    "# Критерии выбора моделей и методы отбора признаков"
   ]
  },
  {
   "cell_type": "code",
   "execution_count": 1,
   "metadata": {
    "id": "q70dGzWril_0",
    "slideshow": {
     "slide_type": "skip"
    }
   },
   "outputs": [],
   "source": [
    "import warnings\n",
    "warnings.filterwarnings(\"ignore\")"
   ]
  },
  {
   "cell_type": "markdown",
   "metadata": {
    "id": "s3qWY0M5LA6r",
    "slideshow": {
     "slide_type": "slide"
    }
   },
   "source": [
    "## Библиотеки"
   ]
  },
  {
   "cell_type": "code",
   "execution_count": 2,
   "metadata": {
    "id": "opbX7Dx8LA6s",
    "slideshow": {
     "slide_type": "subslide"
    }
   },
   "outputs": [],
   "source": [
    "import matplotlib.pyplot as plt\n",
    "from matplotlib.image import imread\n",
    "from mpl_toolkits import mplot3d\n",
    "from matplotlib import gridspec\n",
    "from mlxtend.plotting import plot_decision_regions\n",
    "import seaborn as sns\n",
    "import pandas as pd\n",
    "from tqdm.notebook import tqdm\n",
    "\n",
    "from scipy.special import softmax\n",
    "from scipy.spatial.distance import cdist\n",
    "import numpy as np\n",
    "import torch\n",
    "import itertools\n",
    "from sklearn.preprocessing import StandardScaler\n",
    "from sklearn.svm import SVC, SVR\n",
    "from sklearn.linear_model import LogisticRegression\n",
    "from sklearn.metrics import classification_report, roc_auc_score, roc_curve\n",
    "from sklearn.metrics import auc\n",
    "from sklearn.model_selection import KFold, ParameterGrid\n",
    "from sklearn.datasets import make_classification, load_boston\n",
    "from sklearn.model_selection import train_test_split\n",
    "\n",
    "from sklearn.decomposition import PCA\n",
    "from torchvision import datasets\n",
    "from torchvision import transforms"
   ]
  },
  {
   "cell_type": "markdown",
   "metadata": {
    "id": "9aXP0enLLA60",
    "slideshow": {
     "slide_type": "slide"
    }
   },
   "source": [
    "## Оценка качества моделей"
   ]
  },
  {
   "cell_type": "markdown",
   "metadata": {
    "id": "yZ3fMARHLA62",
    "slideshow": {
     "slide_type": "subslide"
    }
   },
   "source": [
    "При выборе модели машиного обучения\n",
    "$$\n",
    "f: \\mathbb{X} \\to \\mathbb{Y},\n",
    "$$\n",
    "модель выбирается согласно некоторого критерия $L$ (функции ошибки, минус логарифм правдоподобия и тд.). Обычно в качестве функции $L$ рассматривается некоторая функция ошибки модели $f$ на выборке $\\mathfrak{D}$:\n",
    "$$\n",
    "f = \\arg\\min_{f \\in \\mathfrak{F}} L\\bigr(f, \\mathfrak{D}\\bigr)\n",
    "$$\n",
    "\n",
    "В зависимости от вида функции $L$ разделяют два типа критериев:\n",
    "1. внутрений критерий качества;\n",
    "2. внешний критерий качества.\n",
    "\n",
    "Далее будем рассматривать два типа выборок:\n",
    "1. $\\mathfrak{D}$ это вся выборка, которая доступна для выбора модели;\n",
    "2. $\\mathfrak{D}'$ это выборка на которой проверяется качество уже выбраной модели.\n",
    "3. $\\mathfrak{D}^{l_k}_k$ это $k$-я подвыборка выборки $\\mathfrak{D}$ размера $l_k$."
   ]
  },
  {
   "cell_type": "code",
   "execution_count": 3,
   "metadata": {
    "colab": {
     "base_uri": "https://localhost:8080/",
     "height": 34
    },
    "id": "BY0UPpMaLA62",
    "outputId": "ab4c8cb4-4ef7-46b0-f57d-6a32640e61b7",
    "scrolled": true,
    "slideshow": {
     "slide_type": "subslide"
    }
   },
   "outputs": [
    {
     "data": {
      "text/plain": [
       "((206, 13), (206,), (300, 13), (300,))"
      ]
     },
     "execution_count": 3,
     "metadata": {},
     "output_type": "execute_result"
    }
   ],
   "source": [
    "data = load_boston()\n",
    "\n",
    "D_all = data['data'], data['target']\n",
    "np.random.seed(0)\n",
    "X_train, X_test, y_train, y_test = train_test_split(D_all[0], D_all[1], \n",
    "                                                    test_size=300)\n",
    "\n",
    "X_train.shape, y_train.shape, X_test.shape, y_test.shape"
   ]
  },
  {
   "cell_type": "markdown",
   "metadata": {
    "id": "oNr0jJkqLA66",
    "slideshow": {
     "slide_type": "subslide"
    }
   },
   "source": [
    "### Внутрений критерий:\n",
    "Простой пример для регрессии:\n",
    "$$\n",
    "f = \\arg\\min_{f\\in \\mathfrak{F}} \\sum_{\\left(x, y\\right) \\in \\mathfrak{D}}\\left(f(x) - y\\right)^2\n",
    "$$"
   ]
  },
  {
   "cell_type": "code",
   "execution_count": 4,
   "metadata": {
    "id": "R278LaE4LA68",
    "slideshow": {
     "slide_type": "skip"
    }
   },
   "outputs": [],
   "source": [
    "class Perceptron(torch.nn.Module):\n",
    "    def __init__(self, input_dim=13, num_layers=0, \n",
    "                 hidden_dim=10, output_dim=1, p=0.0, device='cpu'):\n",
    "        super(Perceptron, self).__init__()\n",
    "        \n",
    "        self.layers = torch.nn.Sequential()\n",
    "        \n",
    "        prev_size = input_dim\n",
    "        for i in range(num_layers):\n",
    "            self.layers.add_module('layer{}'.format(i), \n",
    "                                  torch.nn.Linear(prev_size, hidden_dim))\n",
    "            self.layers.add_module('relu{}'.format(i), torch.nn.ReLU())\n",
    "            self.layers.add_module('dropout{}'.format(i), torch.nn.Dropout(p=p))\n",
    "            prev_size = hidden_dim\n",
    "        \n",
    "        self.layers.add_module('classifier', \n",
    "                               torch.nn.Linear(prev_size, output_dim))  \n",
    "\n",
    "        self.device = device      \n",
    "        self.to(device)\n",
    "        \n",
    "    def forward(self, input):\n",
    "        return self.layers(input)"
   ]
  },
  {
   "cell_type": "code",
   "execution_count": 5,
   "metadata": {
    "colab": {
     "base_uri": "https://localhost:8080/",
     "height": 153
    },
    "id": "nEKnLJULLA6_",
    "outputId": "27aed96e-28d3-45fa-de2f-349c961c44b9",
    "slideshow": {
     "slide_type": "subslide"
    }
   },
   "outputs": [
    {
     "data": {
      "text/plain": [
       "Perceptron(\n",
       "  (layers): Sequential(\n",
       "    (layer0): Linear(in_features=13, out_features=20, bias=True)\n",
       "    (relu0): ReLU()\n",
       "    (dropout0): Dropout(p=0.0, inplace=False)\n",
       "    (classifier): Linear(in_features=20, out_features=1, bias=True)\n",
       "  )\n",
       ")"
      ]
     },
     "execution_count": 5,
     "metadata": {},
     "output_type": "execute_result"
    }
   ],
   "source": [
    "device = torch.device(\"cuda\" if torch.cuda.is_available() else \"cpu\")\n",
    "\n",
    "model = Perceptron(num_layers=1, \n",
    "                   hidden_dim=20,\n",
    "                   device=device)\n",
    "model"
   ]
  },
  {
   "cell_type": "code",
   "execution_count": 6,
   "metadata": {
    "id": "jqO5lbTZLU7n",
    "slideshow": {
     "slide_type": "subslide"
    }
   },
   "outputs": [],
   "source": [
    "X_train_pt = torch.from_numpy(X_train).float()\n",
    "X_test_pt = torch.from_numpy(X_test).float()\n",
    "\n",
    "y_train_pt = torch.from_numpy(y_train).float()\n",
    "y_test_pt = torch.from_numpy(y_test).float()\n",
    "\n",
    "train_dataset = torch.utils.data.TensorDataset(X_train_pt, y_train_pt)\n",
    "test_dataset = torch.utils.data.TensorDataset(X_test_pt, y_test_pt)"
   ]
  },
  {
   "cell_type": "code",
   "execution_count": 7,
   "metadata": {
    "id": "K-YR_DdvL_tL",
    "slideshow": {
     "slide_type": "subslide"
    }
   },
   "outputs": [],
   "source": [
    "def testing(model, dataset):\n",
    "    model.eval()\n",
    "    generator = torch.utils.data.DataLoader(dataset, \n",
    "                                            batch_size=64, pin_memory=True)\n",
    "\n",
    "    pred = []\n",
    "    real = []\n",
    "    for x, y in generator:\n",
    "        with torch.no_grad():\n",
    "            pred.extend(model(x).cpu().numpy().tolist())\n",
    "            real.extend(y.cpu().numpy().tolist())\n",
    "\n",
    "    return np.sqrt(np.mean((np.array(real) - np.array(pred))**2))"
   ]
  },
  {
   "cell_type": "code",
   "execution_count": 8,
   "metadata": {
    "colab": {
     "base_uri": "https://localhost:8080/",
     "height": 66,
     "referenced_widgets": [
      "e0cd1524296d41bd847d20ae6d5a5961",
      "ff57a11b709a42ec84800244a6912615",
      "ba2164be9dc34eae9e21d8698c0c5f5c",
      "bc6e3e5e3272405bb394faf2a67f4f61",
      "22b8cdf0af524703ba7b2c988fbe53c2",
      "b5aabb7e9d574e07b8bf80b8216510d1",
      "c6395411251d43fe839963b319343d98",
      "c3cb4644dc13453a8a55f6ba7b20abd7"
     ]
    },
    "id": "tzNNnhFnLA7D",
    "outputId": "34987e01-7310-4ff4-fb2d-69c7accaed2e",
    "slideshow": {
     "slide_type": "subslide"
    }
   },
   "outputs": [
    {
     "data": {
      "application/vnd.jupyter.widget-view+json": {
       "model_id": "3f2258e5164642779b4a2313ff5476ab",
       "version_major": 2,
       "version_minor": 0
      },
      "text/plain": [
       "HBox(children=(FloatProgress(value=0.0, max=1000.0), HTML(value='')))"
      ]
     },
     "metadata": {},
     "output_type": "display_data"
    },
    {
     "name": "stdout",
     "output_type": "stream",
     "text": [
      "\n"
     ]
    }
   ],
   "source": [
    "epochs = 1000\n",
    "\n",
    "optim = torch.optim.Adam(model.parameters(), lr=0.0001,)\n",
    "loss_function = torch.nn.MSELoss()\n",
    "\n",
    "list_of_train_error = [testing(model, train_dataset)]\n",
    "list_of_test_error = [testing(model, test_dataset)]\n",
    "\n",
    "iterator = tqdm(range(epochs))\n",
    "for epoch in iterator:\n",
    "    generator = torch.utils.data.DataLoader(train_dataset, shuffle=True,\n",
    "                                            batch_size=16, pin_memory=True)\n",
    "    \n",
    "    for batch_x, batch_y in generator:\n",
    "        optim.zero_grad()\n",
    "\n",
    "        model.train()\n",
    "        output = model(batch_x)\n",
    "        loss = loss_function(output, batch_y.to(device))\n",
    "\n",
    "        loss.backward()\n",
    "        optim.step()\n",
    "\n",
    "    list_of_train_error.append(testing(model, train_dataset))\n",
    "    list_of_test_error.append(testing(model, test_dataset))\n",
    "\n",
    "    iterator.set_postfix({'train': round(list_of_train_error[-1], 2), \n",
    "                          'test':round(list_of_test_error[-1], 2)})"
   ]
  },
  {
   "cell_type": "code",
   "execution_count": 9,
   "metadata": {
    "colab": {
     "base_uri": "https://localhost:8080/",
     "height": 265
    },
    "id": "Nc6aeR60LA7G",
    "outputId": "1ad1e765-49da-4009-ac9d-da17ffc558a5",
    "slideshow": {
     "slide_type": "subslide"
    }
   },
   "outputs": [
    {
     "data": {
      "image/png": "[encoded data removed]",
      "text/plain": [
       "<matplotlib.figure.Figure at 0x13133a438>"
      ]
     },
     "metadata": {
      "needs_background": "light"
     },
     "output_type": "display_data"
    }
   ],
   "source": [
    "plt.plot(list_of_train_error[10:], label='train')\n",
    "plt.plot(list_of_test_error[10:], label='test')\n",
    "\n",
    "plt.legend(loc='best')\n",
    "plt.grid()\n",
    "plt.show()"
   ]
  },
  {
   "cell_type": "markdown",
   "metadata": {
    "id": "6DLtJ0zXgoEa",
    "slideshow": {
     "slide_type": "subslide"
    }
   },
   "source": [
    "На самом деле выше должна была быть красивая картинка переобучения на реальных данных, но не вышло:( \n",
    "\n",
    "Поэтому вставлю синтетический пример с первого семинара."
   ]
  },
  {
   "cell_type": "code",
   "execution_count": 10,
   "metadata": {
    "id": "w0Pge0MigmOP",
    "slideshow": {
     "slide_type": "subslide"
    }
   },
   "outputs": [],
   "source": [
    "np.random.seed(0)\n",
    "l = 6\n",
    "n = 1\n",
    "w = np.random.randn(n)\n",
    "X_tr = np.random.randn(l, n)\n",
    "y_tr = X_tr@w + np.random.randn(l)\n",
    "\n",
    "X_vl = np.random.randn(l, n)\n",
    "y_vl = X_vl@w + np.random.randn(l)\n",
    "\n",
    "X_ts = np.random.randn(l, n)\n",
    "y_ts = X_ts@w + np.random.randn(l)"
   ]
  },
  {
   "cell_type": "code",
   "execution_count": 11,
   "metadata": {
    "id": "HOeu7eDqhB47",
    "slideshow": {
     "slide_type": "subslide"
    }
   },
   "outputs": [],
   "source": [
    "x_begin = -1.05\n",
    "x_end = 2.5\n",
    "X_polinom = np.hstack([X_tr**0, X_tr**1, X_tr**2, X_tr**3, X_tr**4, X_tr**5])\n",
    "w_polinom = np.linalg.inv(X_polinom.T@X_polinom)@X_polinom.T@y_tr\n",
    "y_polinom = list(map(lambda x: np.array([x**0, x**1, x**2, x**3, x**4, x**5])@w_polinom, \n",
    "                     np.linspace(x_begin, x_end)))\n"
   ]
  },
  {
   "cell_type": "code",
   "execution_count": 12,
   "metadata": {
    "colab": {
     "base_uri": "https://localhost:8080/",
     "height": 265
    },
    "id": "aIKnmBwIhCAa",
    "outputId": "9f30e9ab-75d9-45bc-aa68-2a9489e9e4ce",
    "slideshow": {
     "slide_type": "subslide"
    }
   },
   "outputs": [
    {
     "data": {
      "image/png": "[encoded data removed]",
      "text/plain": [
       "<matplotlib.figure.Figure at 0x13177a5c0>"
      ]
     },
     "metadata": {
      "needs_background": "light"
     },
     "output_type": "display_data"
    }
   ],
   "source": [
    "plt.plot(X_tr, y_tr, 'o', label = 'points train')\n",
    "plt.plot(X_ts, y_ts, 'o', label = 'points test')\n",
    "plt.plot(np.linspace(x_begin, x_end), w*np.linspace(x_begin, x_end), \n",
    "         '-', label = 'real')\n",
    "plt.plot(np.linspace(x_begin, x_end), y_polinom, '-', label = 'polinom')\n",
    "\n",
    "plt.legend(loc='best')\n",
    "plt.show()"
   ]
  },
  {
   "cell_type": "markdown",
   "metadata": {
    "id": "eo3s39cMiJOf",
    "slideshow": {
     "slide_type": "subslide"
    }
   },
   "source": [
    "Теперь рассмотрим зависимость качества на контроле от числа использованых признаков. Воспользуемся PCA и построем качество от числа главных компонент."
   ]
  },
  {
   "cell_type": "code",
   "execution_count": 13,
   "metadata": {
    "colab": {
     "base_uri": "https://localhost:8080/",
     "height": 66,
     "referenced_widgets": [
      "5279a52e361e4b368950c0c28c510d5d",
      "d0e83bda2ad043fda1f5bf64447fd409",
      "788d62fa73f748a1931a07d2e2cefde5",
      "1d6dd7ed39d04bc8818d76ed4d694125",
      "66b88e0577e84f90bc82ff94d3b6841f",
      "7dc4b2ed941e4dddbb47fedc91087976",
      "380a5c3018ea4e8e8009612f055528a9",
      "f5552b43d6b24e3e99ac6735fe0b4163"
     ]
    },
    "id": "EmY6YqiViJEe",
    "outputId": "e417295c-47a7-4d1b-c35b-45011dcb58a2",
    "slideshow": {
     "slide_type": "subslide"
    }
   },
   "outputs": [
    {
     "data": {
      "application/vnd.jupyter.widget-view+json": {
       "model_id": "e69bdbc55cfc47bea6ba2e59da829d3f",
       "version_major": 2,
       "version_minor": 0
      },
      "text/plain": [
       "HBox(children=(FloatProgress(value=0.0, max=12.0), HTML(value='')))"
      ]
     },
     "metadata": {},
     "output_type": "display_data"
    },
    {
     "name": "stdout",
     "output_type": "stream",
     "text": [
      "\n"
     ]
    }
   ],
   "source": [
    "ns = list(range(1, X_train.shape[1]))\n",
    "\n",
    "scores_train = []\n",
    "scores_test = []\n",
    "for n in tqdm(ns):\n",
    "    pca = PCA(n)\n",
    "    X_train_low = pca.fit_transform(X_train)\n",
    "    X_test_low = pca.transform(X_test)\n",
    "\n",
    "    w = np.linalg.inv(X_train_low.T@X_train_low)@X_train_low.T@y_train\n",
    "\n",
    "    scores_train.append(np.mean((X_train_low@w - y_train)**2))\n",
    "    scores_test.append(np.mean((X_test_low@w - y_test)**2))\n"
   ]
  },
  {
   "cell_type": "code",
   "execution_count": 14,
   "metadata": {
    "colab": {
     "base_uri": "https://localhost:8080/",
     "height": 265
    },
    "id": "9q0f1cpqieSN",
    "outputId": "d76c16a1-b62f-4eb3-949c-c9438f9923f0",
    "slideshow": {
     "slide_type": "subslide"
    }
   },
   "outputs": [
    {
     "data": {
      "image/png": "[encoded data removed]",
      "text/plain": [
       "<matplotlib.figure.Figure at 0x131796780>"
      ]
     },
     "metadata": {
      "needs_background": "light"
     },
     "output_type": "display_data"
    }
   ],
   "source": [
    "plt.plot(ns, scores_train, label='train')\n",
    "plt.plot(ns, scores_test, label='test')\n",
    "\n",
    "plt.legend(loc='best')\n",
    "plt.grid()\n",
    "plt.show()"
   ]
  },
  {
   "cell_type": "markdown",
   "metadata": {
    "id": "RCZp6nM0hMZK",
    "slideshow": {
     "slide_type": "subslide"
    }
   },
   "source": [
    "### Внешний критерий:\n",
    "1. Разделить выборку $\\mathfrak{D}$ на две подвыборки\n",
    "2. Leave One Out\n",
    "3. Скользящий контроль\n",
    "4. Бутсреп\n",
    "5. Регуляризация\n",
    "6. Критерий Акаике\n",
    "7. BIC\n"
   ]
  },
  {
   "cell_type": "markdown",
   "metadata": {
    "id": "sId7hcg9mndR",
    "slideshow": {
     "slide_type": "slide"
    }
   },
   "source": [
    "## Отбор признаков"
   ]
  },
  {
   "cell_type": "markdown",
   "metadata": {
    "id": "6Pn6raB1mp54",
    "slideshow": {
     "slide_type": "subslide"
    }
   },
   "source": [
    "Используется два основных подхода\n",
    "1. Генерация признаков.\n",
    "2. Отбор существующих признаков."
   ]
  },
  {
   "cell_type": "markdown",
   "metadata": {
    "id": "nWK_Q_u8m63I",
    "slideshow": {
     "slide_type": "subslide"
    }
   },
   "source": [
    "### Генерация признаков\n",
    "1. Построение статистик на основе уже существующих признаков и тд.\n",
    "2. Выше мы использовали PCA, что тоже генерит новые признаки.\n",
    "3. Нейросеть кроме последнего слоя, также можно рассматривать как метод генерации нового признаково пространства (к примеру прошлое домашнее задание)"
   ]
  },
  {
   "cell_type": "markdown",
   "metadata": {
    "id": "cGaFftYTnaC0",
    "slideshow": {
     "slide_type": "subslide"
    }
   },
   "source": [
    "### Отбор существующих признаков"
   ]
  },
  {
   "cell_type": "markdown",
   "metadata": {
    "id": "wSiv7A3FpNOo",
    "slideshow": {
     "slide_type": "subslide"
    }
   },
   "source": [
    "#### Полный перебор\n",
    "\n",
    "В данном случае берем множество всех подмножеств признакового описания."
   ]
  },
  {
   "cell_type": "code",
   "execution_count": 15,
   "metadata": {
    "colab": {
     "base_uri": "https://localhost:8080/",
     "height": 66,
     "referenced_widgets": [
      "e2f07fb705514fd29fada4f9c848273e",
      "4527585b3d3949e0bafa7d7101569ee3",
      "edadae79a1fc4a488a8fa06bf439180e",
      "7bf9498047004c198fa1c7bb73a939d8",
      "95f844bfd2be49c1a79e61c60eebc9cd",
      "5507a33e5fd94b87b39223e12c0bd513",
      "2f273853481c47a4a7a871dcf502396b",
      "c3600db62ee74bc5bb7897434a36fcaf"
     ]
    },
    "id": "g35iwCHtpww9",
    "outputId": "a1b9ce45-e905-4bf0-aab6-f4964c8173a4",
    "slideshow": {
     "slide_type": "subslide"
    }
   },
   "outputs": [
    {
     "data": {
      "application/vnd.jupyter.widget-view+json": {
       "model_id": "0bbce4e8839c4475a5230666e335b24a",
       "version_major": 2,
       "version_minor": 0
      },
      "text/plain": [
       "HBox(children=(FloatProgress(value=0.0, max=8192.0), HTML(value='')))"
      ]
     },
     "metadata": {},
     "output_type": "display_data"
    },
    {
     "name": "stdout",
     "output_type": "stream",
     "text": [
      "\n"
     ]
    }
   ],
   "source": [
    "indexes = list(itertools.product([0, 1], repeat=13))\n",
    "\n",
    "scores_train = dict()\n",
    "scores_test = dict()\n",
    "for i, ind in enumerate(tqdm(indexes)):\n",
    "    ind = np.array(ind, dtype=bool)\n",
    "\n",
    "    X_train_low = X_train[:, ind]\n",
    "    X_test_low = X_test[:, ind]\n",
    "\n",
    "    w = np.linalg.inv(X_train_low.T@X_train_low)@X_train_low.T@y_train\n",
    "\n",
    "    scores_train[i] = np.mean((X_train_low@w - y_train)**2)\n",
    "    scores_test[i] = np.mean((X_test_low@w - y_test)**2)\n",
    "    "
   ]
  },
  {
   "cell_type": "code",
   "execution_count": 16,
   "metadata": {
    "id": "tq-_Fi_UweoS",
    "slideshow": {
     "slide_type": "subslide"
    }
   },
   "outputs": [],
   "source": [
    "best_train = sorted(scores_train, key=lambda x: scores_train[x])[0]\n",
    "best_test = sorted(scores_test, key=lambda x: scores_test[x])[0]"
   ]
  },
  {
   "cell_type": "code",
   "execution_count": 17,
   "metadata": {
    "colab": {
     "base_uri": "https://localhost:8080/",
     "height": 119
    },
    "id": "bKhaYdS_rWkU",
    "outputId": "d1454a7d-73f9-47f9-f253-f269e3c27484",
    "slideshow": {
     "slide_type": "subslide"
    }
   },
   "outputs": [
    {
     "name": "stdout",
     "output_type": "stream",
     "text": [
      "best for train\n",
      "(1, 1, 1, 1, 1, 1, 1, 1, 1, 1, 1, 1, 1)\n",
      "['CRIM', 'ZN', 'INDUS', 'CHAS', 'NOX', 'RM', 'AGE', 'DIS', 'RAD', 'TAX', 'PTRATIO', 'B', 'LSTAT']\n",
      "best for test\n",
      "(0, 1, 0, 0, 0, 1, 0, 1, 1, 1, 1, 1, 1)\n",
      "['ZN', 'RM', 'DIS', 'RAD', 'TAX', 'PTRATIO', 'B', 'LSTAT']\n"
     ]
    }
   ],
   "source": [
    "print('best for train')\n",
    "print(indexes[best_train])\n",
    "print(data['feature_names'][np.array(indexes[best_train], dtype=bool)].tolist())\n",
    "\n",
    "print('best for test')\n",
    "print(indexes[best_test])\n",
    "print(data['feature_names'][np.array(indexes[best_test], dtype=bool)].tolist())"
   ]
  },
  {
   "cell_type": "code",
   "execution_count": 18,
   "metadata": {
    "colab": {
     "base_uri": "https://localhost:8080/",
     "height": 527
    },
    "id": "vSHy39nPrta3",
    "outputId": "ab25d1c8-41ea-4eec-e77e-22a5234b9ca3",
    "slideshow": {
     "slide_type": "subslide"
    }
   },
   "outputs": [
    {
     "name": "stdout",
     "output_type": "stream",
     "text": [
      "---------------------------\n",
      "\n",
      "**Data Set Characteristics:**  \n",
      "\n",
      "    :Number of Instances: 506 \n",
      "\n",
      "    :Number of Attributes: 13 numeric/categorical predictive. Median Value (attribute 14) is usually the target.\n",
      "\n",
      "    :Attribute Information (in order):\n",
      "        - CRIM     per capita crime rate by town\n",
      "        - ZN       proportion of residential land zoned for lots over 25,000 sq.ft.\n",
      "        - INDUS    proportion of non-retail business acres per town\n",
      "        - CHAS     Charles River dummy variable (= 1 if tract bounds river; 0 otherwise)\n",
      "        - NOX      nitric oxides concentration (parts per 10 million)\n",
      "        - RM       average number of rooms per dwelling\n",
      "        - AGE      proportion of owner-occupied units built prior to 1940\n",
      "        - DIS      weighted distances to five Boston employment centres\n",
      "        - RAD      index of accessibility to radial highways\n",
      "        - TAX      full-value property-tax rate per $10,000\n",
      "        - PTRATIO  pupil-teacher ratio by town\n",
      "        - B        1000(Bk - 0.63)^2 where Bk is the proportion of blacks by town\n",
      "        - LSTAT    % lower status of the population\n",
      "        - MEDV     Median value of owner-occupied homes in $1000's\n",
      "\n"
     ]
    }
   ],
   "source": [
    "print(data['DESCR'][49:1227])"
   ]
  },
  {
   "cell_type": "code",
   "execution_count": 19,
   "metadata": {
    "id": "CwhwTuBN815I",
    "slideshow": {
     "slide_type": "subslide"
    }
   },
   "outputs": [],
   "source": [
    "scores = []\n",
    "\n",
    "for i, ind in enumerate(indexes):\n",
    "    scores.append((sum(ind), scores_train[i]))\n",
    "\n",
    "scores = np.array(scores)\n"
   ]
  },
  {
   "cell_type": "code",
   "execution_count": 20,
   "metadata": {
    "colab": {
     "base_uri": "https://localhost:8080/",
     "height": 320
    },
    "id": "r0HXM3HF_TrO",
    "outputId": "dcf31f0a-ad58-4980-b5fd-5d06d79895f8",
    "slideshow": {
     "slide_type": "subslide"
    }
   },
   "outputs": [
    {
     "data": {
      "image/png": "[encoded data removed]",
      "text/plain": [
       "<matplotlib.figure.Figure at 0x13136f320>"
      ]
     },
     "metadata": {
      "needs_background": "light"
     },
     "output_type": "display_data"
    }
   ],
   "source": [
    "fig = plt.figure(figsize=(15, 5))\n",
    "scores = np.zeros([len(indexes), 2])\n",
    "for i, ind in enumerate(indexes):\n",
    "    scores[i] = [sum(ind), scores_train[i]]\n",
    "plt.plot(scores[:, 0], scores[:, 1], 'ob')\n",
    "plt.axhline(y=np.min(scores[:, 1]), color='b', linestyle='-', label = 'train')\n",
    "\n",
    "for i, ind in enumerate(indexes):\n",
    "    scores[i] = [sum(ind), scores_test[i]]\n",
    "plt.plot(scores[:, 0], scores[:, 1], '.g')\n",
    "plt.axhline(y=np.min(scores[:, 1]), color='g', linestyle='-', label = 'test')\n",
    "\n",
    "plt.legend(loc='best'), plt.ylim((20, 150))\n",
    "plt.show()"
   ]
  },
  {
   "cell_type": "markdown",
   "metadata": {
    "id": "aea-di438yFf",
    "slideshow": {
     "slide_type": "subslide"
    }
   },
   "source": [
    "#### Жадный алгоритм: add\n",
    "\n",
    "Жадно добавляем один признак, который дает максимальный прирост качества."
   ]
  },
  {
   "cell_type": "code",
   "execution_count": 21,
   "metadata": {
    "id": "AtrLFwGCD7Se",
    "slideshow": {
     "slide_type": "subslide"
    }
   },
   "outputs": [],
   "source": [
    "np.random.seed(0)\n",
    "X_val_train, X_val_test, y_val_train, y_val_test = train_test_split(\n",
    "    X_train, y_train, test_size=50)\n"
   ]
  },
  {
   "cell_type": "code",
   "execution_count": 22,
   "metadata": {
    "id": "ldRQTHsC7xpL",
    "slideshow": {
     "slide_type": "subslide"
    }
   },
   "outputs": [],
   "source": [
    "J_star, J, current, k_star, d = [], set(), 99999999999, 0, 1\n",
    "for k in range(X_val_train.shape[1]):\n",
    "    scores_val_test = dict()\n",
    "    for j in list(set(range(X_val_train.shape[1])) - J):\n",
    "        ind = [ i in (J | {j}) for i in range(X_val_train.shape[1])]\n",
    "        X_val_train_val = X_val_train[:, ind]\n",
    "        X_val_test_val = X_val_test[:, ind]\n",
    "        w = np.linalg.inv(\n",
    "            X_val_train_val.T@X_val_train_val)@X_val_train_val.T@y_val_train\n",
    "        scores_val_test[j] = np.mean((X_val_test_val@w - y_val_test)**2)\n",
    "\n",
    "    best = sorted(scores_val_test, key=lambda x: scores_val_test[x])[0]\n",
    "\n",
    "    J.add(best)\n",
    "    \n",
    "    if scores_val_test[best] < current:\n",
    "        current = scores_val_test[best]\n",
    "        k_star = k\n",
    "        J_star = set(J)\n",
    "    if k - k_star > d:\n",
    "        break\n",
    "ind = np.array([ i in J_star for i in range(X_val_train.shape[1])])"
   ]
  },
  {
   "cell_type": "code",
   "execution_count": 23,
   "metadata": {
    "colab": {
     "base_uri": "https://localhost:8080/",
     "height": 170
    },
    "id": "WkkyzhKLIBDR",
    "outputId": "9b020881-8334-46ec-d395-9d6c994349fd",
    "slideshow": {
     "slide_type": "subslide"
    }
   },
   "outputs": [
    {
     "name": "stdout",
     "output_type": "stream",
     "text": [
      "best for train\n",
      "[1 1 1 1 1 1 1 1 1 1 1 1 1]\n",
      "['CRIM', 'ZN', 'INDUS', 'CHAS', 'NOX', 'RM', 'AGE', 'DIS', 'RAD', 'TAX', 'PTRATIO', 'B', 'LSTAT']\n",
      "best for validation\n",
      "[1 0 1 1 0 1 1 1 0 1 1 0 0]\n",
      "['CRIM', 'INDUS', 'CHAS', 'RM', 'AGE', 'DIS', 'TAX', 'PTRATIO']\n",
      "best for test\n",
      "[0 1 0 0 0 1 0 1 1 1 1 1 1]\n",
      "['ZN', 'RM', 'DIS', 'RAD', 'TAX', 'PTRATIO', 'B', 'LSTAT']\n"
     ]
    }
   ],
   "source": [
    "print('best for train')\n",
    "print(np.array(indexes[best_train], dtype=int))\n",
    "print(data['feature_names'][np.array(indexes[best_train], dtype=bool)].tolist())\n",
    "\n",
    "print('best for validation')\n",
    "print(np.array(ind, dtype=int))\n",
    "print(data['feature_names'][np.array(ind, dtype=bool)].tolist())\n",
    "\n",
    "print('best for test')\n",
    "print(np.array(indexes[best_test], dtype=int))\n",
    "print(data['feature_names'][np.array(indexes[best_test], dtype=bool)].tolist())"
   ]
  },
  {
   "cell_type": "markdown",
   "metadata": {
    "id": "9tRES5uHJTzc",
    "slideshow": {
     "slide_type": "subslide"
    }
   },
   "source": [
    "#### Жадный алгоритм: add-del\n",
    "\n",
    "Реализовать в качестве домашнего задания"
   ]
  },
  {
   "cell_type": "markdown",
   "metadata": {
    "id": "macD4yLmJ0iu",
    "slideshow": {
     "slide_type": "slide"
    }
   },
   "source": [
    "## Оценка качества классификации"
   ]
  },
  {
   "cell_type": "markdown",
   "metadata": {
    "id": "jDsM4Zu3J5Yb",
    "slideshow": {
     "slide_type": "subslide"
    }
   },
   "source": [
    "Основные функции для оценки качества классификации:\n",
    "1. Accuracy (доля верных ответов)\n",
    "2. Precision (доля релевантных среди всех найденных)\n",
    "3. Recall (доля найденных среди релевантных)"
   ]
  },
  {
   "cell_type": "markdown",
   "metadata": {
    "slideshow": {
     "slide_type": "subslide"
    }
   },
   "source": [
    "### Задача 1:\n",
    "Простая задача бинарной классификации. Прототип алгоритма:\n",
    "\n",
    "Вход: признаковое описание объекта.\n",
    "\n",
    "Выход: вероятность класса $1$. (и соответсвенно класс объекта на основе treshold)\n",
    "\n",
    "Метрики качества:\n",
    "$$\n",
    "ACC = \\frac{TP + TN}{TP + TN + FP + FN}\n",
    "$$\n",
    "\n",
    "$$\n",
    "PRECISION = \\frac{TP}{TP + FP}\n",
    "$$\n",
    "\n",
    "$$\n",
    "RECALL = \\frac{TP}{TP + FN}\n",
    "$$"
   ]
  },
  {
   "cell_type": "code",
   "execution_count": 24,
   "metadata": {
    "slideshow": {
     "slide_type": "subslide"
    }
   },
   "outputs": [],
   "source": [
    "X, Y = make_classification(n_samples=400, n_features=2, \n",
    "                           n_informative=2, n_classes=2, \n",
    "                           n_redundant=0,\n",
    "                           n_clusters_per_class=1,\n",
    "                           random_state=0)\n",
    "\n",
    "X_train, X_test, Y_train, Y_test = train_test_split(X, Y, \n",
    "                                                    test_size=100, \n",
    "                                                    random_state=0)\n",
    "X_train_val, X_test_val, Y_train_val, Y_test_val = train_test_split(\n",
    "    X_train, Y_train, test_size=100, random_state=0)"
   ]
  },
  {
   "cell_type": "code",
   "execution_count": 25,
   "metadata": {
    "slideshow": {
     "slide_type": "subslide"
    }
   },
   "outputs": [],
   "source": [
    "model = SVC(probability=True)\n",
    "_ = model.fit(X_train_val, Y_train_val)\n",
    "\n",
    "fpr, tpr, thresholds = roc_curve(\n",
    "    Y_test_val, model.predict_proba(X_test_val)[:,1], pos_label=1)"
   ]
  },
  {
   "cell_type": "code",
   "execution_count": 26,
   "metadata": {
    "slideshow": {
     "slide_type": "subslide"
    }
   },
   "outputs": [
    {
     "data": {
      "image/png": "[encoded data removed]",
      "text/plain": [
       "<matplotlib.figure.Figure at 0x13133a668>"
      ]
     },
     "metadata": {
      "needs_background": "light"
     },
     "output_type": "display_data"
    }
   ],
   "source": [
    "plt.plot(fpr, tpr, color='darkorange',\n",
    "         lw=2, label='ROC curve (area = {})'.format(round(auc(fpr, tpr), 2)))\n",
    "plt.plot([0, 1], [0, 1], color='navy', lw=2, linestyle='--')\n",
    "plt.xlim([0.0, 1.0])\n",
    "plt.ylim([0.0, 1.05])\n",
    "plt.xlabel('False Positive Rate')\n",
    "plt.ylabel('True Positive Rate')\n",
    "plt.legend(loc=\"lower right\")\n",
    "plt.show()"
   ]
  },
  {
   "cell_type": "code",
   "execution_count": 27,
   "metadata": {
    "slideshow": {
     "slide_type": "subslide"
    }
   },
   "outputs": [
    {
     "data": {
      "image/png": "[encoded data removed]",
      "text/plain": [
       "<matplotlib.figure.Figure at 0x13185b898>"
      ]
     },
     "metadata": {
      "needs_background": "light"
     },
     "output_type": "display_data"
    }
   ],
   "source": [
    "plt.plot(thresholds, tpr, lw = 2, label = 'tpr')\n",
    "plt.plot(thresholds, 1-fpr, lw = 2, label = '1-fpr')\n",
    "\n",
    "threshold = thresholds[np.argmin((tpr - 1 + fpr)**2)]\n",
    "plt.axvline(x=threshold, \n",
    "            ls='--', c='black',\n",
    "            label='best threshold {}'.format(round(threshold, 2)))\n",
    "plt.xlabel('threshold')\n",
    "plt.legend(loc=\"lower right\")\n",
    "plt.show()"
   ]
  },
  {
   "cell_type": "code",
   "execution_count": 28,
   "metadata": {
    "slideshow": {
     "slide_type": "subslide"
    }
   },
   "outputs": [
    {
     "name": "stdout",
     "output_type": "stream",
     "text": [
      "              precision    recall  f1-score   support\n",
      "\n",
      "           0       0.78      0.93      0.85        45\n",
      "           1       0.93      0.78      0.85        55\n",
      "\n",
      "    accuracy                           0.85       100\n",
      "   macro avg       0.86      0.86      0.85       100\n",
      "weighted avg       0.86      0.85      0.85       100\n",
      "\n"
     ]
    }
   ],
   "source": [
    "print(\n",
    "    classification_report(\n",
    "        Y_test, model.predict_proba(X_test)[:, 1] > 0.5))"
   ]
  },
  {
   "cell_type": "code",
   "execution_count": 29,
   "metadata": {
    "slideshow": {
     "slide_type": "subslide"
    }
   },
   "outputs": [
    {
     "name": "stdout",
     "output_type": "stream",
     "text": [
      "              precision    recall  f1-score   support\n",
      "\n",
      "           0       0.77      0.91      0.84        45\n",
      "           1       0.91      0.78      0.84        55\n",
      "\n",
      "    accuracy                           0.84       100\n",
      "   macro avg       0.84      0.85      0.84       100\n",
      "weighted avg       0.85      0.84      0.84       100\n",
      "\n"
     ]
    }
   ],
   "source": [
    "print(\n",
    "    classification_report(\n",
    "        Y_test, model.predict_proba(X_test)[:, 1] > threshold))"
   ]
  },
  {
   "cell_type": "markdown",
   "metadata": {
    "id": "ZgfbVnofLDYl",
    "slideshow": {
     "slide_type": "subslide"
    }
   },
   "source": [
    "### Задача 2:\n",
    "Рассматрим задачу поиска ошибок в тексте. В качестве найденной ошибки выступает фрагмент, который состоит из пары чисел: начало и конец подстроки с ошибкой. Прототип алгоритма очень простой:\n",
    "\n",
    "Вход: текст.\n",
    "\n",
    "Выход: список фрагментов, в которых найдена ошибка.\n",
    "\n",
    "Требуется предложить внешний критерий качества для оценки качества алгоритма. Доступны документы с размеченными фрагментами, а также доступна разметка алгоритма."
   ]
  },
  {
   "cell_type": "markdown",
   "metadata": {
    "id": "XXkErAX4NA2A",
    "slideshow": {
     "slide_type": "subslide"
    }
   },
   "source": [
    "В задаче поиска документов используют следующие метрики Precision и Recall:\n",
    "$$\n",
    "\\text{Precision} = \\frac{\\left|\\{\\text{релевантные документы}\\} \\cap \\{\\text{найденные документы}\\}\\right|}{\\left|\\{\\text{найденные документы}\\}\\right|}\n",
    "$$\n",
    "\n",
    "$$\n",
    "\\text{Recall} = \\frac{\\left|\\{\\text{релевантные документы}\\} \\cap \\{\\text{найденные документы}\\}\\right|}{\\left|\\{\\text{релевантные документы}\\}\\right|}\n",
    "$$\n",
    "\n",
    "\n",
    "Задания домой: на основе вышеуказаных метрик выписать как Вы би считали метрику для предыдущей задачи.\n"
   ]
  },
  {
   "cell_type": "markdown",
   "metadata": {
    "id": "6n2KW5U6LA7G",
    "slideshow": {
     "slide_type": "slide"
    }
   },
   "source": [
    "## Как правильно составлять выборки"
   ]
  },
  {
   "cell_type": "markdown",
   "metadata": {
    "id": "VaiH2-luODm0",
    "slideshow": {
     "slide_type": "subslide"
    }
   },
   "source": [
    "Большая часть времени занимает построение выборки, которую уже потом требуется аппроксимировать. Правильное составление выборки позволяет решить много проблем в дальнейшем.\n",
    "\n",
    "Простые правила как правильно составить выборку:\n",
    "1. Сразу определиться с объектом исследования и целевой переменной.\n",
    "    * физичиский смысл признаков играет большую роль, так как именно они позволяют интерпретировать результаты модели, поэтому обязательно информацию о физическом смысле каждого признака требется сохранить.\n",
    "    * если рассматривается задача классификации, то требуется зафиксировать классы, описать эти классы, построить биекцию между классами и их названием физическим описанием.\n",
    "2. Выполнить разделение выборки на обучение и контроль заранее, убедившись, что они не пересекаются\n",
    "    * проверить что выборки статистически не различаються.\n",
    "    * для задачи классификации проверить, что баланс классов в обучении и контроле совпадает."
   ]
  }
 ],
 "metadata": {
  "accelerator": "GPU",
  "celltoolbar": "Slideshow",
  "colab": {
   "collapsed_sections": [],
   "name": "main.ipynb",
   "provenance": []
  },
  "kernelspec": {
   "display_name": "Python 3",
   "language": "python",
   "name": "python3"
  },
  "language_info": {
   "codemirror_mode": {
    "name": "ipython",
    "version": 3
   },
   "file_extension": ".py",
   "mimetype": "text/x-python",
   "name": "python",
   "nbconvert_exporter": "python",
   "pygments_lexer": "ipython3",
   "version": "3.6.2"
  },
  "widgets": {
   "application/vnd.jupyter.widget-state+json": {
    "1d6dd7ed39d04bc8818d76ed4d694125": {
     "model_module": "@jupyter-widgets/controls",
     "model_name": "HTMLModel",
     "state": {
      "_dom_classes": [],
      "_model_module": "@jupyter-widgets/controls",
      "_model_module_version": "1.5.0",
      "_model_name": "HTMLModel",
      "_view_count": null,
      "_view_module": "@jupyter-widgets/controls",
      "_view_module_version": "1.5.0",
      "_view_name": "HTMLView",
      "description": "",
      "description_tooltip": null,
      "layout": "IPY_MODEL_f5552b43d6b24e3e99ac6735fe0b4163",
      "placeholder": "​",
      "style": "IPY_MODEL_380a5c3018ea4e8e8009612f055528a9",
      "value": " 12/12 [00:00&lt;00:00, 173.81it/s]"
     }
    },
    "22b8cdf0af524703ba7b2c988fbe53c2": {
     "model_module": "@jupyter-widgets/controls",
     "model_name": "ProgressStyleModel",
     "state": {
      "_model_module": "@jupyter-widgets/controls",
      "_model_module_version": "1.5.0",
      "_model_name": "ProgressStyleModel",
      "_view_count": null,
      "_view_module": "@jupyter-widgets/base",
      "_view_module_version": "1.2.0",
      "_view_name": "StyleView",
      "bar_color": null,
      "description_width": "initial"
     }
    },
    "2f273853481c47a4a7a871dcf502396b": {
     "model_module": "@jupyter-widgets/controls",
     "model_name": "DescriptionStyleModel",
     "state": {
      "_model_module": "@jupyter-widgets/controls",
      "_model_module_version": "1.5.0",
      "_model_name": "DescriptionStyleModel",
      "_view_count": null,
      "_view_module": "@jupyter-widgets/base",
      "_view_module_version": "1.2.0",
      "_view_name": "StyleView",
      "description_width": ""
     }
    },
    "380a5c3018ea4e8e8009612f055528a9": {
     "model_module": "@jupyter-widgets/controls",
     "model_name": "DescriptionStyleModel",
     "state": {
      "_model_module": "@jupyter-widgets/controls",
      "_model_module_version": "1.5.0",
      "_model_name": "DescriptionStyleModel",
      "_view_count": null,
      "_view_module": "@jupyter-widgets/base",
      "_view_module_version": "1.2.0",
      "_view_name": "StyleView",
      "description_width": ""
     }
    },
    "4527585b3d3949e0bafa7d7101569ee3": {
     "model_module": "@jupyter-widgets/base",
     "model_name": "LayoutModel",
     "state": {
      "_model_module": "@jupyter-widgets/base",
      "_model_module_version": "1.2.0",
      "_model_name": "LayoutModel",
      "_view_count": null,
      "_view_module": "@jupyter-widgets/base",
      "_view_module_version": "1.2.0",
      "_view_name": "LayoutView",
      "align_content": null,
      "align_items": null,
      "align_self": null,
      "border": null,
      "bottom": null,
      "display": null,
      "flex": null,
      "flex_flow": null,
      "grid_area": null,
      "grid_auto_columns": null,
      "grid_auto_flow": null,
      "grid_auto_rows": null,
      "grid_column": null,
      "grid_gap": null,
      "grid_row": null,
      "grid_template_areas": null,
      "grid_template_columns": null,
      "grid_template_rows": null,
      "height": null,
      "justify_content": null,
      "justify_items": null,
      "left": null,
      "margin": null,
      "max_height": null,
      "max_width": null,
      "min_height": null,
      "min_width": null,
      "object_fit": null,
      "object_position": null,
      "order": null,
      "overflow": null,
      "overflow_x": null,
      "overflow_y": null,
      "padding": null,
      "right": null,
      "top": null,
      "visibility": null,
      "width": null
     }
    },
    "5279a52e361e4b368950c0c28c510d5d": {
     "model_module": "@jupyter-widgets/controls",
     "model_name": "HBoxModel",
     "state": {
      "_dom_classes": [],
      "_model_module": "@jupyter-widgets/controls",
      "_model_module_version": "1.5.0",
      "_model_name": "HBoxModel",
      "_view_count": null,
      "_view_module": "@jupyter-widgets/controls",
      "_view_module_version": "1.5.0",
      "_view_name": "HBoxView",
      "box_style": "",
      "children": [
       "IPY_MODEL_788d62fa73f748a1931a07d2e2cefde5",
       "IPY_MODEL_1d6dd7ed39d04bc8818d76ed4d694125"
      ],
      "layout": "IPY_MODEL_d0e83bda2ad043fda1f5bf64447fd409"
     }
    },
    "5507a33e5fd94b87b39223e12c0bd513": {
     "model_module": "@jupyter-widgets/base",
     "model_name": "LayoutModel",
     "state": {
      "_model_module": "@jupyter-widgets/base",
      "_model_module_version": "1.2.0",
      "_model_name": "LayoutModel",
      "_view_count": null,
      "_view_module": "@jupyter-widgets/base",
      "_view_module_version": "1.2.0",
      "_view_name": "LayoutView",
      "align_content": null,
      "align_items": null,
      "align_self": null,
      "border": null,
      "bottom": null,
      "display": null,
      "flex": null,
      "flex_flow": null,
      "grid_area": null,
      "grid_auto_columns": null,
      "grid_auto_flow": null,
      "grid_auto_rows": null,
      "grid_column": null,
      "grid_gap": null,
      "grid_row": null,
      "grid_template_areas": null,
      "grid_template_columns": null,
      "grid_template_rows": null,
      "height": null,
      "justify_content": null,
      "justify_items": null,
      "left": null,
      "margin": null,
      "max_height": null,
      "max_width": null,
      "min_height": null,
      "min_width": null,
      "object_fit": null,
      "object_position": null,
      "order": null,
      "overflow": null,
      "overflow_x": null,
      "overflow_y": null,
      "padding": null,
      "right": null,
      "top": null,
      "visibility": null,
      "width": null
     }
    },
    "66b88e0577e84f90bc82ff94d3b6841f": {
     "model_module": "@jupyter-widgets/controls",
     "model_name": "ProgressStyleModel",
     "state": {
      "_model_module": "@jupyter-widgets/controls",
      "_model_module_version": "1.5.0",
      "_model_name": "ProgressStyleModel",
      "_view_count": null,
      "_view_module": "@jupyter-widgets/base",
      "_view_module_version": "1.2.0",
      "_view_name": "StyleView",
      "bar_color": null,
      "description_width": "initial"
     }
    },
    "788d62fa73f748a1931a07d2e2cefde5": {
     "model_module": "@jupyter-widgets/controls",
     "model_name": "FloatProgressModel",
     "state": {
      "_dom_classes": [],
      "_model_module": "@jupyter-widgets/controls",
      "_model_module_version": "1.5.0",
      "_model_name": "FloatProgressModel",
      "_view_count": null,
      "_view_module": "@jupyter-widgets/controls",
      "_view_module_version": "1.5.0",
      "_view_name": "ProgressView",
      "bar_style": "success",
      "description": "100%",
      "description_tooltip": null,
      "layout": "IPY_MODEL_7dc4b2ed941e4dddbb47fedc91087976",
      "max": 12,
      "min": 0,
      "orientation": "horizontal",
      "style": "IPY_MODEL_66b88e0577e84f90bc82ff94d3b6841f",
      "value": 12
     }
    },
    "7bf9498047004c198fa1c7bb73a939d8": {
     "model_module": "@jupyter-widgets/controls",
     "model_name": "HTMLModel",
     "state": {
      "_dom_classes": [],
      "_model_module": "@jupyter-widgets/controls",
      "_model_module_version": "1.5.0",
      "_model_name": "HTMLModel",
      "_view_count": null,
      "_view_module": "@jupyter-widgets/controls",
      "_view_module_version": "1.5.0",
      "_view_name": "HTMLView",
      "description": "",
      "description_tooltip": null,
      "layout": "IPY_MODEL_c3600db62ee74bc5bb7897434a36fcaf",
      "placeholder": "​",
      "style": "IPY_MODEL_2f273853481c47a4a7a871dcf502396b",
      "value": " 8192/8192 [00:01&lt;00:00, 7937.68it/s]"
     }
    },
    "7dc4b2ed941e4dddbb47fedc91087976": {
     "model_module": "@jupyter-widgets/base",
     "model_name": "LayoutModel",
     "state": {
      "_model_module": "@jupyter-widgets/base",
      "_model_module_version": "1.2.0",
      "_model_name": "LayoutModel",
      "_view_count": null,
      "_view_module": "@jupyter-widgets/base",
      "_view_module_version": "1.2.0",
      "_view_name": "LayoutView",
      "align_content": null,
      "align_items": null,
      "align_self": null,
      "border": null,
      "bottom": null,
      "display": null,
      "flex": null,
      "flex_flow": null,
      "grid_area": null,
      "grid_auto_columns": null,
      "grid_auto_flow": null,
      "grid_auto_rows": null,
      "grid_column": null,
      "grid_gap": null,
      "grid_row": null,
      "grid_template_areas": null,
      "grid_template_columns": null,
      "grid_template_rows": null,
      "height": null,
      "justify_content": null,
      "justify_items": null,
      "left": null,
      "margin": null,
      "max_height": null,
      "max_width": null,
      "min_height": null,
      "min_width": null,
      "object_fit": null,
      "object_position": null,
      "order": null,
      "overflow": null,
      "overflow_x": null,
      "overflow_y": null,
      "padding": null,
      "right": null,
      "top": null,
      "visibility": null,
      "width": null
     }
    },
    "95f844bfd2be49c1a79e61c60eebc9cd": {
     "model_module": "@jupyter-widgets/controls",
     "model_name": "ProgressStyleModel",
     "state": {
      "_model_module": "@jupyter-widgets/controls",
      "_model_module_version": "1.5.0",
      "_model_name": "ProgressStyleModel",
      "_view_count": null,
      "_view_module": "@jupyter-widgets/base",
      "_view_module_version": "1.2.0",
      "_view_name": "StyleView",
      "bar_color": null,
      "description_width": "initial"
     }
    },
    "b5aabb7e9d574e07b8bf80b8216510d1": {
     "model_module": "@jupyter-widgets/base",
     "model_name": "LayoutModel",
     "state": {
      "_model_module": "@jupyter-widgets/base",
      "_model_module_version": "1.2.0",
      "_model_name": "LayoutModel",
      "_view_count": null,
      "_view_module": "@jupyter-widgets/base",
      "_view_module_version": "1.2.0",
      "_view_name": "LayoutView",
      "align_content": null,
      "align_items": null,
      "align_self": null,
      "border": null,
      "bottom": null,
      "display": null,
      "flex": null,
      "flex_flow": null,
      "grid_area": null,
      "grid_auto_columns": null,
      "grid_auto_flow": null,
      "grid_auto_rows": null,
      "grid_column": null,
      "grid_gap": null,
      "grid_row": null,
      "grid_template_areas": null,
      "grid_template_columns": null,
      "grid_template_rows": null,
      "height": null,
      "justify_content": null,
      "justify_items": null,
      "left": null,
      "margin": null,
      "max_height": null,
      "max_width": null,
      "min_height": null,
      "min_width": null,
      "object_fit": null,
      "object_position": null,
      "order": null,
      "overflow": null,
      "overflow_x": null,
      "overflow_y": null,
      "padding": null,
      "right": null,
      "top": null,
      "visibility": null,
      "width": null
     }
    },
    "ba2164be9dc34eae9e21d8698c0c5f5c": {
     "model_module": "@jupyter-widgets/controls",
     "model_name": "FloatProgressModel",
     "state": {
      "_dom_classes": [],
      "_model_module": "@jupyter-widgets/controls",
      "_model_module_version": "1.5.0",
      "_model_name": "FloatProgressModel",
      "_view_count": null,
      "_view_module": "@jupyter-widgets/controls",
      "_view_module_version": "1.5.0",
      "_view_name": "ProgressView",
      "bar_style": "success",
      "description": "100%",
      "description_tooltip": null,
      "layout": "IPY_MODEL_b5aabb7e9d574e07b8bf80b8216510d1",
      "max": 1000,
      "min": 0,
      "orientation": "horizontal",
      "style": "IPY_MODEL_22b8cdf0af524703ba7b2c988fbe53c2",
      "value": 1000
     }
    },
    "bc6e3e5e3272405bb394faf2a67f4f61": {
     "model_module": "@jupyter-widgets/controls",
     "model_name": "HTMLModel",
     "state": {
      "_dom_classes": [],
      "_model_module": "@jupyter-widgets/controls",
      "_model_module_version": "1.5.0",
      "_model_name": "HTMLModel",
      "_view_count": null,
      "_view_module": "@jupyter-widgets/controls",
      "_view_module_version": "1.5.0",
      "_view_name": "HTMLView",
      "description": "",
      "description_tooltip": null,
      "layout": "IPY_MODEL_c3cb4644dc13453a8a55f6ba7b20abd7",
      "placeholder": "​",
      "style": "IPY_MODEL_c6395411251d43fe839963b319343d98",
      "value": " 1000/1000 [00:27&lt;00:00, 36.43it/s, train=9.8, test=8.97]"
     }
    },
    "c3600db62ee74bc5bb7897434a36fcaf": {
     "model_module": "@jupyter-widgets/base",
     "model_name": "LayoutModel",
     "state": {
      "_model_module": "@jupyter-widgets/base",
      "_model_module_version": "1.2.0",
      "_model_name": "LayoutModel",
      "_view_count": null,
      "_view_module": "@jupyter-widgets/base",
      "_view_module_version": "1.2.0",
      "_view_name": "LayoutView",
      "align_content": null,
      "align_items": null,
      "align_self": null,
      "border": null,
      "bottom": null,
      "display": null,
      "flex": null,
      "flex_flow": null,
      "grid_area": null,
      "grid_auto_columns": null,
      "grid_auto_flow": null,
      "grid_auto_rows": null,
      "grid_column": null,
      "grid_gap": null,
      "grid_row": null,
      "grid_template_areas": null,
      "grid_template_columns": null,
      "grid_template_rows": null,
      "height": null,
      "justify_content": null,
      "justify_items": null,
      "left": null,
      "margin": null,
      "max_height": null,
      "max_width": null,
      "min_height": null,
      "min_width": null,
      "object_fit": null,
      "object_position": null,
      "order": null,
      "overflow": null,
      "overflow_x": null,
      "overflow_y": null,
      "padding": null,
      "right": null,
      "top": null,
      "visibility": null,
      "width": null
     }
    },
    "c3cb4644dc13453a8a55f6ba7b20abd7": {
     "model_module": "@jupyter-widgets/base",
     "model_name": "LayoutModel",
     "state": {
      "_model_module": "@jupyter-widgets/base",
      "_model_module_version": "1.2.0",
      "_model_name": "LayoutModel",
      "_view_count": null,
      "_view_module": "@jupyter-widgets/base",
      "_view_module_version": "1.2.0",
      "_view_name": "LayoutView",
      "align_content": null,
      "align_items": null,
      "align_self": null,
      "border": null,
      "bottom": null,
      "display": null,
      "flex": null,
      "flex_flow": null,
      "grid_area": null,
      "grid_auto_columns": null,
      "grid_auto_flow": null,
      "grid_auto_rows": null,
      "grid_column": null,
      "grid_gap": null,
      "grid_row": null,
      "grid_template_areas": null,
      "grid_template_columns": null,
      "grid_template_rows": null,
      "height": null,
      "justify_content": null,
      "justify_items": null,
      "left": null,
      "margin": null,
      "max_height": null,
      "max_width": null,
      "min_height": null,
      "min_width": null,
      "object_fit": null,
      "object_position": null,
      "order": null,
      "overflow": null,
      "overflow_x": null,
      "overflow_y": null,
      "padding": null,
      "right": null,
      "top": null,
      "visibility": null,
      "width": null
     }
    },
    "c6395411251d43fe839963b319343d98": {
     "model_module": "@jupyter-widgets/controls",
     "model_name": "DescriptionStyleModel",
     "state": {
      "_model_module": "@jupyter-widgets/controls",
      "_model_module_version": "1.5.0",
      "_model_name": "DescriptionStyleModel",
      "_view_count": null,
      "_view_module": "@jupyter-widgets/base",
      "_view_module_version": "1.2.0",
      "_view_name": "StyleView",
      "description_width": ""
     }
    },
    "d0e83bda2ad043fda1f5bf64447fd409": {
     "model_module": "@jupyter-widgets/base",
     "model_name": "LayoutModel",
     "state": {
      "_model_module": "@jupyter-widgets/base",
      "_model_module_version": "1.2.0",
      "_model_name": "LayoutModel",
      "_view_count": null,
      "_view_module": "@jupyter-widgets/base",
      "_view_module_version": "1.2.0",
      "_view_name": "LayoutView",
      "align_content": null,
      "align_items": null,
      "align_self": null,
      "border": null,
      "bottom": null,
      "display": null,
      "flex": null,
      "flex_flow": null,
      "grid_area": null,
      "grid_auto_columns": null,
      "grid_auto_flow": null,
      "grid_auto_rows": null,
      "grid_column": null,
      "grid_gap": null,
      "grid_row": null,
      "grid_template_areas": null,
      "grid_template_columns": null,
      "grid_template_rows": null,
      "height": null,
      "justify_content": null,
      "justify_items": null,
      "left": null,
      "margin": null,
      "max_height": null,
      "max_width": null,
      "min_height": null,
      "min_width": null,
      "object_fit": null,
      "object_position": null,
      "order": null,
      "overflow": null,
      "overflow_x": null,
      "overflow_y": null,
      "padding": null,
      "right": null,
      "top": null,
      "visibility": null,
      "width": null
     }
    },
    "e0cd1524296d41bd847d20ae6d5a5961": {
     "model_module": "@jupyter-widgets/controls",
     "model_name": "HBoxModel",
     "state": {
      "_dom_classes": [],
      "_model_module": "@jupyter-widgets/controls",
      "_model_module_version": "1.5.0",
      "_model_name": "HBoxModel",
      "_view_count": null,
      "_view_module": "@jupyter-widgets/controls",
      "_view_module_version": "1.5.0",
      "_view_name": "HBoxView",
      "box_style": "",
      "children": [
       "IPY_MODEL_ba2164be9dc34eae9e21d8698c0c5f5c",
       "IPY_MODEL_bc6e3e5e3272405bb394faf2a67f4f61"
      ],
      "layout": "IPY_MODEL_ff57a11b709a42ec84800244a6912615"
     }
    },
    "e2f07fb705514fd29fada4f9c848273e": {
     "model_module": "@jupyter-widgets/controls",
     "model_name": "HBoxModel",
     "state": {
      "_dom_classes": [],
      "_model_module": "@jupyter-widgets/controls",
      "_model_module_version": "1.5.0",
      "_model_name": "HBoxModel",
      "_view_count": null,
      "_view_module": "@jupyter-widgets/controls",
      "_view_module_version": "1.5.0",
      "_view_name": "HBoxView",
      "box_style": "",
      "children": [
       "IPY_MODEL_edadae79a1fc4a488a8fa06bf439180e",
       "IPY_MODEL_7bf9498047004c198fa1c7bb73a939d8"
      ],
      "layout": "IPY_MODEL_4527585b3d3949e0bafa7d7101569ee3"
     }
    },
    "edadae79a1fc4a488a8fa06bf439180e": {
     "model_module": "@jupyter-widgets/controls",
     "model_name": "FloatProgressModel",
     "state": {
      "_dom_classes": [],
      "_model_module": "@jupyter-widgets/controls",
      "_model_module_version": "1.5.0",
      "_model_name": "FloatProgressModel",
      "_view_count": null,
      "_view_module": "@jupyter-widgets/controls",
      "_view_module_version": "1.5.0",
      "_view_name": "ProgressView",
      "bar_style": "success",
      "description": "100%",
      "description_tooltip": null,
      "layout": "IPY_MODEL_5507a33e5fd94b87b39223e12c0bd513",
      "max": 8192,
      "min": 0,
      "orientation": "horizontal",
      "style": "IPY_MODEL_95f844bfd2be49c1a79e61c60eebc9cd",
      "value": 8192
     }
    },
    "f5552b43d6b24e3e99ac6735fe0b4163": {
     "model_module": "@jupyter-widgets/base",
     "model_name": "LayoutModel",
     "state": {
      "_model_module": "@jupyter-widgets/base",
      "_model_module_version": "1.2.0",
      "_model_name": "LayoutModel",
      "_view_count": null,
      "_view_module": "@jupyter-widgets/base",
      "_view_module_version": "1.2.0",
      "_view_name": "LayoutView",
      "align_content": null,
      "align_items": null,
      "align_self": null,
      "border": null,
      "bottom": null,
      "display": null,
      "flex": null,
      "flex_flow": null,
      "grid_area": null,
      "grid_auto_columns": null,
      "grid_auto_flow": null,
      "grid_auto_rows": null,
      "grid_column": null,
      "grid_gap": null,
      "grid_row": null,
      "grid_template_areas": null,
      "grid_template_columns": null,
      "grid_template_rows": null,
      "height": null,
      "justify_content": null,
      "justify_items": null,
      "left": null,
      "margin": null,
      "max_height": null,
      "max_width": null,
      "min_height": null,
      "min_width": null,
      "object_fit": null,
      "object_position": null,
      "order": null,
      "overflow": null,
      "overflow_x": null,
      "overflow_y": null,
      "padding": null,
      "right": null,
      "top": null,
      "visibility": null,
      "width": null
     }
    },
    "ff57a11b709a42ec84800244a6912615": {
     "model_module": "@jupyter-widgets/base",
     "model_name": "LayoutModel",
     "state": {
      "_model_module": "@jupyter-widgets/base",
      "_model_module_version": "1.2.0",
      "_model_name": "LayoutModel",
      "_view_count": null,
      "_view_module": "@jupyter-widgets/base",
      "_view_module_version": "1.2.0",
      "_view_name": "LayoutView",
      "align_content": null,
      "align_items": null,
      "align_self": null,
      "border": null,
      "bottom": null,
      "display": null,
      "flex": null,
      "flex_flow": null,
      "grid_area": null,
      "grid_auto_columns": null,
      "grid_auto_flow": null,
      "grid_auto_rows": null,
      "grid_column": null,
      "grid_gap": null,
      "grid_row": null,
      "grid_template_areas": null,
      "grid_template_columns": null,
      "grid_template_rows": null,
      "height": null,
      "justify_content": null,
      "justify_items": null,
      "left": null,
      "margin": null,
      "max_height": null,
      "max_width": null,
      "min_height": null,
      "min_width": null,
      "object_fit": null,
      "object_position": null,
      "order": null,
      "overflow": null,
      "overflow_x": null,
      "overflow_y": null,
      "padding": null,
      "right": null,
      "top": null,
      "visibility": null,
      "width": null
     }
    }
   }
  }
 },
 "nbformat": 4,
 "nbformat_minor": 1
}
